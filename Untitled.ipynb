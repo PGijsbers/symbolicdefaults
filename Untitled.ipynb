{
 "cells": [
  {
   "cell_type": "markdown",
   "metadata": {},
   "source": [
    "# Evaluation of Surrogate Models"
   ]
  },
  {
   "cell_type": "markdown",
   "metadata": {},
   "source": [
    "Currently we use `RandomForestRegressor(n_estimators=100)` to train a surrogate model mapping hyperparameters to performance.\n",
    "Before training the performance is normalized s.t. the worst recorded performances on the task is 0, and the best recorded performance is 1.\n",
    "For each task, we train a separate surrogate model."
   ]
  },
  {
   "cell_type": "markdown",
   "metadata": {},
   "source": [
    "A `Problem` object is created, which is a wrapper for a configuration that specifies which hyperparameters to model, and which experiment data or surrogate models to load."
   ]
  },
  {
   "cell_type": "code",
   "execution_count": 4,
   "metadata": {},
   "outputs": [],
   "source": [
    "import sys\n",
    "sys.path.append(\"./src/\")\n",
    "from problem import Problem\n",
    "\n",
    "problem = Problem(\"mlr_svm\")"
   ]
  },
  {
   "cell_type": "markdown",
   "metadata": {},
   "source": [
    "We can now expect the underlying experiment data for the \"mlr svm\" problem:"
   ]
  },
  {
   "cell_type": "code",
   "execution_count": 6,
   "metadata": {},
   "outputs": [
    {
     "data": {
      "text/html": [
       "<div>\n",
       "<style scoped>\n",
       "    .dataframe tbody tr th:only-of-type {\n",
       "        vertical-align: middle;\n",
       "    }\n",
       "\n",
       "    .dataframe tbody tr th {\n",
       "        vertical-align: top;\n",
       "    }\n",
       "\n",
       "    .dataframe thead th {\n",
       "        text-align: right;\n",
       "    }\n",
       "</style>\n",
       "<table border=\"1\" class=\"dataframe\">\n",
       "  <thead>\n",
       "    <tr style=\"text-align: right;\">\n",
       "      <th></th>\n",
       "      <th>task_id</th>\n",
       "      <th>dataset</th>\n",
       "      <th>learner</th>\n",
       "      <th>target</th>\n",
       "      <th>perf.logloss</th>\n",
       "      <th>traintime</th>\n",
       "      <th>predicttime</th>\n",
       "      <th>kernel</th>\n",
       "      <th>cost</th>\n",
       "      <th>gamma</th>\n",
       "      <th>tolerance</th>\n",
       "      <th>shrinking</th>\n",
       "      <th>num.impute.selected.cpo</th>\n",
       "      <th>fitted</th>\n",
       "      <th>degree</th>\n",
       "    </tr>\n",
       "  </thead>\n",
       "  <tbody>\n",
       "    <tr>\n",
       "      <th>462941</th>\n",
       "      <td>41.0</td>\n",
       "      <td>soybean</td>\n",
       "      <td>classif.svm</td>\n",
       "      <td>-0.444991</td>\n",
       "      <td>1.773971</td>\n",
       "      <td>7.301</td>\n",
       "      <td>0.565</td>\n",
       "      <td>radial</td>\n",
       "      <td>0.003588</td>\n",
       "      <td>0.117657</td>\n",
       "      <td>0.000292</td>\n",
       "      <td>FALSE</td>\n",
       "      <td>impute.median</td>\n",
       "      <td>FALSE</td>\n",
       "      <td>NaN</td>\n",
       "    </tr>\n",
       "    <tr>\n",
       "      <th>33494</th>\n",
       "      <td>3918.0</td>\n",
       "      <td>pc1</td>\n",
       "      <td>classif.svm</td>\n",
       "      <td>-0.070328</td>\n",
       "      <td>0.241252</td>\n",
       "      <td>2.338</td>\n",
       "      <td>0.336</td>\n",
       "      <td>radial</td>\n",
       "      <td>0.001415</td>\n",
       "      <td>0.000257</td>\n",
       "      <td>0.045329</td>\n",
       "      <td>TRUE</td>\n",
       "      <td>impute.median</td>\n",
       "      <td>FALSE</td>\n",
       "      <td>NaN</td>\n",
       "    </tr>\n",
       "    <tr>\n",
       "      <th>24035</th>\n",
       "      <td>3913.0</td>\n",
       "      <td>kc2</td>\n",
       "      <td>classif.svm.radial</td>\n",
       "      <td>-0.166546</td>\n",
       "      <td>0.387214</td>\n",
       "      <td>2.228</td>\n",
       "      <td>0.348</td>\n",
       "      <td>radial</td>\n",
       "      <td>0.006624</td>\n",
       "      <td>0.001570</td>\n",
       "      <td>0.009020</td>\n",
       "      <td>FALSE</td>\n",
       "      <td>impute.hist</td>\n",
       "      <td>FALSE</td>\n",
       "      <td>NaN</td>\n",
       "    </tr>\n",
       "    <tr>\n",
       "      <th>357848</th>\n",
       "      <td>146800.0</td>\n",
       "      <td>MiceProtein</td>\n",
       "      <td>classif.svm</td>\n",
       "      <td>-0.276852</td>\n",
       "      <td>1.088780</td>\n",
       "      <td>18.392</td>\n",
       "      <td>0.826</td>\n",
       "      <td>radial</td>\n",
       "      <td>0.026844</td>\n",
       "      <td>0.007687</td>\n",
       "      <td>0.005765</td>\n",
       "      <td>TRUE</td>\n",
       "      <td>impute.median</td>\n",
       "      <td>FALSE</td>\n",
       "      <td>NaN</td>\n",
       "    </tr>\n",
       "    <tr>\n",
       "      <th>539842</th>\n",
       "      <td>14954.0</td>\n",
       "      <td>cylinder.bands</td>\n",
       "      <td>classif.svm.radial</td>\n",
       "      <td>-0.268519</td>\n",
       "      <td>0.528907</td>\n",
       "      <td>3.964</td>\n",
       "      <td>0.587</td>\n",
       "      <td>radial</td>\n",
       "      <td>0.256354</td>\n",
       "      <td>0.003549</td>\n",
       "      <td>0.097725</td>\n",
       "      <td>TRUE</td>\n",
       "      <td>impute.mean</td>\n",
       "      <td>FALSE</td>\n",
       "      <td>NaN</td>\n",
       "    </tr>\n",
       "  </tbody>\n",
       "</table>\n",
       "</div>"
      ],
      "text/plain": [
       "         task_id         dataset             learner    target  perf.logloss  \\\n",
       "462941      41.0         soybean         classif.svm -0.444991      1.773971   \n",
       "33494     3918.0             pc1         classif.svm -0.070328      0.241252   \n",
       "24035     3913.0             kc2  classif.svm.radial -0.166546      0.387214   \n",
       "357848  146800.0     MiceProtein         classif.svm -0.276852      1.088780   \n",
       "539842   14954.0  cylinder.bands  classif.svm.radial -0.268519      0.528907   \n",
       "\n",
       "        traintime  predicttime  kernel      cost     gamma  tolerance  \\\n",
       "462941      7.301        0.565  radial  0.003588  0.117657   0.000292   \n",
       "33494       2.338        0.336  radial  0.001415  0.000257   0.045329   \n",
       "24035       2.228        0.348  radial  0.006624  0.001570   0.009020   \n",
       "357848     18.392        0.826  radial  0.026844  0.007687   0.005765   \n",
       "539842      3.964        0.587  radial  0.256354  0.003549   0.097725   \n",
       "\n",
       "       shrinking num.impute.selected.cpo fitted  degree  \n",
       "462941     FALSE           impute.median  FALSE     NaN  \n",
       "33494       TRUE           impute.median  FALSE     NaN  \n",
       "24035      FALSE             impute.hist  FALSE     NaN  \n",
       "357848      TRUE           impute.median  FALSE     NaN  \n",
       "539842      TRUE             impute.mean  FALSE     NaN  "
      ]
     },
     "execution_count": 6,
     "metadata": {},
     "output_type": "execute_result"
    }
   ],
   "source": [
    "problem.data.sample(5)"
   ]
  },
  {
   "cell_type": "markdown",
   "metadata": {},
   "source": [
    "We can also access the metadata for each task (though we don't need it here):"
   ]
  },
  {
   "cell_type": "code",
   "execution_count": 7,
   "metadata": {},
   "outputs": [
    {
     "data": {
      "text/html": [
       "<div>\n",
       "<style scoped>\n",
       "    .dataframe tbody tr th:only-of-type {\n",
       "        vertical-align: middle;\n",
       "    }\n",
       "\n",
       "    .dataframe tbody tr th {\n",
       "        vertical-align: top;\n",
       "    }\n",
       "\n",
       "    .dataframe thead th {\n",
       "        text-align: right;\n",
       "    }\n",
       "</style>\n",
       "<table border=\"1\" class=\"dataframe\">\n",
       "  <thead>\n",
       "    <tr style=\"text-align: right;\">\n",
       "      <th></th>\n",
       "      <th>m</th>\n",
       "      <th>n</th>\n",
       "      <th>p</th>\n",
       "      <th>rc</th>\n",
       "      <th>mcp</th>\n",
       "      <th>mkd</th>\n",
       "      <th>xvar</th>\n",
       "    </tr>\n",
       "    <tr>\n",
       "      <th>task_id</th>\n",
       "      <th></th>\n",
       "      <th></th>\n",
       "      <th></th>\n",
       "      <th></th>\n",
       "      <th></th>\n",
       "      <th></th>\n",
       "      <th></th>\n",
       "    </tr>\n",
       "  </thead>\n",
       "  <tbody>\n",
       "    <tr>\n",
       "      <th>14</th>\n",
       "      <td>10</td>\n",
       "      <td>2000</td>\n",
       "      <td>76</td>\n",
       "      <td>0.000000</td>\n",
       "      <td>0.100000</td>\n",
       "      <td>0.006712</td>\n",
       "      <td>1.000000</td>\n",
       "    </tr>\n",
       "    <tr>\n",
       "      <th>3913</th>\n",
       "      <td>2</td>\n",
       "      <td>522</td>\n",
       "      <td>21</td>\n",
       "      <td>0.000000</td>\n",
       "      <td>0.795019</td>\n",
       "      <td>0.116184</td>\n",
       "      <td>1.000000</td>\n",
       "    </tr>\n",
       "    <tr>\n",
       "      <th>31</th>\n",
       "      <td>2</td>\n",
       "      <td>1000</td>\n",
       "      <td>61</td>\n",
       "      <td>0.885246</td>\n",
       "      <td>0.700000</td>\n",
       "      <td>0.008274</td>\n",
       "      <td>0.282451</td>\n",
       "    </tr>\n",
       "    <tr>\n",
       "      <th>9970</th>\n",
       "      <td>2</td>\n",
       "      <td>1212</td>\n",
       "      <td>100</td>\n",
       "      <td>0.000000</td>\n",
       "      <td>0.500000</td>\n",
       "      <td>0.651083</td>\n",
       "      <td>1.000000</td>\n",
       "    </tr>\n",
       "    <tr>\n",
       "      <th>3</th>\n",
       "      <td>2</td>\n",
       "      <td>3196</td>\n",
       "      <td>73</td>\n",
       "      <td>1.000000</td>\n",
       "      <td>0.522215</td>\n",
       "      <td>0.008077</td>\n",
       "      <td>0.249953</td>\n",
       "    </tr>\n",
       "  </tbody>\n",
       "</table>\n",
       "</div>"
      ],
      "text/plain": [
       "          m     n    p        rc       mcp       mkd      xvar\n",
       "task_id                                                       \n",
       "14       10  2000   76  0.000000  0.100000  0.006712  1.000000\n",
       "3913      2   522   21  0.000000  0.795019  0.116184  1.000000\n",
       "31        2  1000   61  0.885246  0.700000  0.008274  0.282451\n",
       "9970      2  1212  100  0.000000  0.500000  0.651083  1.000000\n",
       "3         2  3196   73  1.000000  0.522215  0.008077  0.249953"
      ]
     },
     "execution_count": 7,
     "metadata": {},
     "output_type": "execute_result"
    }
   ],
   "source": [
    "problem.metadata.sample(5)"
   ]
  },
  {
   "cell_type": "markdown",
   "metadata": {},
   "source": [
    "And access the surrogate model by task:"
   ]
  },
  {
   "cell_type": "code",
   "execution_count": 9,
   "metadata": {},
   "outputs": [
    {
     "data": {
      "text/plain": [
       "RandomForestRegressor(bootstrap=True, ccp_alpha=0.0, criterion='mse',\n",
       "                      max_depth=None, max_features='auto', max_leaf_nodes=None,\n",
       "                      max_samples=None, min_impurity_decrease=0.0,\n",
       "                      min_impurity_split=None, min_samples_leaf=1,\n",
       "                      min_samples_split=2, min_weight_fraction_leaf=0.0,\n",
       "                      n_estimators=100, n_jobs=1, oob_score=False,\n",
       "                      random_state=None, verbose=0, warm_start=False)"
      ]
     },
     "execution_count": 9,
     "metadata": {},
     "output_type": "execute_result"
    }
   ],
   "source": [
    "problem.surrogates[3893]"
   ]
  },
  {
   "cell_type": "markdown",
   "metadata": {},
   "source": [
    "We will evaluate each surrogate model by its rmse, Spearman's $\\rho$ and Kendall's $\\tau$.\n",
    "We use 10-fold cross-validation to obtain normalized score predictions for a surrogate model."
   ]
  },
  {
   "cell_type": "code",
   "execution_count": 107,
   "metadata": {},
   "outputs": [],
   "source": [
    "from scipy.stats import kendalltau, spearmanr, rankdata\n",
    "from sklearn.metrics import mean_squared_error\n",
    "import math"
   ]
  },
  {
   "cell_type": "code",
   "execution_count": 130,
   "metadata": {},
   "outputs": [],
   "source": [
    "from sklearn.model_selection import cross_val_predict\n",
    "from sklearn.ensemble import RandomForestRegressor\n",
    "\n",
    "cache = {}\n",
    "\n",
    "def scores_for_task(problem, task: int, on_training_data=False):\n",
    "    \"\"\" returns surrogate model predicted normalized scores, and normalized observed scores. \"\"\"\n",
    "    if not on_training_data and (problem, task) in cache:\n",
    "        return cache[(problem, task)]\n",
    "    \n",
    "    task_experiments = problem.data[problem.data.task_id == task]\n",
    "    task_configurations = task_experiments[problem.hyperparameters]\n",
    "    y = task_experiments.target\n",
    "    normalized_scores = (y - min(y)) / (max(y) - min(y))\n",
    "    \n",
    "    if on_training_data:\n",
    "        surrogate_scores = problem.surrogates[task].predict(task_configurations)\n",
    "    else:\n",
    "        surrogate = RandomForestRegressor(n_estimators=100, n_jobs=-1)\n",
    "        surrogate_scores = cross_val_predict(surrogate, task_configurations, normalized_scores, cv=10)\n",
    "        cache[(problem, task)] = (surrogate_scores, normalized_scores)\n",
    "    return surrogate_scores, normalized_scores"
   ]
  },
  {
   "cell_type": "code",
   "execution_count": 133,
   "metadata": {},
   "outputs": [],
   "source": [
    "def calculate_rank_metrics(y_true, y_hat):\n",
    "    \"\"\" Calculate Spearman's rho and Kendall's tau based on true and predicted model performance.\n",
    "    \n",
    "    Assumes that same index in y_true and y_hat represent the same sample.\n",
    "    \n",
    "    returns:\n",
    "        - Spearman's rho\n",
    "        - two-sided pvalue for rho\n",
    "        - Kendall's tau\n",
    "        - two-sided pvalue for tau\n",
    "    \"\"\"\n",
    "    # Calculate orders\n",
    "    true_order = rankdata(y_true, method='average')\n",
    "    pred_order = rankdata(y_hat, method='average')\n",
    "    \n",
    "    rho, p_rho = spearmanr(true_order, pred_order)\n",
    "    tau, p_tau = kendalltau(true_order, pred_order)\n",
    "    return rho, p_rho, tau, p_tau  "
   ]
  },
  {
   "cell_type": "code",
   "execution_count": 151,
   "metadata": {},
   "outputs": [],
   "source": [
    "%matplotlib inline\n",
    "import seaborn as sns\n",
    "from IPython.display import display\n",
    "\n",
    "def plot_scores(problem, task: int):\n",
    "    surrogate_scores, actual_scores = scores_for_task(problem, task)\n",
    "    _ = sns.distplot(surrogate_scores, rug=True, kde=False, label='surrogate')\n",
    "    ax = sns.distplot(actual_scores, rug=True, kde=False, label='actual')\n",
    "    _ = ax.set(xlabel='normalized score', ylabel='configurations', title=f'task {task}')\n",
    "    # matplotlib inline will display the plot automagically"
   ]
  },
  {
   "cell_type": "code",
   "execution_count": null,
   "metadata": {},
   "outputs": [],
   "source": [
    "def plot_score_difference"
   ]
  },
  {
   "cell_type": "code",
   "execution_count": 152,
   "metadata": {},
   "outputs": [],
   "source": [
    "def plot_task_summary(problem, task):\n",
    "    predicted, actual = scores_for_task(problem, task)\n",
    "    rho, prho, tau, ptau = calculate_rank_metrics(actual, predicted)\n",
    "    rmse = math.sqrt(mean_squared_error(actual, predicted))\n",
    "    print(f\"Surrogate model summary for task {task}:\")\n",
    "    print(f\"Rho: {rho} (p={prho})\")\n",
    "    print(f\"Tau: {tau} (p={ptau})\")\n",
    "    print(f\"rmse: {rmse}\")\n",
    "    print(f\"5th percentile: {(actual - predicted).quantile(0.05)}\")\n",
    "    print(f\"95th percentile: {(actual - predicted).quantile(0.95)}\")\n",
    "    plot_scores(problem, task)"
   ]
  },
  {
   "cell_type": "code",
   "execution_count": 153,
   "metadata": {},
   "outputs": [
    {
     "name": "stdout",
     "output_type": "stream",
     "text": [
      "Surrogate model summary for task 3893:\n",
      "Rho: 0.9479526137086451 (p=2.0080198703908196e-295)\n",
      "Tau: 0.8624973442500307 (p=1.5659159343753862e-187)\n",
      "rmse: 0.03908682912390791\n",
      "5th percentile: -0.025526288724424424\n",
      "95th percentile: 0.02450015765948998\n"
     ]
    },
    {
     "data": {
      "image/png": "[encoded data removed]",
      "text/plain": [
       "<Figure size 432x288 with 1 Axes>"
      ]
     },
     "metadata": {
      "needs_background": "light"
     },
     "output_type": "display_data"
    }
   ],
   "source": [
    "plot_task_summary(problem, task)"
   ]
  },
  {
   "cell_type": "code",
   "execution_count": 171,
   "metadata": {},
   "outputs": [],
   "source": [
    "surrogate, actual = scores_for_task(problem, 3893)\n",
    "d_score = actual - surrogate\n",
    "\n",
    "task_experiments = problem.data[problem.data.task_id == task]\n",
    "task_configurations = task_experiments[problem.hyperparameters]\n",
    "df = task_configurations.assign(d_score=d_score)\n",
    "\n"
   ]
  },
  {
   "cell_type": "code",
   "execution_count": 188,
   "metadata": {},
   "outputs": [
    {
     "data": {
      "image/png": "[encoded data removed]",
      "text/plain": [
       "<Figure size 432x288 with 2 Axes>"
      ]
     },
     "metadata": {
      "needs_background": "light"
     },
     "output_type": "display_data"
    }
   ],
   "source": [
    "data = df.pivot(index='gamma', columns='cost', values='d_score')\n",
    "ax = sns.heatmap(data)"
   ]
  },
  {
   "cell_type": "code",
   "execution_count": null,
   "metadata": {},
   "outputs": [],
   "source": [
    "df[df.]"
   ]
  },
  {
   "cell_type": "code",
   "execution_count": 185,
   "metadata": {},
   "outputs": [
    {
     "data": {
      "text/plain": [
       "13242000.0"
      ]
     },
     "execution_count": 185,
     "metadata": {},
     "output_type": "execute_result"
    }
   ],
   "source": [
    "max(df.cost)"
   ]
  },
  {
   "cell_type": "code",
   "execution_count": 186,
   "metadata": {},
   "outputs": [
    {
     "data": {
      "text/html": [
       "<div>\n",
       "<style scoped>\n",
       "    .dataframe tbody tr th:only-of-type {\n",
       "        vertical-align: middle;\n",
       "    }\n",
       "\n",
       "    .dataframe tbody tr th {\n",
       "        vertical-align: top;\n",
       "    }\n",
       "\n",
       "    .dataframe thead th {\n",
       "        text-align: right;\n",
       "    }\n",
       "</style>\n",
       "<table border=\"1\" class=\"dataframe\">\n",
       "  <thead>\n",
       "    <tr style=\"text-align: right;\">\n",
       "      <th></th>\n",
       "      <th>cost</th>\n",
       "      <th>gamma</th>\n",
       "      <th>d_score</th>\n",
       "    </tr>\n",
       "  </thead>\n",
       "  <tbody>\n",
       "    <tr>\n",
       "      <th>318</th>\n",
       "      <td>13242000.0</td>\n",
       "      <td>5.34285</td>\n",
       "      <td>-0.000004</td>\n",
       "    </tr>\n",
       "  </tbody>\n",
       "</table>\n",
       "</div>"
      ],
      "text/plain": [
       "           cost    gamma   d_score\n",
       "318  13242000.0  5.34285 -0.000004"
      ]
     },
     "execution_count": 186,
     "metadata": {},
     "output_type": "execute_result"
    }
   ],
   "source": [
    "df[df.cost==13242000]"
   ]
  },
  {
   "cell_type": "code",
   "execution_count": null,
   "metadata": {},
   "outputs": [],
   "source": []
  },
  {
   "cell_type": "code",
   "execution_count": null,
   "metadata": {},
   "outputs": [],
   "source": []
  },
  {
   "cell_type": "code",
   "execution_count": null,
   "metadata": {},
   "outputs": [],
   "source": []
  }
 ],
 "metadata": {
  "kernelspec": {
   "display_name": "Python 3",
   "language": "python",
   "name": "python3"
  },
  "language_info": {
   "codemirror_mode": {
    "name": "ipython",
    "version": 3
   },
   "file_extension": ".py",
   "mimetype": "text/x-python",
   "name": "python",
   "nbconvert_exporter": "python",
   "pygments_lexer": "ipython3",
   "version": "3.6.10"
  }
 },
 "nbformat": 4,
 "nbformat_minor": 4
}
