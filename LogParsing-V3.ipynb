{
 "cells": [
  {
   "cell_type": "code",
   "execution_count": 27,
   "metadata": {},
   "outputs": [],
   "source": [
    "from typing import Tuple, List\n",
    "from collections import defaultdict\n",
    "import matplotlib.pyplot as plt\n",
    "import seaborn as sns\n",
    "import numpy as np\n",
    "import pandas as pd\n",
    "import os\n",
    "\n",
    "sns.set_style('ticks')"
   ]
  },
  {
   "cell_type": "markdown",
   "metadata": {},
   "source": [
    "## Overview\n",
    "\n",
    "This file aims to analyze results and create figures for the Experiments.\n",
    "The class **RunLog** collects logs for a single **Problem** across search strategies:\n",
    "\n",
    "**Problems**: svm, xgboost, rpart, glmnet, knn, rf.\n",
    "**Search Strategies**: \n",
    "- mupluslambda: EA described in the paper\n",
    "- random_search: Random Search on the Grammar employed for the EA. Used as a baseline\n",
    "- True (constants_only): EA, but only constant, non-symbolic terminals\n",
    "\n",
    "Each RunLog contains several replications of each search strategy on each task, identifyable by the 'run' column.\n"
   ]
  },
  {
   "cell_type": "code",
   "execution_count": 211,
   "metadata": {},
   "outputs": [],
   "source": [
    "class Runlog:\n",
    "    \"\"\"\n",
    "    Read logs for a given problem across several searches\n",
    "    \"\"\"\n",
    "    def __init__(self, problem: str, searches: List, benchmarks=None, ignore=None):\n",
    "        self.problem = problem\n",
    "        self.searches = searches\n",
    "        self.benchmarks = benchmarks\n",
    "    \n",
    "    @property\n",
    "    def data(self):\n",
    "        df = pd.DataFrame([])\n",
    "        for search in self.searches:\n",
    "            df = df.append(read_run_logs(problem=self.problem, search=search, target=\"evaluations\"))\n",
    "        return df\n",
    "    \n",
    "    @property\n",
    "    def trace_data(self):\n",
    "        df = pd.DataFrame([])\n",
    "        for search in self.searches:\n",
    "            df = df.append(read_trace_logs(problem=self.problem, search=search))\n",
    "        return df\n",
    "\n",
    "    def pick_final_expression(self, method = \"best\", **kwargs):\n",
    "        \"\"\"\n",
    "        Pick final expression on \"in\" data\n",
    "        :method: either \"relative\", \"shortest\" or \"best\"\n",
    "        \"\"\"\n",
    "        df = self.data.copy()\n",
    "        df = df[df['expression'].str.contains(',')]\n",
    "        df = df[df.endresult]\n",
    "        df = df.pivot_table(index=[\"run\", \"task\", \"gen\", \"length\", \"problem\", \"search\", \"expression\"], columns=\"inout\", values=\"score\")\n",
    "        df = df.reset_index()\n",
    "        if method == \"shortest\":\n",
    "            out = df[df.groupby(['run', 'search'])['length'].transform(min) == df['length']]\n",
    "        elif method == \"relative\":\n",
    "            out = df.loc[[pick_relative(group, **kwargs) for name, group in df.groupby(['run', 'search'])]]\n",
    "        else:\n",
    "            out = df[df.groupby(['run', 'search'])['in'].transform(max) == df['in']]\n",
    "        return out\n",
    "    \n",
    "    def get_benchmark_performances(self):\n",
    "        \"\"\"\n",
    "        Load benchmark performances\n",
    "        \"\"\"\n",
    "        df = self.data[~self.data['expression'].str.contains(',')]\n",
    "        df = df.pivot_table(index=[\"run\", \"task\",\"problem\", \"search\", \"expression\"], columns=\"inout\", values=\"score\")\n",
    "        df = df.reset_index()\n",
    "        df = df[[\"task\", \"problem\", \"expression\", \"in\", \"out\"]]\n",
    "        df.drop_duplicates(inplace=True)\n",
    "        return(df)\n",
    "    \n",
    "def pick_relative(x, eps=0.01, max_steps=1):\n",
    "    \"\"\"\n",
    "    Pick by relative improvement; \n",
    "    Consider only at most `max_steps` longer, if better by 'eps', break if not\n",
    "    \"\"\"\n",
    "    x = x.copy()\n",
    "    if len(x) == 1:\n",
    "        return(x.index.values[0])\n",
    "    \n",
    "    use_ix, length, score = None, 0, 0\n",
    "    for ix, rw in x.iterrows():\n",
    "        if rw['length'] - length > max_steps:\n",
    "            break  # candidates are too big\n",
    "        if rw['in'] - score < eps:\n",
    "            continue  # not enough increase\n",
    "        use_ix, length, score = ix, rw['length'], rw['in']        \n",
    "    return use_ix\n",
    "\n",
    "def read_run_logs(problem:str, search: str, target: str):\n",
    "    \"\"\"\n",
    "    Read all log-files for a given problem x search combination\n",
    "    \"\"\"\n",
    "    log_dir = f\"runs/results/{problem}_{search}/\"\n",
    "    dirs = [os.path.join(log_dir, f) for f in os.listdir(log_dir)]\n",
    "    df = pd.DataFrame([])\n",
    "    for dir in dirs:\n",
    "        file = f\"{dir}/{target}.csv\"\n",
    "        if os.path.isfile(file):\n",
    "            tmpdf = pd.read_csv(, sep=\";\")\n",
    "            tmpdf['search'] = search\n",
    "            # Pivot random search, rename constants only\n",
    "            if search == \"random_search\":\n",
    "                tmpdf['search'] = tmpdf.apply(lambda x: x['search']+'_'+str((x['gen'] + 1)*100), axis=1)  \n",
    "                tmpdf['endresult'] = True\n",
    "            elif search == \"True\":\n",
    "                tmpdf['search'] = \"constants_only\"\n",
    "            df = df.append(tmpdf)\n",
    "    # Rename and add problem\n",
    "    if problem == \"rf\": \n",
    "        df['problem'] = \"random forest\"\n",
    "    else: \n",
    "        df['problem'] = problem\n",
    "    return df\n",
    "\n",
    "def read_trace_logs(problem:str, search: str):\n",
    "    \"\"\"\n",
    "    Read \"progress\" log-files for a given problem x search combination (Optimization Traces)\n",
    "    \"\"\"\n",
    "    log_dir = f\"runs/results/{problem}_{search}/\"\n",
    "    dirs = [os.path.join(log_dir, f) for f in os.listdir(log_dir)]\n",
    "    df = pd.DataFrame([])\n",
    "    for dir in dirs:\n",
    "        file = f\"{dir}/progress.csv\"\n",
    "        if os.path.isfile(file):\n",
    "            tmpdf = pd.read_csv(file, sep=\";\")\n",
    "            tmpdf['search'] = search\n",
    "            if search == \"True\":\n",
    "                tmpdf['search'] = \"constants_only\"\n",
    "            elif search == \"random_search\":\n",
    "                tmpdf['generation'] = (tmpdf['generation'] + 1)*100\n",
    "            df = df.append(tmpdf)\n",
    "    # Rename and add problem\n",
    "    if problem == \"rf\": \n",
    "        df['problem'] = \"random forest\"\n",
    "    else: \n",
    "        df['problem'] = problem\n",
    "    return df\n"
   ]
  },
  {
   "cell_type": "code",
   "execution_count": 212,
   "metadata": {},
   "outputs": [],
   "source": [
    "# Collect logs for all problems\n",
    "problems = ['svm', 'glmnet', 'rf', 'rpart']\n",
    "search_strategies = [\"mupluslambda\", \"random_search\", \"True\"]\n",
    "log = {}\n",
    "for problem in problems:\n",
    "    log[problem] = Runlog(problem, search_strategies)"
   ]
  },
  {
   "cell_type": "code",
   "execution_count": 213,
   "metadata": {
    "scrolled": true
   },
   "outputs": [
    {
     "data": {
      "text/html": [
       "<div>\n",
       "<style scoped>\n",
       "    .dataframe tbody tr th:only-of-type {\n",
       "        vertical-align: middle;\n",
       "    }\n",
       "\n",
       "    .dataframe tbody tr th {\n",
       "        vertical-align: top;\n",
       "    }\n",
       "\n",
       "    .dataframe thead th {\n",
       "        text-align: right;\n",
       "    }\n",
       "</style>\n",
       "<table border=\"1\" class=\"dataframe\">\n",
       "  <thead>\n",
       "    <tr style=\"text-align: right;\">\n",
       "      <th>inout</th>\n",
       "      <th>task</th>\n",
       "      <th>length</th>\n",
       "      <th>problem</th>\n",
       "      <th>search</th>\n",
       "      <th>expression</th>\n",
       "      <th>in</th>\n",
       "      <th>out</th>\n",
       "    </tr>\n",
       "  </thead>\n",
       "  <tbody>\n",
       "    <tr>\n",
       "      <th>1</th>\n",
       "      <td>45</td>\n",
       "      <td>2</td>\n",
       "      <td>svm</td>\n",
       "      <td>mupluslambda</td>\n",
       "      <td>make_tuple(m, truediv(mkd, xvar))</td>\n",
       "      <td>0.9009</td>\n",
       "      <td>0.9969</td>\n",
       "    </tr>\n",
       "    <tr>\n",
       "      <th>3</th>\n",
       "      <td>58</td>\n",
       "      <td>1</td>\n",
       "      <td>svm</td>\n",
       "      <td>random_search_100</td>\n",
       "      <td>make_tuple(p, mkd)</td>\n",
       "      <td>0.8902</td>\n",
       "      <td>0.9328</td>\n",
       "    </tr>\n",
       "    <tr>\n",
       "      <th>6</th>\n",
       "      <td>58</td>\n",
       "      <td>1</td>\n",
       "      <td>svm</td>\n",
       "      <td>random_search_200</td>\n",
       "      <td>make_tuple(p, mkd)</td>\n",
       "      <td>0.8902</td>\n",
       "      <td>0.9328</td>\n",
       "    </tr>\n",
       "    <tr>\n",
       "      <th>9</th>\n",
       "      <td>58</td>\n",
       "      <td>1</td>\n",
       "      <td>svm</td>\n",
       "      <td>random_search_300</td>\n",
       "      <td>make_tuple(p, mkd)</td>\n",
       "      <td>0.8902</td>\n",
       "      <td>0.9328</td>\n",
       "    </tr>\n",
       "    <tr>\n",
       "      <th>12</th>\n",
       "      <td>53</td>\n",
       "      <td>1</td>\n",
       "      <td>svm</td>\n",
       "      <td>constants_only</td>\n",
       "      <td>make_tuple(1103, 0.0013402821363702943)</td>\n",
       "      <td>0.8617</td>\n",
       "      <td>0.9262</td>\n",
       "    </tr>\n",
       "  </tbody>\n",
       "</table>\n",
       "</div>"
      ],
      "text/plain": [
       "inout  task  length problem             search  \\\n",
       "1        45       2     svm       mupluslambda   \n",
       "3        58       1     svm  random_search_100   \n",
       "6        58       1     svm  random_search_200   \n",
       "9        58       1     svm  random_search_300   \n",
       "12       53       1     svm     constants_only   \n",
       "\n",
       "inout                               expression      in     out  \n",
       "1            make_tuple(m, truediv(mkd, xvar))  0.9009  0.9969  \n",
       "3                           make_tuple(p, mkd)  0.8902  0.9328  \n",
       "6                           make_tuple(p, mkd)  0.8902  0.9328  \n",
       "9                           make_tuple(p, mkd)  0.8902  0.9328  \n",
       "12     make_tuple(1103, 0.0013402821363702943)  0.8617  0.9262  "
      ]
     },
     "execution_count": 213,
     "metadata": {},
     "output_type": "execute_result"
    }
   ],
   "source": [
    "# Get final expression acording to some pick strategy data. \n",
    "# Columns 'in' and 'out' refer to in- and out-of-sample performance\n",
    "df = pd.DataFrame([])\n",
    "\n",
    "for k in log.keys():\n",
    "    pdf = log[k].pick_final_expression(\"relative\")\n",
    "    pdf['problem'] = k\n",
    "    df = df.append(pdf)\n",
    "df[['task', 'length', 'problem', 'search', 'expression', 'in', 'out']].head()"
   ]
  },
  {
   "cell_type": "markdown",
   "metadata": {},
   "source": [
    "### Experiment 1:Efficacy of EA algorithm: \n",
    "Boxplot of mu+lambda EA versus random search.\n",
    "We only analyze performance on hold-out data, as this is what we are interested in\n",
    "Open Question: Do we average before plotting?"
   ]
  },
  {
   "cell_type": "markdown",
   "metadata": {},
   "source": [
    "### Performance\n",
    "The following boxplot shows normalized accuracy across problems and search strategies\n",
    "\n",
    "**1. Un-aggregated (across all replications):**"
   ]
  },
  {
   "cell_type": "code",
   "execution_count": 242,
   "metadata": {},
   "outputs": [
    {
     "data": {
      "image/png": "[encoded data removed]",
      "text/plain": [
       "<Figure size 432x288 with 1 Axes>"
      ]
     },
     "metadata": {},
     "output_type": "display_data"
    }
   ],
   "source": [
    "sns.set_palette([sns.xkcd_rgb[x] for x in [\"denim blue\", \"burnt sienna\", \"tangerine\", \"yellow orange\"]])\n",
    "data = df[df.search != \"constants_only\"].copy()\n",
    "data.replace(\"rf\", \"random forest\", inplace=True)\n",
    "p = sns.boxplot(data=data, x=\"problem\", y=\"out\", hue = \"search\")\n",
    "p.set(ylabel='OOB-Accuracy (normalized)', xlabel='Algorithm')\n",
    "p.legend(loc='lower right')\n",
    "p.legend_.set_title(\"Search strategy\")\n",
    "new_labels = [r'$\\mu + \\lambda$ EA', 'random search 100', 'random search 200', 'random search 300']\n",
    "for t, l in zip(p.legend_.texts, new_labels): t.set_text(l)\n",
    "plt.show()"
   ]
  },
  {
   "cell_type": "markdown",
   "metadata": {},
   "source": [
    "**2. Aggregated across replications:**"
   ]
  },
  {
   "cell_type": "code",
   "execution_count": 243,
   "metadata": {},
   "outputs": [
    {
     "data": {
      "image/png": "[encoded data removed]",
      "text/plain": [
       "<Figure size 432x288 with 1 Axes>"
      ]
     },
     "metadata": {},
     "output_type": "display_data"
    }
   ],
   "source": [
    "aggdf = data.groupby([\"task\", \"search\",\"problem\"]).agg(np.mean).reset_index()\n",
    "sns.set_palette([sns.xkcd_rgb[x] for x in [\"denim blue\", \"burnt sienna\", \"tangerine\", \"yellow orange\"]])\n",
    "p = sns.boxplot(data=aggdf, x=\"problem\", y=\"out\", hue = \"search\")\n",
    "p.set(ylabel='OOB-Accuracy (normalized)', xlabel='Algorithm')\n",
    "p.legend(loc='lower right')\n",
    "p.legend_.set_title(\"Search strategy\")\n",
    "new_labels = [r'$\\mu + \\lambda$-EA', 'random search 100', 'random search 200', 'random search 300']\n",
    "for t, l in zip(p.legend_.texts, new_labels): t.set_text(l)\n",
    "plt.savefig(\"figures/experiment_1.png\", bbox_inches='tight', pad_inches=.1)\n",
    "plt.show()"
   ]
  },
  {
   "cell_type": "markdown",
   "metadata": {},
   "source": [
    "### Efficiency\n",
    "Here we investiage the average number of generations required to converge"
   ]
  },
  {
   "cell_type": "code",
   "execution_count": 216,
   "metadata": {},
   "outputs": [
    {
     "data": {
      "image/png": "[encoded data removed]",
      "text/plain": [
       "<Figure size 432x288 with 1 Axes>"
      ]
     },
     "metadata": {},
     "output_type": "display_data"
    },
    {
     "data": {
      "image/png": "[encoded data removed]",
      "text/plain": [
       "<Figure size 432x288 with 1 Axes>"
      ]
     },
     "metadata": {},
     "output_type": "display_data"
    },
    {
     "data": {
      "image/png": "[encoded data removed]",
      "text/plain": [
       "<Figure size 432x288 with 1 Axes>"
      ]
     },
     "metadata": {},
     "output_type": "display_data"
    },
    {
     "data": {
      "image/png": "[encoded data removed]",
      "text/plain": [
       "<Figure size 432x288 with 1 Axes>"
      ]
     },
     "metadata": {},
     "output_type": "display_data"
    }
   ],
   "source": [
    "problems = [\"svm\", \"glmnet\", \"rpart\", \"rf\"]\n",
    "for problem in problems:\n",
    "    data = df[(df.search == \"mupluslambda\") & (df.problem == problem)][\"gen\"]\n",
    "    p = sns.distplot(data, kde=False)\n",
    "    p.set(xlabel='No. Generations until convergence')\n",
    "    p.set_title(f'Problem: {problem}; Avg.:{round(data.mean()):.0f}; $Quantile$: [{data.quantile(.05):.0f};{data.quantile(.95):.0f}]')\n",
    "    plt.show()"
   ]
  },
  {
   "cell_type": "code",
   "execution_count": 217,
   "metadata": {},
   "outputs": [
    {
     "data": {
      "text/html": [
       "<div>\n",
       "<style scoped>\n",
       "    .dataframe tbody tr th:only-of-type {\n",
       "        vertical-align: middle;\n",
       "    }\n",
       "\n",
       "    .dataframe tbody tr th {\n",
       "        vertical-align: top;\n",
       "    }\n",
       "\n",
       "    .dataframe thead th {\n",
       "        text-align: right;\n",
       "    }\n",
       "</style>\n",
       "<table border=\"1\" class=\"dataframe\">\n",
       "  <thead>\n",
       "    <tr style=\"text-align: right;\">\n",
       "      <th></th>\n",
       "      <th>run</th>\n",
       "      <th>task</th>\n",
       "      <th>generation</th>\n",
       "      <th>score_min</th>\n",
       "      <th>score_avg</th>\n",
       "      <th>score_max</th>\n",
       "      <th>search</th>\n",
       "      <th>problem</th>\n",
       "    </tr>\n",
       "  </thead>\n",
       "  <tbody>\n",
       "    <tr>\n",
       "      <th>0</th>\n",
       "      <td>22205dfb-3076-4f4b-ae5e-78d9fdbab8c5</td>\n",
       "      <td>167119</td>\n",
       "      <td>0</td>\n",
       "      <td>0.673648</td>\n",
       "      <td>0.841274</td>\n",
       "      <td>0.890224</td>\n",
       "      <td>mupluslambda</td>\n",
       "      <td>svm</td>\n",
       "    </tr>\n",
       "    <tr>\n",
       "      <th>1</th>\n",
       "      <td>22205dfb-3076-4f4b-ae5e-78d9fdbab8c5</td>\n",
       "      <td>167119</td>\n",
       "      <td>1</td>\n",
       "      <td>0.884077</td>\n",
       "      <td>0.888563</td>\n",
       "      <td>0.890292</td>\n",
       "      <td>mupluslambda</td>\n",
       "      <td>svm</td>\n",
       "    </tr>\n",
       "    <tr>\n",
       "      <th>2</th>\n",
       "      <td>22205dfb-3076-4f4b-ae5e-78d9fdbab8c5</td>\n",
       "      <td>167119</td>\n",
       "      <td>2</td>\n",
       "      <td>0.884897</td>\n",
       "      <td>0.889345</td>\n",
       "      <td>0.890314</td>\n",
       "      <td>mupluslambda</td>\n",
       "      <td>svm</td>\n",
       "    </tr>\n",
       "    <tr>\n",
       "      <th>3</th>\n",
       "      <td>22205dfb-3076-4f4b-ae5e-78d9fdbab8c5</td>\n",
       "      <td>167119</td>\n",
       "      <td>3</td>\n",
       "      <td>0.890224</td>\n",
       "      <td>0.890233</td>\n",
       "      <td>0.890314</td>\n",
       "      <td>mupluslambda</td>\n",
       "      <td>svm</td>\n",
       "    </tr>\n",
       "    <tr>\n",
       "      <th>4</th>\n",
       "      <td>22205dfb-3076-4f4b-ae5e-78d9fdbab8c5</td>\n",
       "      <td>167119</td>\n",
       "      <td>4</td>\n",
       "      <td>0.890224</td>\n",
       "      <td>0.890233</td>\n",
       "      <td>0.890314</td>\n",
       "      <td>mupluslambda</td>\n",
       "      <td>svm</td>\n",
       "    </tr>\n",
       "  </tbody>\n",
       "</table>\n",
       "</div>"
      ],
      "text/plain": [
       "                                    run    task generation  score_min  \\\n",
       "0  22205dfb-3076-4f4b-ae5e-78d9fdbab8c5  167119          0   0.673648   \n",
       "1  22205dfb-3076-4f4b-ae5e-78d9fdbab8c5  167119          1   0.884077   \n",
       "2  22205dfb-3076-4f4b-ae5e-78d9fdbab8c5  167119          2   0.884897   \n",
       "3  22205dfb-3076-4f4b-ae5e-78d9fdbab8c5  167119          3   0.890224   \n",
       "4  22205dfb-3076-4f4b-ae5e-78d9fdbab8c5  167119          4   0.890224   \n",
       "\n",
       "   score_avg  score_max        search problem  \n",
       "0   0.841274   0.890224  mupluslambda     svm  \n",
       "1   0.888563   0.890292  mupluslambda     svm  \n",
       "2   0.889345   0.890314  mupluslambda     svm  \n",
       "3   0.890233   0.890314  mupluslambda     svm  \n",
       "4   0.890233   0.890314  mupluslambda     svm  "
      ]
     },
     "execution_count": 217,
     "metadata": {},
     "output_type": "execute_result"
    }
   ],
   "source": [
    "#Get optimization traces\n",
    "tdf = pd.DataFrame([])\n",
    "for k in log.keys():\n",
    "    tdf = tdf.append(log[k].trace_data)\n",
    "tdf.head()"
   ]
  },
  {
   "cell_type": "code",
   "execution_count": 218,
   "metadata": {},
   "outputs": [
    {
     "data": {
      "image/png": "[encoded data removed]",
      "text/plain": [
       "<Figure size 432x288 with 1 Axes>"
      ]
     },
     "metadata": {},
     "output_type": "display_data"
    },
    {
     "data": {
      "image/png": "[encoded data removed]",
      "text/plain": [
       "<Figure size 432x288 with 1 Axes>"
      ]
     },
     "metadata": {},
     "output_type": "display_data"
    },
    {
     "data": {
      "image/png": "[encoded data removed]",
      "text/plain": [
       "<Figure size 432x288 with 1 Axes>"
      ]
     },
     "metadata": {},
     "output_type": "display_data"
    },
    {
     "data": {
      "image/png": "[encoded data removed]",
      "text/plain": [
       "<Figure size 432x288 with 1 Axes>"
      ]
     },
     "metadata": {},
     "output_type": "display_data"
    }
   ],
   "source": [
    "# Trace plots: random search (orange) vs mupluslambda (blue)\n",
    "problems = [\"svm\", \"glmnet\", \"rpart\", \"random forest\"]\n",
    "for problem in problems:\n",
    "    data = tdf[(tdf.search == \"mupluslambda\") & (tdf.problem == problem)]\n",
    "    p = sns.lineplot(data=data, x=\"generation\", y=\"score_max\", hue=\"search\", units=\"run\", estimator=None)\n",
    "    data = tdf[(tdf.search == \"random_search\") & (tdf.problem == problem)]\n",
    "    p = sns.scatterplot(data=data, x=\"generation\", y=\"score_max\", color=\"orange\")\n",
    "    p.legend_.remove()\n",
    "    p.set(xlabel='No. Generation', ylabel=\"In-sample Fitness\")\n",
    "    p.set_title(f'Problem: {problem}')\n",
    "    plt.show()"
   ]
  },
  {
   "cell_type": "markdown",
   "metadata": {},
   "source": [
    "### Conclusions\n",
    "- mupluslambda is more efficient, finds better in-sample solutions\n",
    "- small differences in out-of-sample solutions (perhaps slight overfitting)"
   ]
  },
  {
   "cell_type": "markdown",
   "metadata": {},
   "source": [
    "## Experiment 2: Benchmarking symbolic defaults"
   ]
  },
  {
   "cell_type": "markdown",
   "metadata": {},
   "source": [
    "### Experiment 2.1: Benchmarking symbolic defaults on surrogates\n",
    "\n",
    "Compare results to:\n",
    "- Implementation defaults\n",
    "- Static defaults\n",
    "- Optimistic Random Search"
   ]
  },
  {
   "cell_type": "code",
   "execution_count": 246,
   "metadata": {},
   "outputs": [
    {
     "data": {
      "text/html": [
       "<div>\n",
       "<style scoped>\n",
       "    .dataframe tbody tr th:only-of-type {\n",
       "        vertical-align: middle;\n",
       "    }\n",
       "\n",
       "    .dataframe tbody tr th {\n",
       "        vertical-align: top;\n",
       "    }\n",
       "\n",
       "    .dataframe thead th {\n",
       "        text-align: right;\n",
       "    }\n",
       "</style>\n",
       "<table border=\"1\" class=\"dataframe\">\n",
       "  <thead>\n",
       "    <tr style=\"text-align: right;\">\n",
       "      <th>inout</th>\n",
       "      <th>task</th>\n",
       "      <th>problem</th>\n",
       "      <th>search</th>\n",
       "      <th>in</th>\n",
       "      <th>out</th>\n",
       "    </tr>\n",
       "  </thead>\n",
       "  <tbody>\n",
       "    <tr>\n",
       "      <th>0</th>\n",
       "      <td>45</td>\n",
       "      <td>svm</td>\n",
       "      <td>mlr_default</td>\n",
       "      <td>0.9969</td>\n",
       "      <td>0.2011</td>\n",
       "    </tr>\n",
       "    <tr>\n",
       "      <th>1</th>\n",
       "      <td>45</td>\n",
       "      <td>svm</td>\n",
       "      <td>sklearn_default</td>\n",
       "      <td>0.9969</td>\n",
       "      <td>0.9785</td>\n",
       "    </tr>\n",
       "    <tr>\n",
       "      <th>2</th>\n",
       "      <td>45</td>\n",
       "      <td>svm</td>\n",
       "      <td>symbolic_best</td>\n",
       "      <td>0.9969</td>\n",
       "      <td>0.9918</td>\n",
       "    </tr>\n",
       "    <tr>\n",
       "      <th>3</th>\n",
       "      <td>58</td>\n",
       "      <td>svm</td>\n",
       "      <td>mlr_default</td>\n",
       "      <td>0.9336</td>\n",
       "      <td>0.0236</td>\n",
       "    </tr>\n",
       "    <tr>\n",
       "      <th>4</th>\n",
       "      <td>58</td>\n",
       "      <td>svm</td>\n",
       "      <td>sklearn_default</td>\n",
       "      <td>0.9336</td>\n",
       "      <td>0.9861</td>\n",
       "    </tr>\n",
       "  </tbody>\n",
       "</table>\n",
       "</div>"
      ],
      "text/plain": [
       "inout  task problem           search      in     out\n",
       "0        45     svm      mlr_default  0.9969  0.2011\n",
       "1        45     svm  sklearn_default  0.9969  0.9785\n",
       "2        45     svm    symbolic_best  0.9969  0.9918\n",
       "3        58     svm      mlr_default  0.9336  0.0236\n",
       "4        58     svm  sklearn_default  0.9336  0.9861"
      ]
     },
     "execution_count": 246,
     "metadata": {},
     "output_type": "execute_result"
    }
   ],
   "source": [
    "# Collect implementation default performances\n",
    "cols = [\"task\", \"problem\", \"search\", \"in\", \"out\"]\n",
    "baselines = pd.DataFrame([])\n",
    "for k in log.keys():\n",
    "    bdf = log[k].get_benchmark_performances().rename(columns={\"expression\":\"search\"})[cols]\n",
    "    bdf['problem'] = k\n",
    "    baselines = baselines.append(bdf)\n",
    "\n",
    "baselines.head()"
   ]
  },
  {
   "cell_type": "code",
   "execution_count": 247,
   "metadata": {},
   "outputs": [
    {
     "data": {
      "text/html": [
       "<div>\n",
       "<style scoped>\n",
       "    .dataframe tbody tr th:only-of-type {\n",
       "        vertical-align: middle;\n",
       "    }\n",
       "\n",
       "    .dataframe tbody tr th {\n",
       "        vertical-align: top;\n",
       "    }\n",
       "\n",
       "    .dataframe thead th {\n",
       "        text-align: right;\n",
       "    }\n",
       "</style>\n",
       "<table border=\"1\" class=\"dataframe\">\n",
       "  <thead>\n",
       "    <tr style=\"text-align: right;\">\n",
       "      <th></th>\n",
       "      <th>task</th>\n",
       "      <th>problem</th>\n",
       "      <th>search</th>\n",
       "      <th>in</th>\n",
       "      <th>out</th>\n",
       "    </tr>\n",
       "  </thead>\n",
       "  <tbody>\n",
       "    <tr>\n",
       "      <th>106</th>\n",
       "      <td>3</td>\n",
       "      <td>svm</td>\n",
       "      <td>rs_2</td>\n",
       "      <td>NaN</td>\n",
       "      <td>0.615487</td>\n",
       "    </tr>\n",
       "    <tr>\n",
       "      <th>107</th>\n",
       "      <td>6</td>\n",
       "      <td>svm</td>\n",
       "      <td>rs_2</td>\n",
       "      <td>NaN</td>\n",
       "      <td>0.599002</td>\n",
       "    </tr>\n",
       "    <tr>\n",
       "      <th>108</th>\n",
       "      <td>11</td>\n",
       "      <td>svm</td>\n",
       "      <td>rs_2</td>\n",
       "      <td>NaN</td>\n",
       "      <td>0.730493</td>\n",
       "    </tr>\n",
       "    <tr>\n",
       "      <th>109</th>\n",
       "      <td>12</td>\n",
       "      <td>svm</td>\n",
       "      <td>rs_2</td>\n",
       "      <td>NaN</td>\n",
       "      <td>0.566405</td>\n",
       "    </tr>\n",
       "    <tr>\n",
       "      <th>110</th>\n",
       "      <td>14</td>\n",
       "      <td>svm</td>\n",
       "      <td>rs_2</td>\n",
       "      <td>NaN</td>\n",
       "      <td>0.502232</td>\n",
       "    </tr>\n",
       "  </tbody>\n",
       "</table>\n",
       "</div>"
      ],
      "text/plain": [
       "     task problem search  in       out\n",
       "106     3     svm   rs_2 NaN  0.615487\n",
       "107     6     svm   rs_2 NaN  0.599002\n",
       "108    11     svm   rs_2 NaN  0.730493\n",
       "109    12     svm   rs_2 NaN  0.566405\n",
       "110    14     svm   rs_2 NaN  0.502232"
      ]
     },
     "execution_count": 247,
     "metadata": {},
     "output_type": "execute_result"
    }
   ],
   "source": [
    "# Collect optimistic random search performances\n",
    "cols = [\"task\", \"problem\", \"search\", \"in\", \"out\"]\n",
    "rsdf =  pd.DataFrame([])\n",
    "for problem in problems:\n",
    "    file = f\"data/mlr_{problem}_baselines.csv\"\n",
    "    if os.path.isfile(file):\n",
    "        prsdf = pd.read_csv(f\"data/mlr_{problem}_baselines.csv\", index_col=0).transpose()\n",
    "        prsdf['task'] = [int(float(x)) for x in prsdf.index.values]\n",
    "        prsdf = prsdf.melt(id_vars='task').rename(columns={\"search_type\":\"search\", \"value\":\"out\"})\n",
    "        prsdf['problem'] = problem\n",
    "        prsdf['in'] = np.nan\n",
    "        prsdf = prsdf[prsdf['search'] != 'oracle']\n",
    "        rsdf = rsdf.append(prsdf[cols])\n",
    "\n",
    "rsdf.head()"
   ]
  },
  {
   "cell_type": "code",
   "execution_count": 248,
   "metadata": {},
   "outputs": [
    {
     "data": {
      "text/html": [
       "<div>\n",
       "<style scoped>\n",
       "    .dataframe tbody tr th:only-of-type {\n",
       "        vertical-align: middle;\n",
       "    }\n",
       "\n",
       "    .dataframe tbody tr th {\n",
       "        vertical-align: top;\n",
       "    }\n",
       "\n",
       "    .dataframe thead th {\n",
       "        text-align: right;\n",
       "    }\n",
       "</style>\n",
       "<table border=\"1\" class=\"dataframe\">\n",
       "  <thead>\n",
       "    <tr style=\"text-align: right;\">\n",
       "      <th></th>\n",
       "      <th>inout</th>\n",
       "      <th>out</th>\n",
       "    </tr>\n",
       "    <tr>\n",
       "      <th>problem</th>\n",
       "      <th>search</th>\n",
       "      <th></th>\n",
       "    </tr>\n",
       "  </thead>\n",
       "  <tbody>\n",
       "    <tr>\n",
       "      <th rowspan=\"14\" valign=\"top\">glmnet</th>\n",
       "      <th>constants_only</th>\n",
       "      <td>0.957486</td>\n",
       "    </tr>\n",
       "    <tr>\n",
       "      <th>mlr_default</th>\n",
       "      <td>0.935791</td>\n",
       "    </tr>\n",
       "    <tr>\n",
       "      <th>mupluslambda</th>\n",
       "      <td>0.960140</td>\n",
       "    </tr>\n",
       "    <tr>\n",
       "      <th>random_search_100</th>\n",
       "      <td>0.957402</td>\n",
       "    </tr>\n",
       "    <tr>\n",
       "      <th>random_search_200</th>\n",
       "      <td>0.957365</td>\n",
       "    </tr>\n",
       "    <tr>\n",
       "      <th>random_search_300</th>\n",
       "      <td>0.956974</td>\n",
       "    </tr>\n",
       "    <tr>\n",
       "      <th>rs_128</th>\n",
       "      <td>0.987558</td>\n",
       "    </tr>\n",
       "    <tr>\n",
       "      <th>rs_16</th>\n",
       "      <td>0.936044</td>\n",
       "    </tr>\n",
       "    <tr>\n",
       "      <th>rs_2</th>\n",
       "      <td>0.567390</td>\n",
       "    </tr>\n",
       "    <tr>\n",
       "      <th>rs_32</th>\n",
       "      <td>0.958021</td>\n",
       "    </tr>\n",
       "    <tr>\n",
       "      <th>rs_4</th>\n",
       "      <td>0.765041</td>\n",
       "    </tr>\n",
       "    <tr>\n",
       "      <th>rs_64</th>\n",
       "      <td>0.977110</td>\n",
       "    </tr>\n",
       "    <tr>\n",
       "      <th>rs_8</th>\n",
       "      <td>0.887694</td>\n",
       "    </tr>\n",
       "    <tr>\n",
       "      <th>sklearn_default</th>\n",
       "      <td>0.005362</td>\n",
       "    </tr>\n",
       "    <tr>\n",
       "      <th rowspan=\"6\" valign=\"top\">rf</th>\n",
       "      <th>constants_only</th>\n",
       "      <td>0.940846</td>\n",
       "    </tr>\n",
       "    <tr>\n",
       "      <th>mlr_default</th>\n",
       "      <td>0.895937</td>\n",
       "    </tr>\n",
       "    <tr>\n",
       "      <th>mupluslambda</th>\n",
       "      <td>0.937771</td>\n",
       "    </tr>\n",
       "    <tr>\n",
       "      <th>random_search_100</th>\n",
       "      <td>0.921319</td>\n",
       "    </tr>\n",
       "    <tr>\n",
       "      <th>random_search_200</th>\n",
       "      <td>0.921816</td>\n",
       "    </tr>\n",
       "    <tr>\n",
       "      <th>random_search_300</th>\n",
       "      <td>0.921341</td>\n",
       "    </tr>\n",
       "    <tr>\n",
       "      <th rowspan=\"13\" valign=\"top\">rpart</th>\n",
       "      <th>constants_only</th>\n",
       "      <td>0.900172</td>\n",
       "    </tr>\n",
       "    <tr>\n",
       "      <th>mlr_default</th>\n",
       "      <td>0.854374</td>\n",
       "    </tr>\n",
       "    <tr>\n",
       "      <th>mupluslambda</th>\n",
       "      <td>0.911355</td>\n",
       "    </tr>\n",
       "    <tr>\n",
       "      <th>random_search_100</th>\n",
       "      <td>0.898589</td>\n",
       "    </tr>\n",
       "    <tr>\n",
       "      <th>random_search_200</th>\n",
       "      <td>0.901351</td>\n",
       "    </tr>\n",
       "    <tr>\n",
       "      <th>random_search_300</th>\n",
       "      <td>0.901076</td>\n",
       "    </tr>\n",
       "    <tr>\n",
       "      <th>rs_128</th>\n",
       "      <td>0.969110</td>\n",
       "    </tr>\n",
       "    <tr>\n",
       "      <th>rs_16</th>\n",
       "      <td>0.899288</td>\n",
       "    </tr>\n",
       "    <tr>\n",
       "      <th>rs_2</th>\n",
       "      <td>0.703429</td>\n",
       "    </tr>\n",
       "    <tr>\n",
       "      <th>rs_32</th>\n",
       "      <td>0.927404</td>\n",
       "    </tr>\n",
       "    <tr>\n",
       "      <th>rs_4</th>\n",
       "      <td>0.806193</td>\n",
       "    </tr>\n",
       "    <tr>\n",
       "      <th>rs_64</th>\n",
       "      <td>0.948961</td>\n",
       "    </tr>\n",
       "    <tr>\n",
       "      <th>rs_8</th>\n",
       "      <td>0.859881</td>\n",
       "    </tr>\n",
       "    <tr>\n",
       "      <th rowspan=\"15\" valign=\"top\">svm</th>\n",
       "      <th>constants_only</th>\n",
       "      <td>0.911427</td>\n",
       "    </tr>\n",
       "    <tr>\n",
       "      <th>mlr_default</th>\n",
       "      <td>0.311537</td>\n",
       "    </tr>\n",
       "    <tr>\n",
       "      <th>mupluslambda</th>\n",
       "      <td>0.938239</td>\n",
       "    </tr>\n",
       "    <tr>\n",
       "      <th>random_search_100</th>\n",
       "      <td>0.934740</td>\n",
       "    </tr>\n",
       "    <tr>\n",
       "      <th>random_search_200</th>\n",
       "      <td>0.936369</td>\n",
       "    </tr>\n",
       "    <tr>\n",
       "      <th>random_search_300</th>\n",
       "      <td>0.937037</td>\n",
       "    </tr>\n",
       "    <tr>\n",
       "      <th>rs_128</th>\n",
       "      <td>0.978104</td>\n",
       "    </tr>\n",
       "    <tr>\n",
       "      <th>rs_16</th>\n",
       "      <td>0.930583</td>\n",
       "    </tr>\n",
       "    <tr>\n",
       "      <th>rs_2</th>\n",
       "      <td>0.677543</td>\n",
       "    </tr>\n",
       "    <tr>\n",
       "      <th>rs_32</th>\n",
       "      <td>0.953903</td>\n",
       "    </tr>\n",
       "    <tr>\n",
       "      <th>rs_4</th>\n",
       "      <td>0.798034</td>\n",
       "    </tr>\n",
       "    <tr>\n",
       "      <th>rs_64</th>\n",
       "      <td>0.967202</td>\n",
       "    </tr>\n",
       "    <tr>\n",
       "      <th>rs_8</th>\n",
       "      <td>0.884871</td>\n",
       "    </tr>\n",
       "    <tr>\n",
       "      <th>sklearn_default</th>\n",
       "      <td>0.933270</td>\n",
       "    </tr>\n",
       "    <tr>\n",
       "      <th>symbolic_best</th>\n",
       "      <td>0.935559</td>\n",
       "    </tr>\n",
       "  </tbody>\n",
       "</table>\n",
       "</div>"
      ],
      "text/plain": [
       "inout                           out\n",
       "problem search                     \n",
       "glmnet  constants_only     0.957486\n",
       "        mlr_default        0.935791\n",
       "        mupluslambda       0.960140\n",
       "        random_search_100  0.957402\n",
       "        random_search_200  0.957365\n",
       "        random_search_300  0.956974\n",
       "        rs_128             0.987558\n",
       "        rs_16              0.936044\n",
       "        rs_2               0.567390\n",
       "        rs_32              0.958021\n",
       "        rs_4               0.765041\n",
       "        rs_64              0.977110\n",
       "        rs_8               0.887694\n",
       "        sklearn_default    0.005362\n",
       "rf      constants_only     0.940846\n",
       "        mlr_default        0.895937\n",
       "        mupluslambda       0.937771\n",
       "        random_search_100  0.921319\n",
       "        random_search_200  0.921816\n",
       "        random_search_300  0.921341\n",
       "rpart   constants_only     0.900172\n",
       "        mlr_default        0.854374\n",
       "        mupluslambda       0.911355\n",
       "        random_search_100  0.898589\n",
       "        random_search_200  0.901351\n",
       "        random_search_300  0.901076\n",
       "        rs_128             0.969110\n",
       "        rs_16              0.899288\n",
       "        rs_2               0.703429\n",
       "        rs_32              0.927404\n",
       "        rs_4               0.806193\n",
       "        rs_64              0.948961\n",
       "        rs_8               0.859881\n",
       "svm     constants_only     0.911427\n",
       "        mlr_default        0.311537\n",
       "        mupluslambda       0.938239\n",
       "        random_search_100  0.934740\n",
       "        random_search_200  0.936369\n",
       "        random_search_300  0.937037\n",
       "        rs_128             0.978104\n",
       "        rs_16              0.930583\n",
       "        rs_2               0.677543\n",
       "        rs_32              0.953903\n",
       "        rs_4               0.798034\n",
       "        rs_64              0.967202\n",
       "        rs_8               0.884871\n",
       "        sklearn_default    0.933270\n",
       "        symbolic_best      0.935559"
      ]
     },
     "execution_count": 248,
     "metadata": {},
     "output_type": "execute_result"
    }
   ],
   "source": [
    "cols = [\"task\", \"problem\", \"search\", \"in\", \"out\"]\n",
    "srdf = df[cols].append(baselines).append(rsdf)\n",
    "\n",
    "# Average out-of-sample performances\n",
    "srdf.groupby(['problem', 'search']).mean()[[\"out\"]]"
   ]
  },
  {
   "cell_type": "code",
   "execution_count": null,
   "metadata": {},
   "outputs": [],
   "source": [
    "filter_search = ['random_search_100', 'random_search_200', 'random_search_300', 'rs_64', 'rs_128']\n",
    "for problem in problems:\n",
    "    psrdf = srdf[~srdf.search.isin(filter_search)]\n",
    "    psrdf = psrdf[psrdf[\"problem\"] == problem]\n",
    "    p = sns.boxplot(data=psrdf, x=\"search\", y=\"out\", hue=\"search\")\n",
    "    p.set_xticklabels(p.get_xticklabels(), rotation=60)\n",
    "    p.set(ylabel='Accuracy (normalized)', xlabel='Search Strategy')\n",
    "    p.legend_.remove()\n",
    "    p.set_title(f'Problem: {problem}')\n",
    "    plt.savefig(f\"figures/boxplots_surrogates_{problem}.png\")\n",
    "    plt.show()"
   ]
  },
  {
   "cell_type": "markdown",
   "metadata": {},
   "source": [
    "## Experiment 2.2: Benchmarking symbolic defaults on real data\n",
    "\n",
    "Compare results to:\n",
    "- Implementation defaults\n",
    "- Static defaults"
   ]
  },
  {
   "cell_type": "code",
   "execution_count": 224,
   "metadata": {},
   "outputs": [
    {
     "data": {
      "text/html": [
       "<div>\n",
       "<style scoped>\n",
       "    .dataframe tbody tr th:only-of-type {\n",
       "        vertical-align: middle;\n",
       "    }\n",
       "\n",
       "    .dataframe tbody tr th {\n",
       "        vertical-align: top;\n",
       "    }\n",
       "\n",
       "    .dataframe thead th {\n",
       "        text-align: right;\n",
       "    }\n",
       "</style>\n",
       "<table border=\"1\" class=\"dataframe\">\n",
       "  <thead>\n",
       "    <tr style=\"text-align: right;\">\n",
       "      <th></th>\n",
       "      <th>task</th>\n",
       "      <th>problem</th>\n",
       "      <th>search</th>\n",
       "      <th>in</th>\n",
       "      <th>out</th>\n",
       "    </tr>\n",
       "  </thead>\n",
       "  <tbody>\n",
       "    <tr>\n",
       "      <th>0</th>\n",
       "      <td>3</td>\n",
       "      <td>mlr_svm</td>\n",
       "      <td>sklearn_default</td>\n",
       "      <td>NaN</td>\n",
       "      <td>0.079788</td>\n",
       "    </tr>\n",
       "    <tr>\n",
       "      <th>1</th>\n",
       "      <td>6</td>\n",
       "      <td>mlr_svm</td>\n",
       "      <td>sklearn_default</td>\n",
       "      <td>NaN</td>\n",
       "      <td>0.048400</td>\n",
       "    </tr>\n",
       "    <tr>\n",
       "      <th>2</th>\n",
       "      <td>11</td>\n",
       "      <td>mlr_svm</td>\n",
       "      <td>sklearn_default</td>\n",
       "      <td>NaN</td>\n",
       "      <td>0.094624</td>\n",
       "    </tr>\n",
       "    <tr>\n",
       "      <th>3</th>\n",
       "      <td>12</td>\n",
       "      <td>mlr_svm</td>\n",
       "      <td>sklearn_default</td>\n",
       "      <td>NaN</td>\n",
       "      <td>0.021500</td>\n",
       "    </tr>\n",
       "    <tr>\n",
       "      <th>4</th>\n",
       "      <td>14</td>\n",
       "      <td>mlr_svm</td>\n",
       "      <td>sklearn_default</td>\n",
       "      <td>NaN</td>\n",
       "      <td>0.175500</td>\n",
       "    </tr>\n",
       "  </tbody>\n",
       "</table>\n",
       "</div>"
      ],
      "text/plain": [
       "   task  problem           search  in       out\n",
       "0     3  mlr_svm  sklearn_default NaN  0.079788\n",
       "1     6  mlr_svm  sklearn_default NaN  0.048400\n",
       "2    11  mlr_svm  sklearn_default NaN  0.094624\n",
       "3    12  mlr_svm  sklearn_default NaN  0.021500\n",
       "4    14  mlr_svm  sklearn_default NaN  0.175500"
      ]
     },
     "execution_count": 224,
     "metadata": {},
     "output_type": "execute_result"
    }
   ],
   "source": [
    "# Collect real data evaluations: Implementation defaults\n",
    "cols = [\"task\", \"problem\", \"search\", \"in\", \"out\"]\n",
    "\n",
    "real_baseline = pd.DataFrame([])\n",
    "for problem in problems:\n",
    "    file = f\"data/mlr_{problem}_real_data_baselines_results.csv\"\n",
    "    if os.path.isfile(file):\n",
    "        rbdf = pd.read_csv(file).rename(columns={\"default\":\"search\", \"str\":\"expression\", \"problem_name\": \"problem\", \"mmce.test.mean\":\"out\"})\n",
    "        rbdf[\"in\"] = np.nan\n",
    "        real_baseline = real_baseline.append(rbdf[cols])\n",
    "\n",
    "real_baseline.head()"
   ]
  },
  {
   "cell_type": "markdown",
   "metadata": {},
   "source": [
    "# END OF WORKING ANALYSIS\n",
    "Things below are previous / old analysis"
   ]
  },
  {
   "cell_type": "markdown",
   "metadata": {},
   "source": [
    "### Strategies for picking final individual from the pareto front"
   ]
  },
  {
   "cell_type": "code",
   "execution_count": 210,
   "metadata": {
    "scrolled": true
   },
   "outputs": [
    {
     "ename": "AttributeError",
     "evalue": "'dict' object has no attribute 'pick_final_expression'",
     "output_type": "error",
     "traceback": [
      "\u001b[0;31m---------------------------------------------------------------------------\u001b[0m",
      "\u001b[0;31mAttributeError\u001b[0m                            Traceback (most recent call last)",
      "\u001b[0;32m<ipython-input-210-fb54a6d07435>\u001b[0m in \u001b[0;36m<module>\u001b[0;34m\u001b[0m\n\u001b[1;32m      2\u001b[0m \u001b[0mbig_df\u001b[0m \u001b[0;34m=\u001b[0m \u001b[0mpd\u001b[0m\u001b[0;34m.\u001b[0m\u001b[0mDataFrame\u001b[0m\u001b[0;34m(\u001b[0m\u001b[0;34m)\u001b[0m\u001b[0;34m\u001b[0m\u001b[0;34m\u001b[0m\u001b[0m\n\u001b[1;32m      3\u001b[0m \u001b[0;32mfor\u001b[0m \u001b[0mstrat\u001b[0m \u001b[0;32min\u001b[0m \u001b[0;34m[\u001b[0m\u001b[0;34m\"best\"\u001b[0m\u001b[0;34m,\u001b[0m \u001b[0;34m\"shortest\"\u001b[0m\u001b[0;34m,\u001b[0m \u001b[0;34m\"relative\"\u001b[0m\u001b[0;34m]\u001b[0m\u001b[0;34m:\u001b[0m\u001b[0;34m\u001b[0m\u001b[0;34m\u001b[0m\u001b[0m\n\u001b[0;32m----> 4\u001b[0;31m     \u001b[0mdf\u001b[0m \u001b[0;34m=\u001b[0m \u001b[0mlog\u001b[0m\u001b[0;34m.\u001b[0m\u001b[0mpick_final_expression\u001b[0m\u001b[0;34m(\u001b[0m\u001b[0mstrat\u001b[0m\u001b[0;34m,\u001b[0m \u001b[0meps\u001b[0m\u001b[0;34m=\u001b[0m\u001b[0;36m0.01\u001b[0m\u001b[0;34m,\u001b[0m \u001b[0mmax_steps\u001b[0m\u001b[0;34m=\u001b[0m\u001b[0;36m2\u001b[0m\u001b[0;34m)\u001b[0m\u001b[0;34m[\u001b[0m\u001b[0mcols\u001b[0m\u001b[0;34m]\u001b[0m\u001b[0;34m\u001b[0m\u001b[0;34m\u001b[0m\u001b[0m\n\u001b[0m\u001b[1;32m      5\u001b[0m     \u001b[0mbdf\u001b[0m \u001b[0;34m=\u001b[0m \u001b[0mlog\u001b[0m\u001b[0;34m.\u001b[0m\u001b[0mget_benchmark_performances\u001b[0m\u001b[0;34m(\u001b[0m\u001b[0;34m)\u001b[0m\u001b[0;34m.\u001b[0m\u001b[0mrename\u001b[0m\u001b[0;34m(\u001b[0m\u001b[0mcolumns\u001b[0m\u001b[0;34m=\u001b[0m\u001b[0;34m{\u001b[0m\u001b[0;34m\"expression\"\u001b[0m\u001b[0;34m:\u001b[0m\u001b[0;34m\"search\"\u001b[0m\u001b[0;34m}\u001b[0m\u001b[0;34m)\u001b[0m\u001b[0;34m[\u001b[0m\u001b[0mcols\u001b[0m\u001b[0;34m]\u001b[0m\u001b[0;34m\u001b[0m\u001b[0;34m\u001b[0m\u001b[0m\n\u001b[1;32m      6\u001b[0m     \u001b[0mdf\u001b[0m \u001b[0;34m=\u001b[0m \u001b[0mdf\u001b[0m\u001b[0;34m.\u001b[0m\u001b[0mappend\u001b[0m\u001b[0;34m(\u001b[0m\u001b[0mbdf\u001b[0m\u001b[0;34m)\u001b[0m\u001b[0;34m\u001b[0m\u001b[0;34m\u001b[0m\u001b[0m\n",
      "\u001b[0;31mAttributeError\u001b[0m: 'dict' object has no attribute 'pick_final_expression'"
     ]
    }
   ],
   "source": [
    "cols = [\"task\", \"problem\", \"search\", \"in\", \"out\"]\n",
    "big_df = pd.DataFrame()\n",
    "for strat in [\"best\", \"shortest\", \"relative\"]:\n",
    "    df = log.pick_final_expression(strat, eps=0.01, max_steps=2)[cols]\n",
    "    bdf = log.get_benchmark_performances().rename(columns={\"expression\":\"search\"})[cols]\n",
    "    df = df.append(bdf)\n",
    "    df = df[df.search.isin([\"mupluslambda\", \"random_search\", \"True\"])]\n",
    "    df[\"strategy\"] = strat\n",
    "    big_df = pd.concat([big_df, df])"
   ]
  },
  {
   "cell_type": "code",
   "execution_count": null,
   "metadata": {
    "scrolled": true
   },
   "outputs": [],
   "source": [
    "with pd.option_context('display.max_rows', None, 'display.max_columns', None):  # more options can be specified also\n",
    "    display(big_df.groupby([\"task\", \"search\",  \"strategy\"])[[\"in\", \"out\"]].agg([np.mean, np.median, max, min]))"
   ]
  },
  {
   "cell_type": "code",
   "execution_count": null,
   "metadata": {},
   "outputs": [],
   "source": [
    "sns.boxplot(data=big_df[big_df.search == \"mupluslambda\"], x=\"task\", y=\"out\", hue=\"strategy\")"
   ]
  },
  {
   "cell_type": "markdown",
   "metadata": {},
   "source": [
    "# Symbolic Defaults by 'complexity' of expression\n",
    "In this notebook we take a look at the results of running the script at its default settings, this means:\n",
    " - evaluation across all tasks\n",
    " - recording the pareto front of symbolic defaults after each search\n",
    " - evaluating in-sample and out-of-sample performance of those dynamic defaults, as well as some pre-defined ones\n",
    " \n",
    "**note:** The console cut off results for the first few tasks, so I am rerunning those now."
   ]
  },
  {
   "cell_type": "markdown",
   "metadata": {},
   "source": [
    "For each task we will extract:\n",
    " - the number of generations optimization ran for (max=200)\n",
    " - max length expression\n",
    " - in and out of sample performance for length 1, 2 and 3 expression"
   ]
  },
  {
   "cell_type": "markdown",
   "metadata": {},
   "source": [
    "For each task save the benchmark results. We also save results for length 1, 2 and 3 solutions as well as the best one found (that may be longer). Specifically we record:\n",
    " - best in_sample performance at length 1, 2, 3\n",
    " - best in_sample performance for any length\n",
    " - average out_sample performance by length for length 1, 2, 3\n",
    " - average out_sample performance for the longest (i.e. best in-sample score) solution(s)."
   ]
  },
  {
   "cell_type": "markdown",
   "metadata": {},
   "source": [
    "## Setup\n",
    "We have experiment data for a set of algorithms and meta-data for the datasets on which the experiments took place.\n",
    "We use symbolic regression to find an expression for symbolic default values that give good performance across tasks.\n",
    "Symbolic regression is performed with leave-one-task-out, which means for each algorithm we have multiple searches for a symbolic default, and their performance is recorded for both in-sample (the optimization surface of all-but-one tasks) and out-of-sample (the left out task) performance. Performance here is solely based on surrogate model predictions, no additional experiments have been performed (yet).\n",
    "\n",
    "In our search, we use NSGA-II selection to perform multi-objective optimization: find the expression with the best performance, while using the fewest number of operators (e.g. `divide`, `multiply`)."
   ]
  },
  {
   "cell_type": "markdown",
   "metadata": {},
   "source": [
    "### Terms\n",
    "**Length** of an expression denotes the number of operators in it. A symbolic value is *not* considered an operation.\n",
    "Consider the following SVM defaults for cost and gamma:\n",
    " - `make_tuple`(m, mkd) is length 1.\n",
    " - `make_tuple`(m, `truediv`(mkd, xvar)) is length 2.\n",
    " - `make_tuple`(16., `truediv`(mkd, xvar)) is length 2.\n",
    "\n",
    "The **final** solution refers to the symbolic default with the highest in-sample score for a task (regardless of its length). This means for each task there is *at least* one final solution, but there may be more and they are not of a specific length.\n"
   ]
  },
  {
   "cell_type": "markdown",
   "metadata": {},
   "source": [
    "The **baseline** solutions are typically the default hyperparameter settings of mlr, scikit-learn, or both."
   ]
  },
  {
   "cell_type": "markdown",
   "metadata": {},
   "source": [
    "---"
   ]
  },
  {
   "cell_type": "markdown",
   "metadata": {},
   "source": [
    "We read all the logs, because some logs are incomplete we have to explicitly give the name of the baselines (this will be fixed for future runs)."
   ]
  },
  {
   "cell_type": "code",
   "execution_count": null,
   "metadata": {},
   "outputs": [],
   "source": [
    "traces = {}"
   ]
  },
  {
   "cell_type": "code",
   "execution_count": null,
   "metadata": {},
   "outputs": [],
   "source": [
    "# Here we analyze the random forest\n",
    "alg = 'rf'\n",
    "\n",
    "import os\n",
    "baselines = dict(\n",
    "    glmnet=[\"mlr_default\", \"sklearn_default\"],\n",
    "    kerasff=[\"initial_values\"],\n",
    "    knn=[\"mlr_default\"],\n",
    "    rf=[\"mlr_default\"],\n",
    "    rpart=[\"mlr_default\"],\n",
    "    svm=[\"sklearn_scale\", \"symbolic_best\", \"skearn_default\", \"mlr_default\" , \"const\"],\n",
    ")\n",
    "dir_ = \"runs/running\"\n",
    "for file in os.listdir(dir_):\n",
    "    if file.endswith('.log') and alg in file and ('_0.log' in file or '_1.log' in file):\n",
    "        print(file)\n",
    "        baseline = []\n",
    "        for method, bls in baselines.items():\n",
    "            if method in file:\n",
    "                baseline = bls\n",
    "        traces[file[:-4]] = Trace(os.path.join(dir_, file), benchmarks=baseline, ignore=[\"const\", \"symbolic_v2\"])"
   ]
  },
  {
   "cell_type": "markdown",
   "metadata": {},
   "source": [
    "### Optimization\n",
    "As described before, for each problem we find a symbolic default leaving one task out.\n",
    "We are interested to see how fast the symbolic regression converges across tasks."
   ]
  },
  {
   "cell_type": "code",
   "execution_count": null,
   "metadata": {},
   "outputs": [],
   "source": [
    "print(\"Median number of generations across tasks by problem:\")\n",
    "for log, trace in traces.items():\n",
    "    print(f\"{log: <15} {trace.generations_by_task.median().astype(int):3d}\")"
   ]
  },
  {
   "cell_type": "code",
   "execution_count": null,
   "metadata": {},
   "outputs": [],
   "source": [
    "traces = {k :v for (k,v) in traces.items() if k not in [\"mlr_glmnet_lisa_ints_0\", \"mlr_glmnet_lisa_ints_1\", \"mlr_glmnet_lisa_ints_2\"]}"
   ]
  },
  {
   "cell_type": "code",
   "execution_count": null,
   "metadata": {},
   "outputs": [],
   "source": [
    "import matplotlib.pyplot as plt\n",
    "import math\n",
    "\n",
    "fig, axes = plt.subplots(math.ceil(len(traces) / 4), 4, sharey=True, figsize=(16, 9))\n",
    "for ax, (log, trace) in zip(axes.flatten(), traces.items()):\n",
    "    traces[log].generations_by_task.hist(bins=20, ax=ax)\n",
    "    ax.set_title(f\"{log} ({len(trace.generations_by_task)} tasks)\")\n",
    "    ax.set_ylabel('count')\n",
    "    ax.set_xlabel('generations')\n",
    "fig.tight_layout()"
   ]
  },
  {
   "cell_type": "markdown",
   "metadata": {},
   "source": [
    "The plot above shows a histogram counting the number of generations until stopping. These results were obtained with default setting of early stopping if no improvement was made after 20 generations, with a 200 generation maximum."
   ]
  },
  {
   "cell_type": "markdown",
   "metadata": {},
   "source": [
    "### Visualizing optimization traces\n",
    "The traces contain the full optimization traces inside the trace's **progdf** trace.\n"
   ]
  },
  {
   "cell_type": "code",
   "execution_count": null,
   "metadata": {},
   "outputs": [],
   "source": [
    "# import seaborn as sns\n",
    "# sns.lineplot(x='gen', y='max', units='task', estimator=None, data=traces[f'{alg}_gauss24_1eph_d1_2'].progdf)\n",
    "# sns.lineplot(x='gen', y='max', units='task', estimator=None, data=traces[f'{alg}_gauss24_1eph_d1_2i'].progdf)"
   ]
  },
  {
   "cell_type": "markdown",
   "metadata": {},
   "source": [
    "### Comparing Expressions\n",
    "For a given problem, we have a Pareto front of solutions for search (=each left out task).\n",
    "This Pareto front may contain \"twins\", multiple solutions which performance equally well and have the same length.\n",
    "Given that the response surface does not differ *that* much when leaving any particular task out, we hope that the symbolic expressions we find are reasonably consistent across searches.\n",
    "To have some indication of how consistent the results are, for each problem we find the most frequent solutions of length 1, 2 and 3. We also note the number of hyperparameters for which we aim to find a symbolic default, as we expect this to be correlated to how consistent the solutions are:"
   ]
  },
  {
   "cell_type": "code",
   "execution_count": null,
   "metadata": {},
   "outputs": [],
   "source": [
    "expr_count = pd.DataFrame(np.zeros((5, len(traces))), columns=list(traces), index=[1, 2, 3, \"#tasks\", \"params\"])\n",
    "for log, trace in traces.items():  \n",
    "    for length, expressions in sorted(trace.expressions.items()):\n",
    "        if 0 < length < 4:\n",
    "            m = max(set(expressions), key=expressions.count)\n",
    "            expr_count.loc[length][log] = expressions.count(m)\n",
    "            # print(f\" Found {len(expressions):3d} expressions of length {length}. Most frequent: {m} ({expressions.count(m)} times)\")\n",
    "            if length == 1:\n",
    "                expr_count.loc[\"#tasks\"][log] = len(trace.scores) / 2\n",
    "                expr_count.loc[\"params\"][log] = m.count(',') + 1"
   ]
  },
  {
   "cell_type": "markdown",
   "metadata": {},
   "source": [
    "We can look at the found expressions per problem:"
   ]
  },
  {
   "cell_type": "code",
   "execution_count": null,
   "metadata": {},
   "outputs": [],
   "source": [
    "a = f'{alg}' # run_one #f\"mlr_knn_lisa_gaussian\" # run_one\n",
    "for log, trace in traces.items():\n",
    "    print(log)\n",
    "    for length, expressions in sorted(trace.expressions.items()):\n",
    "        if 0 < length < 4:\n",
    "            m = max(set(expressions), key=expressions.count)\n",
    "            expr_count.loc[length][log] = expressions.count(m)\n",
    "            # print(f\" Found {len(expressions):3d} expressions of length {length}. Most frequent: {m} ({expressions.count(m)} times)\")\n",
    "            print(f\"Most frequent length {length} solution in Pareto front ({expressions.count(m)} times in {len(trace.scores) // 2} tasks):\\n     {m}\")"
   ]
  },
  {
   "cell_type": "markdown",
   "metadata": {},
   "source": [
    "## Expression Quality\n",
    "The expressions we find also need to be good.\n",
    "Here we compare the following 'strategies':\n",
    " - length-*n*: always pick the best expression of length *n*\n",
    " - *final*: always pick the best expression, regardless of length\n",
    " - *baseline(s)*: compare it to baselines we defined\n",
    " \n",
    "We want to know (all based on out-of-sample performance):\n",
    " - which strategy gives the best solution most often?\n",
    " - which strategy experiences the least mean regret?\n",
    " - which strategy experiences the least median regret?\n",
    " \n",
    "As mentioned before, there can be \"twins\" in the Pareto front, which means multiple solutions with equal length have equal in-sample performance.\n",
    "In this case we average the out-of-sample score of those twins."
   ]
  },
  {
   "cell_type": "markdown",
   "metadata": {},
   "source": [
    "#### number of wins:"
   ]
  },
  {
   "cell_type": "markdown",
   "metadata": {},
   "source": [
    "The following table records the number of times a strategy led to the symbolic expression with the best out-of-sample performance (multiple strategies can be the best each task):"
   ]
  },
  {
   "cell_type": "code",
   "execution_count": null,
   "metadata": {},
   "outputs": [],
   "source": [
    "out_comparisons = pd.DataFrame()\n",
    "for log, trace in traces.items():\n",
    "    out_comparisons = out_comparisons.append(trace.comparison.loc['either'].rename(log))\n",
    "out_comparisons"
   ]
  },
  {
   "cell_type": "markdown",
   "metadata": {},
   "source": [
    "## Regret\n",
    "Here we look at the regret for a method compared to the best known performance on the dataset from the random search experiments. Per definition the best score in random search is 1 (normalized score)."
   ]
  },
  {
   "cell_type": "markdown",
   "metadata": {},
   "source": [
    "#### median regret:\n",
    "The following table records the median regret for a specific strategy compared to picking the best in hindsight:"
   ]
  },
  {
   "cell_type": "code",
   "execution_count": null,
   "metadata": {},
   "outputs": [],
   "source": [
    "# We only evaluate logs where all tasks in subset have completed\n",
    "\n",
    "full_tasks = [x[0] for x in traces[f\"mlr_{alg}_mupluslambda_0\"].scores.index]\n",
    "subset = set(full_tasks[:20])\n",
    "subset"
   ]
  },
  {
   "cell_type": "code",
   "execution_count": null,
   "metadata": {},
   "outputs": [],
   "source": [
    "medians = {}\n",
    "for log, trace in traces.items():\n",
    "    if (subset.issubset(set([x[0] for x in trace.scores.index]))):\n",
    "        idx = trace.scores.index.map(lambda idx: idx[1] == \"out-sample\" and idx[0] in subset)\n",
    "        medians[log] = [(1 - trace.scores[idx].final).median()]\n",
    "        \n",
    "for bl in baselines[alg]:\n",
    "    medians[bl] = [(1 - traces[f\"mlr_{alg}_mupluslambda_0\"].scores[idx][bl]).median()]\n",
    "pd.DataFrame.from_dict(medians,orient='index')"
   ]
  },
  {
   "cell_type": "code",
   "execution_count": null,
   "metadata": {},
   "outputs": [],
   "source": [
    "means = {}\n",
    "for log, trace in traces.items():\n",
    "    if (subset.issubset(set([x[0] for x in trace.scores.index]))):\n",
    "        idx = trace.scores.index.map(lambda idx: idx[1] == \"out-sample\" and idx[0] in subset)\n",
    "        means[log] = [(1 - trace.scores[idx].final).mean()]\n",
    "    \n",
    "for bl in baselines[alg]:\n",
    "    means[bl] = [(1 - traces[f\"mlr_{alg}_mupluslambda_0\"].scores[idx][bl]).median()]\n",
    "pd.DataFrame.from_dict(means,orient='index')"
   ]
  },
  {
   "cell_type": "markdown",
   "metadata": {},
   "source": [
    "### Results averaged over replications\n"
   ]
  },
  {
   "cell_type": "code",
   "execution_count": null,
   "metadata": {},
   "outputs": [],
   "source": [
    "# means\n",
    "pd.DataFrame.from_dict(means,orient='index').groupby(lambda x: ''.join(i for i in x if not i.isdigit())).mean()"
   ]
  },
  {
   "cell_type": "code",
   "execution_count": null,
   "metadata": {},
   "outputs": [],
   "source": [
    "# medians\n",
    "pd.DataFrame.from_dict(medians,orient='index').groupby(lambda x: ''.join(i for i in x if not i.isdigit())).mean()"
   ]
  },
  {
   "cell_type": "markdown",
   "metadata": {},
   "source": [
    "### Sanity Checks\n",
    "Sometimes out-of-sample performance of a baseline may still be better than that of our solution.\n",
    "However, in-sample performance of our own solutions should always be better than any baseline.\n",
    "If that is not the case, this would indicate our search does not explore the space well enough."
   ]
  },
  {
   "cell_type": "code",
   "execution_count": null,
   "metadata": {},
   "outputs": [],
   "source": [
    "in_sample_comparisons = pd.DataFrame()\n",
    "for log, trace in traces.items():\n",
    "    in_sample_comparisons = in_sample_comparisons.append(trace.in_comparison.loc['either'].rename(log))\n",
    "in_sample_comparisons"
   ]
  },
  {
   "cell_type": "code",
   "execution_count": null,
   "metadata": {},
   "outputs": [],
   "source": [
    "ml = traces['mlr_rf_mupluslambda_2']\n",
    "rs = traces['mlr_rf_random_search_2']"
   ]
  },
  {
   "cell_type": "code",
   "execution_count": null,
   "metadata": {},
   "outputs": [],
   "source": [
    "ml.scores.head()"
   ]
  },
  {
   "cell_type": "markdown",
   "metadata": {},
   "source": [
    "### Comparison to random search \n",
    "The following provides an overview over scores for different iterations of random search"
   ]
  },
  {
   "cell_type": "code",
   "execution_count": null,
   "metadata": {},
   "outputs": [],
   "source": [
    "rsdf = pd.read_csv(\"data/mlr_\"+alg+\"_baselines.csv\", index_col=0)\n",
    "rsdf.iloc[:,1:].apply(np.mean,axis=1)"
   ]
  },
  {
   "cell_type": "markdown",
   "metadata": {},
   "source": [
    "----\n",
    "End of notebook - just sketchpad below"
   ]
  },
  {
   "cell_type": "code",
   "execution_count": null,
   "metadata": {},
   "outputs": [],
   "source": [
    "trsdf = rsdf.transpose()\n",
    "trsdf.index.name = \"task\"\n",
    "trsdf.index = pd.Index([int(float(x)) for x in trsdf.index.values])"
   ]
  },
  {
   "cell_type": "code",
   "execution_count": null,
   "metadata": {},
   "outputs": [],
   "source": [
    "import seaborn as sns\n",
    "df = ml.scores.loc[ml.scores.index.map(lambda idx: idx[1] == \"out-sample\")]\n",
    "df.index = pd.Index(df.index.map(lambda idx: idx[0]))\n",
    "df = df.join(trsdf)"
   ]
  },
  {
   "cell_type": "code",
   "execution_count": null,
   "metadata": {},
   "outputs": [],
   "source": [
    "df = df.loc[:,df.median().sort_values().index]\n",
    "p = sns.boxplot(data=df.melt(), y = \"value\", x = \"variable\")\n",
    "p.set_xticklabels(p.get_xticklabels(), rotation=45)\n",
    "plt.show(p)"
   ]
  },
  {
   "cell_type": "code",
   "execution_count": null,
   "metadata": {},
   "outputs": [],
   "source": [
    "################ END OF RELEVANT PARTS #################"
   ]
  },
  {
   "cell_type": "code",
   "execution_count": null,
   "metadata": {},
   "outputs": [],
   "source": [
    "alg = \"rf\"\n",
    "run_one = f\"mlr_{alg}_mupluslambda_0\"\n",
    "minimum = dict(knn=100, svm=100, glmnet=100, rpart=60, rf=25)\n",
    "final_scores = pd.DataFrame()\n",
    "for log, trace in traces.items():\n",
    "    # Filter out runs with >100 tasks completed:\n",
    "    if len(trace.scores) / 2 > minimum[alg]:\n",
    "        out_sampfirst_n_tasksle = trace.scores.index.map(lambda idx: idx[1] == \"out-sample\")\n",
    "        log_oos = trace.scores.loc[out_sample].final.rename(log)\n",
    "        final_scores = final_scores.append(log_oos)\n",
    "        if log == run_one:\n",
    "            # contains benchmark scores\n",
    "            for b in trace.baseline:\n",
    "                baseline_score = trace.scores.loc[out_sample][b].rename(b)\n",
    "                final_scores = final_scores.append(baseline_score)\n",
    "final_scores"
   ]
  },
  {
   "cell_type": "code",
   "execution_count": null,
   "metadata": {},
   "outputs": [],
   "source": []
  },
  {
   "cell_type": "code",
   "execution_count": null,
   "metadata": {},
   "outputs": [],
   "source": [
    "# filter out incomplete tasks:\n",
    "final = final_scores.loc[:, ~final_scores.isna().any()]\n",
    "df = final"
   ]
  },
  {
   "cell_type": "code",
   "execution_count": null,
   "metadata": {},
   "outputs": [],
   "source": [
    "run_one=\"mlr_svm_lisa\"\n",
    "run_two=\"svm_warm\""
   ]
  },
  {
   "cell_type": "code",
   "execution_count": null,
   "metadata": {},
   "outputs": [],
   "source": [
    "df = df.loc[[run_one, run_two]]"
   ]
  },
  {
   "cell_type": "code",
   "execution_count": null,
   "metadata": {},
   "outputs": [],
   "source": [
    "alone = {k: 0 for k in df.index.values}\n",
    "shared = {k: 0 for k in df.index.values}\n",
    "\n",
    "for _, out in df.T.iterrows():\n",
    "    best = out[out == out.max()].index.values\n",
    "    if len(best) == 1:\n",
    "        alone[best[0]] += 1\n",
    "    else:\n",
    "        for winner in best:\n",
    "            shared[winner] += 1\n",
    "\n",
    "alone = {k: alone[k] for k in sorted(alone)}\n",
    "shared = {k: shared[k] for k in sorted(shared)}\n",
    "either = {k: shared[k] + alone[k] for k in sorted({**alone, **shared})}\n",
    "comparison = pd.DataFrame([alone, shared, either], index=['alone', 'shared', 'either'])\n",
    "comparison\n"
   ]
  },
  {
   "cell_type": "code",
   "execution_count": null,
   "metadata": {},
   "outputs": [],
   "source": [
    "df_out = df.T.copy()\n",
    "df_out['max'] = df_out.max(axis=1)\n",
    "for col in df_out:\n",
    "    df_out['d_' + col] = df_out['max'] - df_out[col]\n",
    "d_cols = [c for c in df_out.columns if c.startswith('d_') and 'max' not in c]\n",
    "df_out[d_cols].mean()"
   ]
  },
  {
   "cell_type": "code",
   "execution_count": null,
   "metadata": {},
   "outputs": [],
   "source": [
    "df_out[d_cols].median()"
   ]
  },
  {
   "cell_type": "code",
   "execution_count": null,
   "metadata": {},
   "outputs": [],
   "source": [
    "ax = (df.loc[run_one] - df.loc[run_two]).hist(bins=[(f / 40 - 1) for f in range(81)])\n",
    "ax.set_title(f\"Symbolic - Constant | median: {(df.loc[run_one] - df.loc[run_two]).median():.3f}, mean: {(df.loc[run_one] - df.loc[run_two]).mean():.3f}, {df.shape[1]} tasks\")\n",
    "ax.set_ylabel(\"Count\")\n",
    "ax.set_xlabel(\"Difference\")"
   ]
  },
  {
   "cell_type": "code",
   "execution_count": null,
   "metadata": {},
   "outputs": [],
   "source": []
  },
  {
   "cell_type": "code",
   "execution_count": null,
   "metadata": {},
   "outputs": [],
   "source": [
    "sum((df.loc[\"mlr_svm_lisa\"] - df.loc[\"svm_cst\"]) > 0)"
   ]
  },
  {
   "cell_type": "code",
   "execution_count": null,
   "metadata": {},
   "outputs": [],
   "source": [
    "(df.loc[\"mlr_svm_lisa\"] - df.loc[\"svm_cst\"]).mean()"
   ]
  },
  {
   "cell_type": "code",
   "execution_count": null,
   "metadata": {},
   "outputs": [],
   "source": [
    "rsdf.columns = [(round(float(x)), 'out-sample')  for x in rsdf.columns.values"
   ]
  },
  {
   "cell_type": "code",
   "execution_count": null,
   "metadata": {},
   "outputs": [],
   "source": [
    "df = rsdf.append(final_scores)\n",
    "df.iloc[:,1:].apply(np.mean,axis=1)"
   ]
  },
  {
   "cell_type": "code",
   "execution_count": null,
   "metadata": {},
   "outputs": [],
   "source": [
    "pdf = df.transpose().melt(var_name=\"method\", value_name=\"performance\")\n",
    "ax = sns.boxplot(x='method', y='performance', data = pdf)\n",
    "ax.set_xticklabels(ax.get_xticklabels(), rotation=90)"
   ]
  },
  {
   "cell_type": "code",
   "execution_count": null,
   "metadata": {},
   "outputs": [],
   "source": []
  },
  {
   "cell_type": "markdown",
   "metadata": {},
   "source": [
    "#### mean regret:\n",
    "The following table records the mean regret for a specific strategy compared to picking the best in hindsight:"
   ]
  },
  {
   "cell_type": "code",
   "execution_count": null,
   "metadata": {},
   "outputs": [],
   "source": [
    "means = pd.DataFrame([])\n",
    "for log, trace in traces.items():\n",
    "    m = trace.d_scores.mean().rename(log)\n",
    "    means = means.append(m)\n",
    "means[[c for c in medians.columns if 'd_' in c and c != 'd_max']]"
   ]
  },
  {
   "cell_type": "code",
   "execution_count": null,
   "metadata": {},
   "outputs": [],
   "source": []
  },
  {
   "cell_type": "code",
   "execution_count": null,
   "metadata": {},
   "outputs": [],
   "source": [
    "for problem in [\"svm\"]:\n",
    "    for search in [\"mupluslambda\", \"random_search\", \"True\"]:\n",
    "        problem_search_dir = os.path.join(\"runs\", f\"{problem}_{search}\")   \n",
    "        for rundir in os.listdir(problem_search_dir):\n",
    "            eval_file = os.path.join(problem_search_dir, rundir, \"evaluations.csv\")\n",
    "            eval_file_new = os.path.join(problem_search_dir, rundir, \"new_evaluations.csv\")\n",
    "            with open(eval_file) as old, open(eval_file_new, 'w') as new:\n",
    "                for line in old.readlines():\n",
    "                    content = line.split(',')\n",
    "                    cs, expr_parts = content[:7], content[7:]\n",
    "                    newsep = ';'.join(cs + [','.join(expr_parts)])\n",
    "                    new.write(newsep)"
   ]
  }
 ],
 "metadata": {
  "kernelspec": {
   "display_name": "Python 3",
   "language": "python",
   "name": "python3"
  },
  "language_info": {
   "codemirror_mode": {
    "name": "ipython",
    "version": 3
   },
   "file_extension": ".py",
   "mimetype": "text/x-python",
   "name": "python",
   "nbconvert_exporter": "python",
   "pygments_lexer": "ipython3",
   "version": "3.8.2"
  }
 },
 "nbformat": 4,
 "nbformat_minor": 4
}
