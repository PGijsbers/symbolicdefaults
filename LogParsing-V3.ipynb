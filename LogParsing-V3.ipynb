{
 "cells": [
  {
   "cell_type": "code",
   "execution_count": 2,
   "metadata": {},
   "outputs": [],
   "source": [
    "from typing import Tuple, List\n",
    "from collections import defaultdict\n",
    "import seaborn as sns\n",
    "import numpy as np\n",
    "import pandas as pd\n",
    "import os"
   ]
  },
  {
   "cell_type": "code",
   "execution_count": 18,
   "metadata": {},
   "outputs": [],
   "source": [
    "class Runlog:\n",
    "    \"\"\"\n",
    "    Read logs for a given problem across several searches\n",
    "    \"\"\"\n",
    "    def __init__(self, problem: str, searches: List, benchmarks=None, ignore=None):\n",
    "        self.problem = problem\n",
    "        self.searches = searches\n",
    "        self.benchmarks = benchmarks\n",
    "    \n",
    "    @property\n",
    "    def data(self):\n",
    "        df = read_run_logs(problem=self.problem, search=self.searches[0], target=\"new_evaluations\")\n",
    "        for search in self.searches[1:]:\n",
    "            df = df.append(read_run_logs(problem=self.problem, search=search, target=\"new_evaluations\"))\n",
    "        return df\n",
    "\n",
    "    def pick_final_expression(self, method = \"best\"):\n",
    "        \"\"\"\n",
    "        Pick final expression on \"in\" data\n",
    "        :method: either \"relative\", \"shortest\" or \"best\"\n",
    "        \"\"\"\n",
    "        df = self.data.copy()\n",
    "        df = df[df['expression'].str.contains(',')]\n",
    "        df = df[df.endresult]\n",
    "        df = df.pivot_table(index=[\"run\", \"task\", \"gen\", \"length\", \"problem\", \"search\", \"expression\"], columns=\"inout\", values=\"score\")\n",
    "        df = df.reset_index()\n",
    "        #import pdb; pdb.set_trace()\n",
    "        if method == \"shortest\":\n",
    "            out = df[df.groupby(\"run\")['length'].transform(min) == df['length']]\n",
    "        elif method == \"relative\":\n",
    "            out = df.loc[[pick_relative(group) for name, group in df.groupby('run')]]\n",
    "        else:\n",
    "            out = df[df.groupby(\"run\")['in'].transform(max) == df['in']]\n",
    "        return out\n",
    "    \n",
    "    def get_benchmark_performances(self):\n",
    "        \"\"\"\n",
    "        Load benchmark performances\n",
    "        \"\"\"\n",
    "        df = self.data[self.data['expression'].isin(self.benchmarks)]\n",
    "        df = df.pivot_table(index=[\"run\", \"task\",\"problem\", \"search\", \"expression\"], columns=\"inout\", values=\"score\")\n",
    "        df = df.reset_index()\n",
    "        df = df[[\"task\", \"problem\", \"expression\", \"in\", \"out\"]]\n",
    "        df.drop_duplicates(inplace=True)\n",
    "        return(df)\n",
    "        \n",
    "def pick_relative(x, eps=0.01):\n",
    "    \"\"\"\n",
    "    Pick by relative improvement; Pick longer if better by 'eps', break if not\n",
    "    \"\"\"\n",
    "    x = x.copy()\n",
    "    if len(x) == 1:\n",
    "        return(x.index.values[0])\n",
    "    \n",
    "    x['relative_improvement'] = x['in'] - x['in'].shift(1, fill_value=0)\n",
    "    use_ix = None\n",
    "    for ix, rw in x.iterrows():\n",
    "        if (rw['relative_improvement'] > eps):\n",
    "            use_ix = ix\n",
    "        else:\n",
    "            break\n",
    "    return use_ix\n",
    "\n",
    "def read_run_logs(problem:str, search: str, target: str):\n",
    "    \"\"\"\n",
    "    Read all log-files for a given problem x search combination\n",
    "    \"\"\"\n",
    "    log_dir = f\"runs/{problem}_{search}/\"\n",
    "    dirs = [os.path.join(log_dir, f) for f in os.listdir(log_dir)]\n",
    "    df = pd.read_csv(f\"{dirs[0]}/{target}.csv\", sep=\";\",nrows=0)\n",
    "    for dir in dirs: \n",
    "        df = df.append(pd.read_csv(f\"{dir}/{target}.csv\", sep=\";\"))\n",
    "    df['problem'] = problem\n",
    "    df['search'] = search\n",
    "    df['search']\n",
    "    return df\n",
    "\n"
   ]
  },
  {
   "cell_type": "code",
   "execution_count": 26,
   "metadata": {
    "scrolled": true
   },
   "outputs": [
    {
     "data": {
      "text/html": [
       "<div>\n",
       "<style scoped>\n",
       "    .dataframe tbody tr th:only-of-type {\n",
       "        vertical-align: middle;\n",
       "    }\n",
       "\n",
       "    .dataframe tbody tr th {\n",
       "        vertical-align: top;\n",
       "    }\n",
       "\n",
       "    .dataframe thead th {\n",
       "        text-align: right;\n",
       "    }\n",
       "</style>\n",
       "<table border=\"1\" class=\"dataframe\">\n",
       "  <thead>\n",
       "    <tr style=\"text-align: right;\">\n",
       "      <th>inout</th>\n",
       "      <th>run</th>\n",
       "      <th>task</th>\n",
       "      <th>gen</th>\n",
       "      <th>length</th>\n",
       "      <th>problem</th>\n",
       "      <th>search</th>\n",
       "      <th>expression</th>\n",
       "      <th>in</th>\n",
       "      <th>out</th>\n",
       "    </tr>\n",
       "  </thead>\n",
       "  <tbody>\n",
       "    <tr>\n",
       "      <th>1</th>\n",
       "      <td>Consant</td>\n",
       "      <td>Consant</td>\n",
       "      <td>Consant</td>\n",
       "      <td>Consant</td>\n",
       "      <td>Consant</td>\n",
       "      <td>Consant</td>\n",
       "      <td>Consant</td>\n",
       "      <td>Consant</td>\n",
       "      <td>Consant</td>\n",
       "    </tr>\n",
       "    <tr>\n",
       "      <th>3</th>\n",
       "      <td>Consant</td>\n",
       "      <td>Consant</td>\n",
       "      <td>Consant</td>\n",
       "      <td>Consant</td>\n",
       "      <td>Consant</td>\n",
       "      <td>Consant</td>\n",
       "      <td>Consant</td>\n",
       "      <td>Consant</td>\n",
       "      <td>Consant</td>\n",
       "    </tr>\n",
       "    <tr>\n",
       "      <th>9</th>\n",
       "      <td>Consant</td>\n",
       "      <td>Consant</td>\n",
       "      <td>Consant</td>\n",
       "      <td>Consant</td>\n",
       "      <td>Consant</td>\n",
       "      <td>Consant</td>\n",
       "      <td>Consant</td>\n",
       "      <td>Consant</td>\n",
       "      <td>Consant</td>\n",
       "    </tr>\n",
       "    <tr>\n",
       "      <th>15</th>\n",
       "      <td>Consant</td>\n",
       "      <td>Consant</td>\n",
       "      <td>Consant</td>\n",
       "      <td>Consant</td>\n",
       "      <td>Consant</td>\n",
       "      <td>Consant</td>\n",
       "      <td>Consant</td>\n",
       "      <td>Consant</td>\n",
       "      <td>Consant</td>\n",
       "    </tr>\n",
       "    <tr>\n",
       "      <th>18</th>\n",
       "      <td>Consant</td>\n",
       "      <td>Consant</td>\n",
       "      <td>Consant</td>\n",
       "      <td>Consant</td>\n",
       "      <td>Consant</td>\n",
       "      <td>Consant</td>\n",
       "      <td>Consant</td>\n",
       "      <td>Consant</td>\n",
       "      <td>Consant</td>\n",
       "    </tr>\n",
       "    <tr>\n",
       "      <th>...</th>\n",
       "      <td>...</td>\n",
       "      <td>...</td>\n",
       "      <td>...</td>\n",
       "      <td>...</td>\n",
       "      <td>...</td>\n",
       "      <td>...</td>\n",
       "      <td>...</td>\n",
       "      <td>...</td>\n",
       "      <td>...</td>\n",
       "    </tr>\n",
       "    <tr>\n",
       "      <th>643</th>\n",
       "      <td>Consant</td>\n",
       "      <td>Consant</td>\n",
       "      <td>Consant</td>\n",
       "      <td>Consant</td>\n",
       "      <td>Consant</td>\n",
       "      <td>Consant</td>\n",
       "      <td>Consant</td>\n",
       "      <td>Consant</td>\n",
       "      <td>Consant</td>\n",
       "    </tr>\n",
       "    <tr>\n",
       "      <th>646</th>\n",
       "      <td>fd34135f-3fce-447f-a6ad-3787af8ea910</td>\n",
       "      <td>14</td>\n",
       "      <td>40</td>\n",
       "      <td>1</td>\n",
       "      <td>svm</td>\n",
       "      <td>True</td>\n",
       "      <td>make_tuple(1104, 0.0013406724766291032)</td>\n",
       "      <td>0.861</td>\n",
       "      <td>0.9923</td>\n",
       "    </tr>\n",
       "    <tr>\n",
       "      <th>648</th>\n",
       "      <td>Consant</td>\n",
       "      <td>Consant</td>\n",
       "      <td>Consant</td>\n",
       "      <td>Consant</td>\n",
       "      <td>Consant</td>\n",
       "      <td>Consant</td>\n",
       "      <td>Consant</td>\n",
       "      <td>Consant</td>\n",
       "      <td>Consant</td>\n",
       "    </tr>\n",
       "    <tr>\n",
       "      <th>654</th>\n",
       "      <td>Consant</td>\n",
       "      <td>Consant</td>\n",
       "      <td>Consant</td>\n",
       "      <td>Consant</td>\n",
       "      <td>Consant</td>\n",
       "      <td>Consant</td>\n",
       "      <td>Consant</td>\n",
       "      <td>Consant</td>\n",
       "      <td>Consant</td>\n",
       "    </tr>\n",
       "    <tr>\n",
       "      <th>657</th>\n",
       "      <td>Consant</td>\n",
       "      <td>Consant</td>\n",
       "      <td>Consant</td>\n",
       "      <td>Consant</td>\n",
       "      <td>Consant</td>\n",
       "      <td>Consant</td>\n",
       "      <td>Consant</td>\n",
       "      <td>Consant</td>\n",
       "      <td>Consant</td>\n",
       "    </tr>\n",
       "  </tbody>\n",
       "</table>\n",
       "<p>261 rows × 9 columns</p>\n",
       "</div>"
      ],
      "text/plain": [
       "inout                                   run     task      gen   length  \\\n",
       "1                                   Consant  Consant  Consant  Consant   \n",
       "3                                   Consant  Consant  Consant  Consant   \n",
       "9                                   Consant  Consant  Consant  Consant   \n",
       "15                                  Consant  Consant  Consant  Consant   \n",
       "18                                  Consant  Consant  Consant  Consant   \n",
       "..                                      ...      ...      ...      ...   \n",
       "643                                 Consant  Consant  Consant  Consant   \n",
       "646    fd34135f-3fce-447f-a6ad-3787af8ea910       14       40        1   \n",
       "648                                 Consant  Consant  Consant  Consant   \n",
       "654                                 Consant  Consant  Consant  Consant   \n",
       "657                                 Consant  Consant  Consant  Consant   \n",
       "\n",
       "inout  problem   search                               expression       in  \\\n",
       "1      Consant  Consant                                  Consant  Consant   \n",
       "3      Consant  Consant                                  Consant  Consant   \n",
       "9      Consant  Consant                                  Consant  Consant   \n",
       "15     Consant  Consant                                  Consant  Consant   \n",
       "18     Consant  Consant                                  Consant  Consant   \n",
       "..         ...      ...                                      ...      ...   \n",
       "643    Consant  Consant                                  Consant  Consant   \n",
       "646        svm     True  make_tuple(1104, 0.0013406724766291032)    0.861   \n",
       "648    Consant  Consant                                  Consant  Consant   \n",
       "654    Consant  Consant                                  Consant  Consant   \n",
       "657    Consant  Consant                                  Consant  Consant   \n",
       "\n",
       "inout      out  \n",
       "1      Consant  \n",
       "3      Consant  \n",
       "9      Consant  \n",
       "15     Consant  \n",
       "18     Consant  \n",
       "..         ...  \n",
       "643    Consant  \n",
       "646     0.9923  \n",
       "648    Consant  \n",
       "654    Consant  \n",
       "657    Consant  \n",
       "\n",
       "[261 rows x 9 columns]"
      ]
     },
     "execution_count": 26,
     "metadata": {},
     "output_type": "execute_result"
    }
   ],
   "source": [
    "benchmarks = [\"sklearn_default\", \"mlr_default\", \"symbolic_best\"]\n",
    "log = Runlog('svm',  [\"mupluslambda\", \"random_search\", \"True\"], benchmarks=benchmarks)\n",
    "\n",
    "df = log.pick_final_expression('relative')\n",
    "df.where(df[\"search\"] == \"True\", \"Consant\")"
   ]
  },
  {
   "cell_type": "code",
   "execution_count": 21,
   "metadata": {},
   "outputs": [
    {
     "data": {
      "text/html": [
       "<div>\n",
       "<style scoped>\n",
       "    .dataframe tbody tr th:only-of-type {\n",
       "        vertical-align: middle;\n",
       "    }\n",
       "\n",
       "    .dataframe tbody tr th {\n",
       "        vertical-align: top;\n",
       "    }\n",
       "\n",
       "    .dataframe thead tr th {\n",
       "        text-align: left;\n",
       "    }\n",
       "\n",
       "    .dataframe thead tr:last-of-type th {\n",
       "        text-align: right;\n",
       "    }\n",
       "</style>\n",
       "<table border=\"1\" class=\"dataframe\">\n",
       "  <thead>\n",
       "    <tr>\n",
       "      <th></th>\n",
       "      <th colspan=\"2\" halign=\"left\">in</th>\n",
       "      <th colspan=\"2\" halign=\"left\">out</th>\n",
       "    </tr>\n",
       "    <tr>\n",
       "      <th></th>\n",
       "      <th>mean</th>\n",
       "      <th>median</th>\n",
       "      <th>mean</th>\n",
       "      <th>median</th>\n",
       "    </tr>\n",
       "    <tr>\n",
       "      <th>search</th>\n",
       "      <th></th>\n",
       "      <th></th>\n",
       "      <th></th>\n",
       "      <th></th>\n",
       "    </tr>\n",
       "  </thead>\n",
       "  <tbody>\n",
       "    <tr>\n",
       "      <th>True</th>\n",
       "      <td>0.860870</td>\n",
       "      <td>0.86110</td>\n",
       "      <td>0.961923</td>\n",
       "      <td>0.96565</td>\n",
       "    </tr>\n",
       "    <tr>\n",
       "      <th>mlr_default</th>\n",
       "      <td>0.965774</td>\n",
       "      <td>0.97905</td>\n",
       "      <td>0.359338</td>\n",
       "      <td>0.07950</td>\n",
       "    </tr>\n",
       "    <tr>\n",
       "      <th>mupluslambda</th>\n",
       "      <td>0.899610</td>\n",
       "      <td>0.90090</td>\n",
       "      <td>0.963979</td>\n",
       "      <td>0.97090</td>\n",
       "    </tr>\n",
       "    <tr>\n",
       "      <th>random_search</th>\n",
       "      <td>0.894698</td>\n",
       "      <td>0.88990</td>\n",
       "      <td>0.967806</td>\n",
       "      <td>0.98420</td>\n",
       "    </tr>\n",
       "    <tr>\n",
       "      <th>sklearn_default</th>\n",
       "      <td>0.965774</td>\n",
       "      <td>0.97905</td>\n",
       "      <td>0.946495</td>\n",
       "      <td>0.95015</td>\n",
       "    </tr>\n",
       "    <tr>\n",
       "      <th>symbolic_best</th>\n",
       "      <td>0.965774</td>\n",
       "      <td>0.97905</td>\n",
       "      <td>0.977860</td>\n",
       "      <td>0.98160</td>\n",
       "    </tr>\n",
       "  </tbody>\n",
       "</table>\n",
       "</div>"
      ],
      "text/plain": [
       "                       in                out         \n",
       "                     mean   median      mean   median\n",
       "search                                               \n",
       "True             0.860870  0.86110  0.961923  0.96565\n",
       "mlr_default      0.965774  0.97905  0.359338  0.07950\n",
       "mupluslambda     0.899610  0.90090  0.963979  0.97090\n",
       "random_search    0.894698  0.88990  0.967806  0.98420\n",
       "sklearn_default  0.965774  0.97905  0.946495  0.95015\n",
       "symbolic_best    0.965774  0.97905  0.977860  0.98160"
      ]
     },
     "execution_count": 21,
     "metadata": {},
     "output_type": "execute_result"
    }
   ],
   "source": [
    "# Final expression and Benchmark performances \n",
    "cols = [\"task\", \"problem\", \"search\", \"in\", \"out\"]\n",
    "df = log.pick_final_expression('relative')[cols]\n",
    "bdf = log.get_benchmark_performances().rename(columns={\"expression\":\"search\"})[cols]\n",
    "df = df.append(bdf)\n",
    "df.groupby(\"search\")[[\"in\", \"out\"]].agg([np.mean, np.median]) "
   ]
  },
  {
   "cell_type": "code",
   "execution_count": 22,
   "metadata": {},
   "outputs": [
    {
     "data": {
      "text/plain": [
       "<matplotlib.axes._subplots.AxesSubplot at 0x7f9d635c8190>"
      ]
     },
     "execution_count": 22,
     "metadata": {},
     "output_type": "execute_result"
    },
    {
     "data": {
      "image/png": "[encoded data removed]",
      "text/plain": [
       "<Figure size 432x288 with 1 Axes>"
      ]
     },
     "metadata": {
      "needs_background": "light"
     },
     "output_type": "display_data"
    }
   ],
   "source": [
    "sns.boxplot(data=df, x=\"task\", y=\"out\", hue = \"search\")"
   ]
  },
  {
   "cell_type": "markdown",
   "metadata": {},
   "source": [
    "# Symbolic Defaults by 'complexity' of expression\n",
    "In this notebook we take a look at the results of running the script at its default settings, this means:\n",
    " - evaluation across all tasks\n",
    " - recording the pareto front of symbolic defaults after each search\n",
    " - evaluating in-sample and out-of-sample performance of those dynamic defaults, as well as some pre-defined ones\n",
    " \n",
    "**note:** The console cut off results for the first few tasks, so I am rerunning those now."
   ]
  },
  {
   "cell_type": "markdown",
   "metadata": {},
   "source": [
    "For each task we will extract:\n",
    " - the number of generations optimization ran for (max=200)\n",
    " - max length expression\n",
    " - in and out of sample performance for length 1, 2 and 3 expression"
   ]
  },
  {
   "cell_type": "markdown",
   "metadata": {},
   "source": [
    "For each task save the benchmark results. We also save results for length 1, 2 and 3 solutions as well as the best one found (that may be longer). Specifically we record:\n",
    " - best in_sample performance at length 1, 2, 3\n",
    " - best in_sample performance for any length\n",
    " - average out_sample performance by length for length 1, 2, 3\n",
    " - average out_sample performance for the longest (i.e. best in-sample score) solution(s)."
   ]
  },
  {
   "cell_type": "markdown",
   "metadata": {},
   "source": [
    "## Setup\n",
    "We have experiment data for a set of algorithms and meta-data for the datasets on which the experiments took place.\n",
    "We use symbolic regression to find an expression for symbolic default values that give good performance across tasks.\n",
    "Symbolic regression is performed with leave-one-task-out, which means for each algorithm we have multiple searches for a symbolic default, and their performance is recorded for both in-sample (the optimization surface of all-but-one tasks) and out-of-sample (the left out task) performance. Performance here is solely based on surrogate model predictions, no additional experiments have been performed (yet).\n",
    "\n",
    "In our search, we use NSGA-II selection to perform multi-objective optimization: find the expression with the best performance, while using the fewest number of operators (e.g. `divide`, `multiply`)."
   ]
  },
  {
   "cell_type": "markdown",
   "metadata": {},
   "source": [
    "### Terms\n",
    "**Length** of an expression denotes the number of operators in it. A symbolic value is *not* considered an operation.\n",
    "Consider the following SVM defaults for cost and gamma:\n",
    " - `make_tuple`(m, mkd) is length 1.\n",
    " - `make_tuple`(m, `truediv`(mkd, xvar)) is length 2.\n",
    " - `make_tuple`(16., `truediv`(mkd, xvar)) is length 2.\n",
    "\n",
    "The **final** solution refers to the symbolic default with the highest in-sample score for a task (regardless of its length). This means for each task there is *at least* one final solution, but there may be more and they are not of a specific length.\n"
   ]
  },
  {
   "cell_type": "markdown",
   "metadata": {},
   "source": [
    "The **baseline** solutions are typically the default hyperparameter settings of mlr, scikit-learn, or both."
   ]
  },
  {
   "cell_type": "markdown",
   "metadata": {},
   "source": [
    "---"
   ]
  },
  {
   "cell_type": "markdown",
   "metadata": {},
   "source": [
    "We read all the logs, because some logs are incomplete we have to explicitly give the name of the baselines (this will be fixed for future runs)."
   ]
  },
  {
   "cell_type": "code",
   "execution_count": null,
   "metadata": {},
   "outputs": [],
   "source": [
    "traces = {}"
   ]
  },
  {
   "cell_type": "code",
   "execution_count": null,
   "metadata": {},
   "outputs": [],
   "source": [
    "# Here we analyze the random forest\n",
    "alg = 'rf'\n",
    "\n",
    "import os\n",
    "baselines = dict(\n",
    "    glmnet=[\"mlr_default\", \"sklearn_default\"],\n",
    "    kerasff=[\"initial_values\"],\n",
    "    knn=[\"mlr_default\"],\n",
    "    rf=[\"mlr_default\"],\n",
    "    rpart=[\"mlr_default\"],\n",
    "    svm=[\"sklearn_scale\", \"symbolic_best\", \"skearn_default\", \"mlr_default\" , \"const\"],\n",
    ")\n",
    "dir_ = \"runs/running\"\n",
    "for file in os.listdir(dir_):\n",
    "    if file.endswith('.log') and alg in file and ('_0.log' in file or '_1.log' in file):\n",
    "        print(file)\n",
    "        baseline = []\n",
    "        for method, bls in baselines.items():\n",
    "            if method in file:\n",
    "                baseline = bls\n",
    "        traces[file[:-4]] = Trace(os.path.join(dir_, file), benchmarks=baseline, ignore=[\"const\", \"symbolic_v2\"])"
   ]
  },
  {
   "cell_type": "markdown",
   "metadata": {},
   "source": [
    "### Optimization\n",
    "As described before, for each problem we find a symbolic default leaving one task out.\n",
    "We are interested to see how fast the symbolic regression converges across tasks."
   ]
  },
  {
   "cell_type": "code",
   "execution_count": null,
   "metadata": {},
   "outputs": [],
   "source": [
    "print(\"Median number of generations across tasks by problem:\")\n",
    "for log, trace in traces.items():\n",
    "    print(f\"{log: <15} {trace.generations_by_task.median().astype(int):3d}\")"
   ]
  },
  {
   "cell_type": "code",
   "execution_count": null,
   "metadata": {},
   "outputs": [],
   "source": [
    "traces = {k :v for (k,v) in traces.items() if k not in [\"mlr_glmnet_lisa_ints_0\", \"mlr_glmnet_lisa_ints_1\", \"mlr_glmnet_lisa_ints_2\"]}"
   ]
  },
  {
   "cell_type": "code",
   "execution_count": null,
   "metadata": {},
   "outputs": [],
   "source": [
    "import matplotlib.pyplot as plt\n",
    "import math\n",
    "\n",
    "fig, axes = plt.subplots(math.ceil(len(traces) / 4), 4, sharey=True, figsize=(16, 9))\n",
    "for ax, (log, trace) in zip(axes.flatten(), traces.items()):\n",
    "    traces[log].generations_by_task.hist(bins=20, ax=ax)\n",
    "    ax.set_title(f\"{log} ({len(trace.generations_by_task)} tasks)\")\n",
    "    ax.set_ylabel('count')\n",
    "    ax.set_xlabel('generations')\n",
    "fig.tight_layout()"
   ]
  },
  {
   "cell_type": "markdown",
   "metadata": {},
   "source": [
    "The plot above shows a histogram counting the number of generations until stopping. These results were obtained with default setting of early stopping if no improvement was made after 20 generations, with a 200 generation maximum."
   ]
  },
  {
   "cell_type": "markdown",
   "metadata": {},
   "source": [
    "### Visualizing optimization traces\n",
    "The traces contain the full optimization traces inside the trace's **progdf** trace.\n"
   ]
  },
  {
   "cell_type": "code",
   "execution_count": null,
   "metadata": {},
   "outputs": [],
   "source": [
    "# import seaborn as sns\n",
    "# sns.lineplot(x='gen', y='max', units='task', estimator=None, data=traces[f'{alg}_gauss24_1eph_d1_2'].progdf)\n",
    "# sns.lineplot(x='gen', y='max', units='task', estimator=None, data=traces[f'{alg}_gauss24_1eph_d1_2i'].progdf)"
   ]
  },
  {
   "cell_type": "markdown",
   "metadata": {},
   "source": [
    "### Comparing Expressions\n",
    "For a given problem, we have a Pareto front of solutions for search (=each left out task).\n",
    "This Pareto front may contain \"twins\", multiple solutions which performance equally well and have the same length.\n",
    "Given that the response surface does not differ *that* much when leaving any particular task out, we hope that the symbolic expressions we find are reasonably consistent across searches.\n",
    "To have some indication of how consistent the results are, for each problem we find the most frequent solutions of length 1, 2 and 3. We also note the number of hyperparameters for which we aim to find a symbolic default, as we expect this to be correlated to how consistent the solutions are:"
   ]
  },
  {
   "cell_type": "code",
   "execution_count": null,
   "metadata": {},
   "outputs": [],
   "source": [
    "expr_count = pd.DataFrame(np.zeros((5, len(traces))), columns=list(traces), index=[1, 2, 3, \"#tasks\", \"params\"])\n",
    "for log, trace in traces.items():  \n",
    "    for length, expressions in sorted(trace.expressions.items()):\n",
    "        if 0 < length < 4:\n",
    "            m = max(set(expressions), key=expressions.count)\n",
    "            expr_count.loc[length][log] = expressions.count(m)\n",
    "            # print(f\" Found {len(expressions):3d} expressions of length {length}. Most frequent: {m} ({expressions.count(m)} times)\")\n",
    "            if length == 1:\n",
    "                expr_count.loc[\"#tasks\"][log] = len(trace.scores) / 2\n",
    "                expr_count.loc[\"params\"][log] = m.count(',') + 1"
   ]
  },
  {
   "cell_type": "markdown",
   "metadata": {},
   "source": [
    "We can look at the found expressions per problem:"
   ]
  },
  {
   "cell_type": "code",
   "execution_count": null,
   "metadata": {},
   "outputs": [],
   "source": [
    "a = f'{alg}' # run_one #f\"mlr_knn_lisa_gaussian\" # run_one\n",
    "for log, trace in traces.items():\n",
    "    print(log)\n",
    "    for length, expressions in sorted(trace.expressions.items()):\n",
    "        if 0 < length < 4:\n",
    "            m = max(set(expressions), key=expressions.count)\n",
    "            expr_count.loc[length][log] = expressions.count(m)\n",
    "            # print(f\" Found {len(expressions):3d} expressions of length {length}. Most frequent: {m} ({expressions.count(m)} times)\")\n",
    "            print(f\"Most frequent length {length} solution in Pareto front ({expressions.count(m)} times in {len(trace.scores) // 2} tasks):\\n     {m}\")"
   ]
  },
  {
   "cell_type": "markdown",
   "metadata": {},
   "source": [
    "## Expression Quality\n",
    "The expressions we find also need to be good.\n",
    "Here we compare the following 'strategies':\n",
    " - length-*n*: always pick the best expression of length *n*\n",
    " - *final*: always pick the best expression, regardless of length\n",
    " - *baseline(s)*: compare it to baselines we defined\n",
    " \n",
    "We want to know (all based on out-of-sample performance):\n",
    " - which strategy gives the best solution most often?\n",
    " - which strategy experiences the least mean regret?\n",
    " - which strategy experiences the least median regret?\n",
    " \n",
    "As mentioned before, there can be \"twins\" in the Pareto front, which means multiple solutions with equal length have equal in-sample performance.\n",
    "In this case we average the out-of-sample score of those twins."
   ]
  },
  {
   "cell_type": "markdown",
   "metadata": {},
   "source": [
    "#### number of wins:"
   ]
  },
  {
   "cell_type": "markdown",
   "metadata": {},
   "source": [
    "The following table records the number of times a strategy led to the symbolic expression with the best out-of-sample performance (multiple strategies can be the best each task):"
   ]
  },
  {
   "cell_type": "code",
   "execution_count": null,
   "metadata": {},
   "outputs": [],
   "source": [
    "out_comparisons = pd.DataFrame()\n",
    "for log, trace in traces.items():\n",
    "    out_comparisons = out_comparisons.append(trace.comparison.loc['either'].rename(log))\n",
    "out_comparisons"
   ]
  },
  {
   "cell_type": "markdown",
   "metadata": {},
   "source": [
    "## Regret\n",
    "Here we look at the regret for a method compared to the best known performance on the dataset from the random search experiments. Per definition the best score in random search is 1 (normalized score)."
   ]
  },
  {
   "cell_type": "markdown",
   "metadata": {},
   "source": [
    "#### median regret:\n",
    "The following table records the median regret for a specific strategy compared to picking the best in hindsight:"
   ]
  },
  {
   "cell_type": "code",
   "execution_count": null,
   "metadata": {},
   "outputs": [],
   "source": [
    "# We only evaluate logs where all tasks in subset have completed\n",
    "\n",
    "full_tasks = [x[0] for x in traces[f\"mlr_{alg}_mupluslambda_0\"].scores.index]\n",
    "subset = set(full_tasks[:20])\n",
    "subset"
   ]
  },
  {
   "cell_type": "code",
   "execution_count": null,
   "metadata": {},
   "outputs": [],
   "source": [
    "medians = {}\n",
    "for log, trace in traces.items():\n",
    "    if (subset.issubset(set([x[0] for x in trace.scores.index]))):\n",
    "        idx = trace.scores.index.map(lambda idx: idx[1] == \"out-sample\" and idx[0] in subset)\n",
    "        medians[log] = [(1 - trace.scores[idx].final).median()]\n",
    "        \n",
    "for bl in baselines[alg]:\n",
    "    medians[bl] = [(1 - traces[f\"mlr_{alg}_mupluslambda_0\"].scores[idx][bl]).median()]\n",
    "pd.DataFrame.from_dict(medians,orient='index')"
   ]
  },
  {
   "cell_type": "code",
   "execution_count": null,
   "metadata": {},
   "outputs": [],
   "source": [
    "means = {}\n",
    "for log, trace in traces.items():\n",
    "    if (subset.issubset(set([x[0] for x in trace.scores.index]))):\n",
    "        idx = trace.scores.index.map(lambda idx: idx[1] == \"out-sample\" and idx[0] in subset)\n",
    "        means[log] = [(1 - trace.scores[idx].final).mean()]\n",
    "    \n",
    "for bl in baselines[alg]:\n",
    "    means[bl] = [(1 - traces[f\"mlr_{alg}_mupluslambda_0\"].scores[idx][bl]).median()]\n",
    "pd.DataFrame.from_dict(means,orient='index')"
   ]
  },
  {
   "cell_type": "markdown",
   "metadata": {},
   "source": [
    "### Results averaged over replications\n"
   ]
  },
  {
   "cell_type": "code",
   "execution_count": null,
   "metadata": {},
   "outputs": [],
   "source": [
    "# means\n",
    "pd.DataFrame.from_dict(means,orient='index').groupby(lambda x: ''.join(i for i in x if not i.isdigit())).mean()"
   ]
  },
  {
   "cell_type": "code",
   "execution_count": null,
   "metadata": {},
   "outputs": [],
   "source": [
    "# medians\n",
    "pd.DataFrame.from_dict(medians,orient='index').groupby(lambda x: ''.join(i for i in x if not i.isdigit())).mean()"
   ]
  },
  {
   "cell_type": "markdown",
   "metadata": {},
   "source": [
    "### Sanity Checks\n",
    "Sometimes out-of-sample performance of a baseline may still be better than that of our solution.\n",
    "However, in-sample performance of our own solutions should always be better than any baseline.\n",
    "If that is not the case, this would indicate our search does not explore the space well enough."
   ]
  },
  {
   "cell_type": "code",
   "execution_count": null,
   "metadata": {},
   "outputs": [],
   "source": [
    "in_sample_comparisons = pd.DataFrame()\n",
    "for log, trace in traces.items():\n",
    "    in_sample_comparisons = in_sample_comparisons.append(trace.in_comparison.loc['either'].rename(log))\n",
    "in_sample_comparisons"
   ]
  },
  {
   "cell_type": "code",
   "execution_count": null,
   "metadata": {},
   "outputs": [],
   "source": [
    "ml = traces['mlr_rf_mupluslambda_2']\n",
    "rs = traces['mlr_rf_random_search_2']"
   ]
  },
  {
   "cell_type": "code",
   "execution_count": null,
   "metadata": {},
   "outputs": [],
   "source": [
    "ml.scores.head()"
   ]
  },
  {
   "cell_type": "markdown",
   "metadata": {},
   "source": [
    "### Comparison to random search \n",
    "The following provides an overview over scores for different iterations of random search"
   ]
  },
  {
   "cell_type": "code",
   "execution_count": null,
   "metadata": {},
   "outputs": [],
   "source": [
    "rsdf = pd.read_csv(\"data/mlr_\"+alg+\"_baselines.csv\", index_col=0)\n",
    "rsdf.iloc[:,1:].apply(np.mean,axis=1)"
   ]
  },
  {
   "cell_type": "markdown",
   "metadata": {},
   "source": [
    "----\n",
    "End of notebook - just sketchpad below"
   ]
  },
  {
   "cell_type": "code",
   "execution_count": null,
   "metadata": {},
   "outputs": [],
   "source": [
    "trsdf = rsdf.transpose()\n",
    "trsdf.index.name = \"task\"\n",
    "trsdf.index = pd.Index([int(float(x)) for x in trsdf.index.values])"
   ]
  },
  {
   "cell_type": "code",
   "execution_count": null,
   "metadata": {},
   "outputs": [],
   "source": [
    "import seaborn as sns\n",
    "df = ml.scores.loc[ml.scores.index.map(lambda idx: idx[1] == \"out-sample\")]\n",
    "df.index = pd.Index(df.index.map(lambda idx: idx[0]))\n",
    "df = df.join(trsdf)"
   ]
  },
  {
   "cell_type": "code",
   "execution_count": null,
   "metadata": {},
   "outputs": [],
   "source": [
    "df = df.loc[:,df.median().sort_values().index]\n",
    "p = sns.boxplot(data=df.melt(), y = \"value\", x = \"variable\")\n",
    "p.set_xticklabels(p.get_xticklabels(), rotation=45)\n",
    "plt.show(p)"
   ]
  },
  {
   "cell_type": "code",
   "execution_count": null,
   "metadata": {},
   "outputs": [],
   "source": [
    "################ END OF RELEVANT PARTS #################"
   ]
  },
  {
   "cell_type": "code",
   "execution_count": null,
   "metadata": {},
   "outputs": [],
   "source": [
    "alg = \"rf\"\n",
    "run_one = f\"mlr_{alg}_mupluslambda_0\"\n",
    "minimum = dict(knn=100, svm=100, glmnet=100, rpart=60, rf=25)\n",
    "final_scores = pd.DataFrame()\n",
    "for log, trace in traces.items():\n",
    "    # Filter out runs with >100 tasks completed:\n",
    "    if len(trace.scores) / 2 > minimum[alg]:\n",
    "        out_sampfirst_n_tasksle = trace.scores.index.map(lambda idx: idx[1] == \"out-sample\")\n",
    "        log_oos = trace.scores.loc[out_sample].final.rename(log)\n",
    "        final_scores = final_scores.append(log_oos)\n",
    "        if log == run_one:\n",
    "            # contains benchmark scores\n",
    "            for b in trace.baseline:\n",
    "                baseline_score = trace.scores.loc[out_sample][b].rename(b)\n",
    "                final_scores = final_scores.append(baseline_score)\n",
    "final_scores"
   ]
  },
  {
   "cell_type": "code",
   "execution_count": null,
   "metadata": {},
   "outputs": [],
   "source": []
  },
  {
   "cell_type": "code",
   "execution_count": null,
   "metadata": {},
   "outputs": [],
   "source": [
    "# filter out incomplete tasks:\n",
    "final = final_scores.loc[:, ~final_scores.isna().any()]\n",
    "df = final"
   ]
  },
  {
   "cell_type": "code",
   "execution_count": null,
   "metadata": {},
   "outputs": [],
   "source": [
    "run_one=\"mlr_svm_lisa\"\n",
    "run_two=\"svm_warm\""
   ]
  },
  {
   "cell_type": "code",
   "execution_count": null,
   "metadata": {},
   "outputs": [],
   "source": [
    "df = df.loc[[run_one, run_two]]"
   ]
  },
  {
   "cell_type": "code",
   "execution_count": null,
   "metadata": {},
   "outputs": [],
   "source": [
    "alone = {k: 0 for k in df.index.values}\n",
    "shared = {k: 0 for k in df.index.values}\n",
    "\n",
    "for _, out in df.T.iterrows():\n",
    "    best = out[out == out.max()].index.values\n",
    "    if len(best) == 1:\n",
    "        alone[best[0]] += 1\n",
    "    else:\n",
    "        for winner in best:\n",
    "            shared[winner] += 1\n",
    "\n",
    "alone = {k: alone[k] for k in sorted(alone)}\n",
    "shared = {k: shared[k] for k in sorted(shared)}\n",
    "either = {k: shared[k] + alone[k] for k in sorted({**alone, **shared})}\n",
    "comparison = pd.DataFrame([alone, shared, either], index=['alone', 'shared', 'either'])\n",
    "comparison\n"
   ]
  },
  {
   "cell_type": "code",
   "execution_count": null,
   "metadata": {},
   "outputs": [],
   "source": [
    "df_out = df.T.copy()\n",
    "df_out['max'] = df_out.max(axis=1)\n",
    "for col in df_out:\n",
    "    df_out['d_' + col] = df_out['max'] - df_out[col]\n",
    "d_cols = [c for c in df_out.columns if c.startswith('d_') and 'max' not in c]\n",
    "df_out[d_cols].mean()"
   ]
  },
  {
   "cell_type": "code",
   "execution_count": null,
   "metadata": {},
   "outputs": [],
   "source": [
    "df_out[d_cols].median()"
   ]
  },
  {
   "cell_type": "code",
   "execution_count": null,
   "metadata": {},
   "outputs": [],
   "source": [
    "ax = (df.loc[run_one] - df.loc[run_two]).hist(bins=[(f / 40 - 1) for f in range(81)])\n",
    "ax.set_title(f\"Symbolic - Constant | median: {(df.loc[run_one] - df.loc[run_two]).median():.3f}, mean: {(df.loc[run_one] - df.loc[run_two]).mean():.3f}, {df.shape[1]} tasks\")\n",
    "ax.set_ylabel(\"Count\")\n",
    "ax.set_xlabel(\"Difference\")"
   ]
  },
  {
   "cell_type": "code",
   "execution_count": null,
   "metadata": {},
   "outputs": [],
   "source": []
  },
  {
   "cell_type": "code",
   "execution_count": null,
   "metadata": {},
   "outputs": [],
   "source": [
    "sum((df.loc[\"mlr_svm_lisa\"] - df.loc[\"svm_cst\"]) > 0)"
   ]
  },
  {
   "cell_type": "code",
   "execution_count": null,
   "metadata": {},
   "outputs": [],
   "source": [
    "(df.loc[\"mlr_svm_lisa\"] - df.loc[\"svm_cst\"]).mean()"
   ]
  },
  {
   "cell_type": "code",
   "execution_count": null,
   "metadata": {},
   "outputs": [],
   "source": [
    "rsdf.columns = [(round(float(x)), 'out-sample')  for x in rsdf.columns.values"
   ]
  },
  {
   "cell_type": "code",
   "execution_count": null,
   "metadata": {},
   "outputs": [],
   "source": [
    "df = rsdf.append(final_scores)\n",
    "df.iloc[:,1:].apply(np.mean,axis=1)"
   ]
  },
  {
   "cell_type": "code",
   "execution_count": null,
   "metadata": {},
   "outputs": [],
   "source": [
    "pdf = df.transpose().melt(var_name=\"method\", value_name=\"performance\")\n",
    "ax = sns.boxplot(x='method', y='performance', data = pdf)\n",
    "ax.set_xticklabels(ax.get_xticklabels(), rotation=90)"
   ]
  },
  {
   "cell_type": "code",
   "execution_count": null,
   "metadata": {},
   "outputs": [],
   "source": []
  },
  {
   "cell_type": "markdown",
   "metadata": {},
   "source": [
    "#### mean regret:\n",
    "The following table records the mean regret for a specific strategy compared to picking the best in hindsight:"
   ]
  },
  {
   "cell_type": "code",
   "execution_count": null,
   "metadata": {},
   "outputs": [],
   "source": [
    "means = pd.DataFrame([])\n",
    "for log, trace in traces.items():\n",
    "    m = trace.d_scores.mean().rename(log)\n",
    "    means = means.append(m)\n",
    "means[[c for c in medians.columns if 'd_' in c and c != 'd_max']]"
   ]
  },
  {
   "cell_type": "code",
   "execution_count": null,
   "metadata": {},
   "outputs": [],
   "source": []
  },
  {
   "cell_type": "code",
   "execution_count": null,
   "metadata": {},
   "outputs": [],
   "source": [
    "for problem in [\"svm\"]:\n",
    "    for search in [\"mupluslambda\", \"random_search\", \"True\"]:\n",
    "        problem_search_dir = os.path.join(\"runs\", f\"{problem}_{search}\")   \n",
    "        for rundir in os.listdir(problem_search_dir):\n",
    "            eval_file = os.path.join(problem_search_dir, rundir, \"evaluations.csv\")\n",
    "            eval_file_new = os.path.join(problem_search_dir, rundir, \"new_evaluations.csv\")\n",
    "            with open(eval_file) as old, open(eval_file_new, 'w') as new:\n",
    "                for line in old.readlines():\n",
    "                    content = line.split(',')\n",
    "                    cs, expr_parts = content[:7], content[7:]\n",
    "                    newsep = ';'.join(cs + [','.join(expr_parts)])\n",
    "                    new.write(newsep)"
   ]
  }
 ],
 "metadata": {
  "kernelspec": {
   "display_name": "Python 3",
   "language": "python",
   "name": "python3"
  },
  "language_info": {
   "codemirror_mode": {
    "name": "ipython",
    "version": 3
   },
   "file_extension": ".py",
   "mimetype": "text/x-python",
   "name": "python",
   "nbconvert_exporter": "python",
   "pygments_lexer": "ipython3",
   "version": "3.8.2"
  }
 },
 "nbformat": 4,
 "nbformat_minor": 4
}
