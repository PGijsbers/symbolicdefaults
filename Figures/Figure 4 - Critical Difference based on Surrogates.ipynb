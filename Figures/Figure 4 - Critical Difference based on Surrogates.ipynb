{
 "cells": [
  {
   "cell_type": "markdown",
   "metadata": {},
   "source": [
    "# Critical Difference Plot on Surrogate Performance"
   ]
  },
  {
   "cell_type": "markdown",
   "metadata": {},
   "source": [
    "Produces an image similar to:"
   ]
  },
  {
   "attachments": {
    "image.png": {
     "image/png": "[encoded data removed]"
    }
   },
   "cell_type": "markdown",
   "metadata": {},
   "source": [
    "![image.png](attachment:image.png)"
   ]
  },
  {
   "cell_type": "code",
   "execution_count": null,
   "metadata": {},
   "outputs": [],
   "source": [
    "import pandas as pd\n",
    "import seaborn as sns\n",
    "import matplotlib.pyplot as plt\n",
    "\n",
    "import matplotlib\n",
    "matplotlib.rcParams['pdf.fonttype'] = 42\n",
    "matplotlib.rcParams['ps.fonttype'] = 42"
   ]
  },
  {
   "cell_type": "code",
   "execution_count": null,
   "metadata": {},
   "outputs": [],
   "source": [
    "surrogate_performance = pd.read_csv(\"surrogate_performance.csv\", sep=';', header=0)\n",
    "opt_random_search = pd.read_csv(\"optimistic_random_search.csv\", sep=';', header=0)"
   ]
  },
  {
   "cell_type": "code",
   "execution_count": 2,
   "metadata": {},
   "outputs": [],
   "source": [
    "import Orange"
   ]
  },
  {
   "cell_type": "markdown",
   "metadata": {},
   "source": [
    "Original code:"
   ]
  },
  {
   "cell_type": "code",
   "execution_count": null,
   "metadata": {},
   "outputs": [],
   "source": [
    "# Need to find out how to annotate those CD diagrams\n",
    "aggsrdf2 = aggsrdf[~aggsrdf.search.isin(filter_search+[\"mupluslambda\"])].copy()\n",
    "aggsrdf2[\"out_rank\"] = aggsrdf2.groupby([\"task\", \"problem\"]).out.rank(ascending=False)\n",
    "aggsrdf2 = aggsrdf2.sort_values([\"task\", \"problem\"])\n",
    "aggdf2 = aggsrdf2.groupby([\"problem\", \"search\"])[\"out_rank\"].mean().reset_index()\n",
    "\n",
    "for problem in aggdf2.problem.unique():\n",
    "    data = aggdf2[aggdf2.problem == problem]\n",
    "    if len(data):\n",
    "        # Friedman Test: \n",
    "        cnts = aggsrdf2[aggsrdf2.problem == problem].groupby([\"task\"]).search.count()\n",
    "        drop = cnts[cnts != cnts.max()].index.values\n",
    "        ftestdata = aggsrdf2[(aggsrdf2.problem == problem) & (~aggsrdf2.task.isin(drop))]\n",
    "        xar = [[x.values] for name, x in ftestdata.groupby([\"search\"])[\"out\"]]\n",
    "        tst = scipy.stats.friedmanchisquare(*xar)\n",
    "        print(f\"{problem} : {tst}\")\n",
    "        # Nemeny Test\n",
    "        n_tasks = len(aggsrdf[aggsrdf.problem == problem].task.unique())\n",
    "        print(f\"{n_tasks}\")\n",
    "        names = data[\"search\"].values\n",
    "        avg_ranks = data[\"out_rank\"].values\n",
    "        cd = Orange.evaluation.compute_CD(avg_ranks, n_tasks)\n",
    "        if tst[1] > 0.05:\n",
    "            cd=None\n",
    "        #import pdb; pdb.set_trace()\n",
    "        cdm = [i for i,v in enumerate(names) if v == \"symbolic default\"]\n",
    "        Orange.evaluation.graph_ranks(avg_ranks, names, cdmethod = cdm[0],cd=cd, width=6, textspace=1.5)\n",
    "        # plt.title(problem)\n",
    "        plt.savefig(f\"figures/cd_surrogates_{problem}.pdf\", bbox_inches='tight', pad_inches=.1)\n",
    "        plt.show()"
   ]
  }
 ],
 "metadata": {
  "kernelspec": {
   "display_name": "Python 3",
   "language": "python",
   "name": "python3"
  },
  "language_info": {
   "codemirror_mode": {
    "name": "ipython",
    "version": 3
   },
   "file_extension": ".py",
   "mimetype": "text/x-python",
   "name": "python",
   "nbconvert_exporter": "python",
   "pygments_lexer": "ipython3",
   "version": "3.6.8"
  }
 },
 "nbformat": 4,
 "nbformat_minor": 4
}
