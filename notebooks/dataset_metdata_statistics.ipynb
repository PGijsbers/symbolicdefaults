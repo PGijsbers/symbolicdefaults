{
 "cells": [
  {
   "cell_type": "code",
   "execution_count": 10,
   "metadata": {},
   "outputs": [],
   "source": [
    "import pandas as pd\n",
    "import numpy as np\n",
    "\n",
    "from src.problem import Problem"
   ]
  },
  {
   "cell_type": "code",
   "execution_count": 13,
   "metadata": {},
   "outputs": [],
   "source": [
    "p = Problem(\"mlr_rf\")"
   ]
  },
  {
   "cell_type": "code",
   "execution_count": 15,
   "metadata": {},
   "outputs": [
    {
     "data": {
      "text/plain": [
       "119"
      ]
     },
     "execution_count": 15,
     "metadata": {},
     "output_type": "execute_result"
    }
   ],
   "source": [
    "# Number of datasets\n",
    "p.data.task_id.nunique()"
   ]
  },
  {
   "cell_type": "code",
   "execution_count": 59,
   "metadata": {},
   "outputs": [
    {
     "data": {
      "text/html": [
       "<div>\n",
       "<style scoped>\n",
       "    .dataframe tbody tr th:only-of-type {\n",
       "        vertical-align: middle;\n",
       "    }\n",
       "\n",
       "    .dataframe tbody tr th {\n",
       "        vertical-align: top;\n",
       "    }\n",
       "\n",
       "    .dataframe thead th {\n",
       "        text-align: right;\n",
       "    }\n",
       "</style>\n",
       "<table border=\"1\" class=\"dataframe\">\n",
       "  <thead>\n",
       "    <tr style=\"text-align: right;\">\n",
       "      <th></th>\n",
       "      <th>symbol</th>\n",
       "      <th>explanation</th>\n",
       "      <th>min</th>\n",
       "      <th>median</th>\n",
       "      <th>max</th>\n",
       "    </tr>\n",
       "  </thead>\n",
       "  <tbody>\n",
       "    <tr>\n",
       "      <th>0</th>\n",
       "      <td>n</td>\n",
       "      <td>N. observations</td>\n",
       "      <td>100.000000</td>\n",
       "      <td>4147.000000</td>\n",
       "      <td>130064.000000</td>\n",
       "    </tr>\n",
       "    <tr>\n",
       "      <th>1</th>\n",
       "      <td>po</td>\n",
       "      <td>N. features original</td>\n",
       "      <td>4.000000</td>\n",
       "      <td>36.000000</td>\n",
       "      <td>10000.000000</td>\n",
       "    </tr>\n",
       "    <tr>\n",
       "      <th>2</th>\n",
       "      <td>p</td>\n",
       "      <td>N. features one-hot</td>\n",
       "      <td>4.000000</td>\n",
       "      <td>54.000000</td>\n",
       "      <td>71673.000000</td>\n",
       "    </tr>\n",
       "    <tr>\n",
       "      <th>3</th>\n",
       "      <td>m</td>\n",
       "      <td>N. classes</td>\n",
       "      <td>2.000000</td>\n",
       "      <td>2.000000</td>\n",
       "      <td>100.000000</td>\n",
       "    </tr>\n",
       "    <tr>\n",
       "      <th>4</th>\n",
       "      <td>rc</td>\n",
       "      <td>N. categorical/ p</td>\n",
       "      <td>-0.306122</td>\n",
       "      <td>0.000000</td>\n",
       "      <td>1.000000</td>\n",
       "    </tr>\n",
       "    <tr>\n",
       "      <th>5</th>\n",
       "      <td>mcp</td>\n",
       "      <td>Majority Class %</td>\n",
       "      <td>0.010006</td>\n",
       "      <td>0.518809</td>\n",
       "      <td>0.998385</td>\n",
       "    </tr>\n",
       "    <tr>\n",
       "      <th>6</th>\n",
       "      <td>mkd</td>\n",
       "      <td>Median Kernel Distance</td>\n",
       "      <td>0.000048</td>\n",
       "      <td>0.012764</td>\n",
       "      <td>0.549148</td>\n",
       "    </tr>\n",
       "    <tr>\n",
       "      <th>7</th>\n",
       "      <td>xvar</td>\n",
       "      <td>Avg. feature variance</td>\n",
       "      <td>0.000172</td>\n",
       "      <td>1.000000</td>\n",
       "      <td>1.000002</td>\n",
       "    </tr>\n",
       "  </tbody>\n",
       "</table>\n",
       "</div>"
      ],
      "text/plain": [
       "  symbol             explanation         min       median            max\n",
       "0      n         N. observations  100.000000  4147.000000  130064.000000\n",
       "1     po    N. features original    4.000000    36.000000   10000.000000\n",
       "2      p     N. features one-hot    4.000000    54.000000   71673.000000\n",
       "3      m              N. classes    2.000000     2.000000     100.000000\n",
       "4     rc       N. categorical/ p   -0.306122     0.000000       1.000000\n",
       "5    mcp        Majority Class %    0.010006     0.518809       0.998385\n",
       "6    mkd  Median Kernel Distance    0.000048     0.012764       0.549148\n",
       "7   xvar   Avg. feature variance    0.000172     1.000000       1.000002"
      ]
     },
     "execution_count": 59,
     "metadata": {},
     "output_type": "execute_result"
    }
   ],
   "source": [
    "# Create latexable dataframe\n",
    "df = p.metadata.apply([min, np.median, max], axis=0).transpose()\n",
    "# Add explanation\n",
    "df[\"explanation\"] = [\"N. classes\", \"N. observations\", \"N. features original\", \"N. features one-hot\", \"N. categorical / p\", \"Majority Class %\", \"Median Kernel Distance\", \"Avg. feature variance\"]\n",
    "df[\"symbol\"] = df.index\n",
    "# Reorder\n",
    "df = df.iloc[[1,2,3,0,4,5,6,7], [4, 3,0,1,2]]\n",
    "df = df.reset_index(drop=True)\n",
    "df"
   ]
  },
  {
   "cell_type": "code",
   "execution_count": 60,
   "metadata": {},
   "outputs": [
    {
     "name": "stdout",
     "output_type": "stream",
     "text": [
      "\\begin{tabular}{llrrr}\n",
      "\\toprule\n",
      "symbol &             explanation &    min &  median &       max \\\\\n",
      "\\midrule\n",
      "     n &         N. observations & 100.00 & 4147.00 & 130064.00 \\\\\n",
      "    po &    N. features original &   4.00 &   36.00 &  10000.00 \\\\\n",
      "     p &     N. features one-hot &   4.00 &   54.00 &  71673.00 \\\\\n",
      "     m &              N. classes &   2.00 &    2.00 &    100.00 \\\\\n",
      "    rc &       N. categorical/ p &  -0.31 &    0.00 &      1.00 \\\\\n",
      "   mcp &        Majority Class \\% &   0.01 &    0.52 &      1.00 \\\\\n",
      "   mkd &  Median Kernel Distance &   0.00 &    0.01 &      0.55 \\\\\n",
      "  xvar &   Avg. feature variance &   0.00 &    1.00 &      1.00 \\\\\n",
      "\\bottomrule\n",
      "\\end{tabular}\n",
      "\n"
     ]
    }
   ],
   "source": [
    "print(df.to_latex(index=False, float_format=\"%.2f\"))"
   ]
  },
  {
   "cell_type": "code",
   "execution_count": null,
   "metadata": {},
   "outputs": [],
   "source": []
  }
 ],
 "metadata": {
  "kernelspec": {
   "display_name": "Python 3",
   "language": "python",
   "name": "python3"
  },
  "language_info": {
   "codemirror_mode": {
    "name": "ipython",
    "version": 3
   },
   "file_extension": ".py",
   "mimetype": "text/x-python",
   "name": "python",
   "nbconvert_exporter": "python",
   "pygments_lexer": "ipython3",
   "version": "3.8.2"
  }
 },
 "nbformat": 4,
 "nbformat_minor": 4
}
