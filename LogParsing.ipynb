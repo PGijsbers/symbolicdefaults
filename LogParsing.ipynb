{
 "cells": [
  {
   "cell_type": "code",
   "execution_count": 26,
   "metadata": {},
   "outputs": [],
   "source": [
    "from typing import Tuple\n",
    "from collections import defaultdict\n",
    "import numpy as np\n",
    "import pandas as pd\n",
    "\n",
    "\n",
    "class Trace:\n",
    "\n",
    "    def __init__(self, filename: str, benchmarks=None, ignore=None, parse_progress=True):\n",
    "        self.baseline = set(benchmarks) if benchmarks else set()\n",
    "        self.scores, self.expressions, generations_by_task, self.baseline, self.progdf = parse_log(filename, baseline=self.baseline,ignore=ignore,parse_progress=parse_progress)\n",
    "        self.comparison, self.d_scores = comparisons(self.scores)\n",
    "        self.in_comparison, self.in_d_scores = comparisons(self.scores, sample=\"in-sample\")\n",
    "        self.generations_by_task = pd.Series(generations_by_task, name=\"generations\")\n",
    "\n",
    "    @property\n",
    "    def most_frequent_solutions_by_length(self):\n",
    "        for length, expressions in sorted(self.expressions.items()):\n",
    "            m = max(set(expressions), key=expressions.count)\n",
    "            yield m, expressions.count(m)\n",
    "            # print(f\" Found {len(expressions):3d} expressions of length {length}. Most frequent: {m} ({expressions.count(m)} times)\")\n",
    "\n",
    "\n",
    "def parse_log(file, with_prefix=False, baseline=None, ignore=None, parse_progress=True):\n",
    "    with open(file) as fh:\n",
    "        lines = fh.readlines()\n",
    "        \n",
    "    # ignore lines with an expression that is asked to be ignored\n",
    "    lines = [line for line in lines if not any([i in line for i in ignore])]\n",
    "\n",
    "    p = 'INFO:root:' if with_prefix else ''\n",
    "\n",
    "    definitions = [line for line in lines if ':=' in line]\n",
    "    baseline = baseline if baseline else set()\n",
    "    \n",
    "    print(\"The predefined defaults are (may show a repeat):\")\n",
    "    for line in definitions:\n",
    "        if ':=' in line and [i in line for i in ignore]:\n",
    "            print(f\" * {line[len(p):-1]}\")\n",
    "            baseline.add(line[len(p):].split(' :=')[0])\n",
    "\n",
    "    task_starts = [i for i, line in enumerate(lines) if \"START_TASK:\" in line]\n",
    "    in_sample_starts = [i for i, line in enumerate(lines) if \"Evaluating in sample:\" in line]\n",
    "    out_sample_starts = [i for i, line in enumerate(lines) if \"Evaluating out-of-sample:\" in line]\n",
    "\n",
    "    def parse_evaluation_line(line) -> Tuple[str, int, float]:\n",
    "        \"\"\" Parse an evaluation line, returning the expression or name, its 'length' and the score.\n",
    "\n",
    "        e.g. INFO:root:[make_tuple(p, mkd)|0.8893]\\n -> 'make_tuple(p, mkd)', 1, 0.8893\n",
    "        Length is 0 for benchmark problems.\n",
    "        \"\"\"\n",
    "        start, pipe, end = line.find('['), line.find('|'), line.find(']')\n",
    "        expression = line[start + 1: pipe]\n",
    "        if ':' in expression:  # For the baseline expressions, record them by name\n",
    "            expression = expression[:expression.find(':')]\n",
    "        expression_length = expression.count('(')\n",
    "        return expression, expression_length, float(line[pipe + 1: end])\n",
    "    \n",
    "    def parse_progess_lines(lines, task, task_start, n_generations) -> pd.DataFrame:\n",
    "        \"\"\"\n",
    "        Parse the log files progress over generations \n",
    "        Lines that evaluate progress start with 'GEN_' followed by Fitness and Size values\n",
    "        \"\"\"\n",
    "        progdf = pd.DataFrame(columns = ['task','gen', 'min', 'avg', 'max'])\n",
    "        for i in range(n_generations):\n",
    "            line = lines[task_start+1+i]\n",
    "            if line.find(\"GEN_\") == 0:\n",
    "                progdf.loc[len(progdf)] =  [task, i] + [float(x) for x in line[line.find(\"FIT_\")+4:line.find(\"_SIZE\")].split(\"_\")]\n",
    "        return progdf\n",
    "\n",
    "\n",
    "    tasks = [int(line[:-1].split(\": \")[-1]) for line in lines if \"START_TASK:\" in line]\n",
    "    idx = pd.MultiIndex.from_product([tasks, [\"in-sample\", \"out-sample\"]], names=['task', 'sample-type'])\n",
    "    df = pd.DataFrame(index=idx, columns=[\"length-1\", \"length-2\", \"length-3\", \"final\", *baseline], dtype=float)\n",
    "\n",
    "    expressions_by_length = defaultdict(list)\n",
    "    generations_by_task = {}\n",
    "    progdf = pd.DataFrame(columns = ['task','gen', 'min', 'avg', 'max'])\n",
    "\n",
    "    for task_start, in_start, out_start, next_task in zip(task_starts, in_sample_starts,\n",
    "                                                          out_sample_starts,\n",
    "                                                          task_starts[1:] + [-(len(baseline)*2 + 1)]):\n",
    "        # start line looks like: INFO:root:START_TASK: 29\\n\n",
    "        task = int(lines[task_start][:-1].split(\": \")[-1])\n",
    "\n",
    "        # Since the in-sample evaluation message follows directly after optimization is done, we use that to record\n",
    "        # the number of generations. We account for the early stopping message if it did not run to 200 generations.\n",
    "        ended_early = 0 if in_start - task_start == 201 else - 1\n",
    "        generations_by_task[task] = in_start - (task_start + 1) - ended_early\n",
    "        \n",
    "        # Parse optimization trace (all lines starting with 'GEN_')\n",
    "        if parse_progress:\n",
    "            progdf = progdf.append(parse_progess_lines(lines, task, task_start, generations_by_task[task]), ignore_index=True)\n",
    "\n",
    "        # Following the \"INFO:root:Evaluating in sample:\" message, symbolic default performance are printed\n",
    "        # They are formatted as \"INFO:root:[make_tuple(p, mkd)|0.8893]\"\n",
    "        # First is any number of best solutions from the pareto front. The last four are benchmark solutions.\n",
    "        # It is possible that two equally good solutions are printed (i.e. same length and performance).\n",
    "        expr_in_task = set()\n",
    "        max_length = 0\n",
    "\n",
    "        for in_sample_evaluation in lines[in_start + 1: out_start]:\n",
    "            expr, length, score = parse_evaluation_line(in_sample_evaluation)\n",
    "            # Pareto fronts may contain literal duplicates, so we filter those out manually.\n",
    "            # We also do not want to include the baseline solutions (they have ':' in their line)\n",
    "            if expr not in expr_in_task: # and ':' not in expr:\n",
    "                expressions_by_length[length].append(expr)\n",
    "                expr_in_task.add(expr)\n",
    "\n",
    "            if length != 0:\n",
    "                if length < 4:\n",
    "                    # Only report one out-of-sample solution for each length (and all benchmarks), so overwrite is OK.\n",
    "                    df.loc[task, \"in-sample\"][f\"length-{length}\"] = score\n",
    "\n",
    "                # Update best so far score and maximum length\n",
    "                df.loc[task, \"in-sample\"][f\"final\"] = np.nanmax(\n",
    "                    [score, df.loc[task, \"in-sample\"][f\"final\"]])\n",
    "                max_length = max(max_length, length)\n",
    "            else:\n",
    "                df.loc[task, \"in-sample\"][expr] = score\n",
    "\n",
    "            if length > max_length:\n",
    "                max_length = length  # To know for which length \"best\" should score out of sample\n",
    "\n",
    "        # Because two equal solutions can be in the Pareto front,\n",
    "        # we note the average out of sample performance if multiple solutions were found.\n",
    "        # Naturally, the solutions with the best in-sample score were those with the highest length in the Pareto front.\n",
    "\n",
    "        scores_by_length = defaultdict(list)\n",
    "\n",
    "        for out_sample_evaluation in lines[out_start + 1: next_task]:\n",
    "            expr, length, score = parse_evaluation_line(out_sample_evaluation)\n",
    "            if length != 0:\n",
    "                scores_by_length[length].append(score)\n",
    "            else:\n",
    "                df.loc[task, \"out-sample\"][expr] = score\n",
    "\n",
    "        for length, scores in scores_by_length.items():\n",
    "            if length < 4:\n",
    "                df.loc[task, \"out-sample\"][f\"length-{length}\"] = np.mean(scores)\n",
    "            if length == max_length:\n",
    "                df.loc[task, \"out-sample\"][f\"final\"] = np.mean(scores)\n",
    "            if np.mean(scores) == float(\"nan\"):\n",
    "                print('hi')\n",
    "\n",
    "    return df, expressions_by_length, generations_by_task, baseline, progdf\n",
    "\n",
    "\n",
    "def comparisons(df, sample=\"out-sample\"):\n",
    "    out_sample = df.index.map(lambda idx: idx[1] == sample)\n",
    "\n",
    "    alone = {k: 0 for k in df.iloc[0].index.values}\n",
    "    shared = {k: 0 for k in df.iloc[0].index.values}\n",
    "\n",
    "    for _, out in df.loc[out_sample].iterrows():\n",
    "        best = out[out == out.max()].index.values\n",
    "        if len(best) == 1:\n",
    "            alone[best[0]] += 1\n",
    "        else:\n",
    "            for winner in best:\n",
    "                shared[winner] += 1\n",
    "\n",
    "    alone = {k: alone[k] for k in sorted(alone)}\n",
    "    shared = {k: shared[k] for k in sorted(shared)}\n",
    "    either = {k: shared[k] + alone[k] for k in sorted({**alone, **shared})}\n",
    "    comparison = pd.DataFrame([alone, shared, either], index=['alone', 'shared', 'either'])\n",
    "\n",
    "    df_out = df.loc[out_sample].copy()\n",
    "    df_out['max'] = df_out.max(axis=1)\n",
    "    for col in df_out:\n",
    "        df_out['d_' + col] = df_out['max'] - df_out[col]\n",
    "    d_cols = [c for c in df_out.columns if c.startswith('d_')]\n",
    "    df_out[d_cols].mean()\n",
    "    df_out[d_cols].median()\n",
    "\n",
    "    in_sample = df.index.map(lambda idx: idx[1] == \"in-sample\")\n",
    "    df.loc[in_sample].idxmax(axis=1).value_counts()\n",
    "    df.loc[in_sample][reversed(df.columns)].idxmax(axis=1).value_counts()\n",
    "    return comparison, df_out\n"
   ]
  },
  {
   "cell_type": "code",
   "execution_count": 27,
   "metadata": {},
   "outputs": [],
   "source": [
    "from collections import defaultdict\n",
    "from typing import Tuple\n",
    "import numpy as np\n",
    "import pandas as pd"
   ]
  },
  {
   "cell_type": "markdown",
   "metadata": {},
   "source": [
    "# Symbolic Defaults by 'complexity' of expression\n",
    "In this notebook we take a look at the results of running the script at its default settings, this means:\n",
    " - evaluation across all tasks\n",
    " - recording the pareto front of symbolic defaults after each search\n",
    " - evaluating in-sample and out-of-sample performance of those dynamic defaults, as well as some pre-defined ones\n",
    " \n",
    "**note:** The console cut off results for the first few tasks, so I am rerunning those now."
   ]
  },
  {
   "cell_type": "markdown",
   "metadata": {},
   "source": [
    "For each task we will extract:\n",
    " - the number of generations optimization ran for (max=200)\n",
    " - max length expression\n",
    " - in and out of sample performance for length 1, 2 and 3 expression"
   ]
  },
  {
   "cell_type": "markdown",
   "metadata": {},
   "source": [
    "For each task save the benchmark results. We also save results for length 1, 2 and 3 solutions as well as the best one found (that may be longer). Specifically we record:\n",
    " - best in_sample performance at length 1, 2, 3\n",
    " - best in_sample performance for any length\n",
    " - average out_sample performance by length for length 1, 2, 3\n",
    " - average out_sample performance for the longest (i.e. best in-sample score) solution(s)."
   ]
  },
  {
   "cell_type": "markdown",
   "metadata": {},
   "source": [
    "## Setup\n",
    "We have experiment data for a set of algorithms and meta-data for the datasets on which the experiments took place.\n",
    "We use symbolic regression to find an expression for symbolic default values that give good performance across tasks.\n",
    "Symbolic regression is performed with leave-one-task-out, which means for each algorithm we have multiple searches for a symbolic default, and their performance is recorded for both in-sample (the optimization surface of all-but-one tasks) and out-of-sample (the left out task) performance. Performance here is solely based on surrogate model predictions, no additional experiments have been performed (yet).\n",
    "\n",
    "In our search, we use NSGA-II selection to perform multi-objective optimization: find the expression with the best performance, while using the fewest number of operators (e.g. `divide`, `multiply`)."
   ]
  },
  {
   "cell_type": "markdown",
   "metadata": {},
   "source": [
    "### Terms\n",
    "**Length** of an expression denotes the number of operators in it. A symbolic value is *not* considered an operation.\n",
    "Consider the following SVM defaults for cost and gamma:\n",
    " - `make_tuple`(m, mkd) is length 1.\n",
    " - `make_tuple`(m, `truediv`(mkd, xvar)) is length 2.\n",
    " - `make_tuple`(16., `truediv`(mkd, xvar)) is length 2.\n",
    "\n",
    "The **final** solution refers to the symbolic default with the highest in-sample score for a task (regardless of its length). This means for each task there is *at least* one final solution, but there may be more and they are not of a specific length.\n"
   ]
  },
  {
   "cell_type": "markdown",
   "metadata": {},
   "source": [
    "The **baseline** solutions are typically the default hyperparameter settings of mlr, scikit-learn, or both."
   ]
  },
  {
   "cell_type": "markdown",
   "metadata": {},
   "source": [
    "---"
   ]
  },
  {
   "cell_type": "markdown",
   "metadata": {},
   "source": [
    "We read all the logs, because some logs are incomplete we have to explicitly give the name of the baselines (this will be fixed for future runs)."
   ]
  },
  {
   "cell_type": "code",
   "execution_count": 28,
   "metadata": {},
   "outputs": [
    {
     "name": "stdout",
     "output_type": "stream",
     "text": [
      "mlr_svm_lisa_gaussian.log\n",
      "The predefined defaults are (may show a repeat):\n",
      " * sklearn_default := make_tuple(1., truediv(1., mul(p, xvar)))\n",
      " * symbolic_best := make_tuple(16., truediv(mkd, xvar))\n",
      "mlr_svm_lisa.log\n",
      "The predefined defaults are (may show a repeat):\n",
      " * sklearn_default := make_tuple(1., truediv(1., mul(p, xvar)))\n",
      " * symbolic_best := make_tuple(16., truediv(mkd, xvar))\n",
      " * sklearn_default := make_tuple(1., truediv(1., mul(p, xvar)))\n",
      " * symbolic_best := make_tuple(16., truediv(mkd, xvar))\n",
      "mlr_svm_lisa_local.log\n",
      "The predefined defaults are (may show a repeat):\n",
      " * sklearn_default := make_tuple(1., truediv(1., mul(p, xvar)))\n",
      " * symbolic_best := make_tuple(16., truediv(mkd, xvar))\n",
      "mlr_svm_lisa_one.log\n",
      "The predefined defaults are (may show a repeat):\n",
      " * sklearn_default := make_tuple(1., truediv(1., mul(p, xvar)))\n",
      " * symbolic_best := make_tuple(16., truediv(mkd, xvar))\n",
      "mlr_svm_lisa_improve.log\n",
      "The predefined defaults are (may show a repeat):\n",
      " * sklearn_default := make_tuple(1., truediv(1., mul(p, xvar)))\n",
      " * symbolic_best := make_tuple(16., truediv(mkd, xvar))\n"
     ]
    }
   ],
   "source": [
    "alg = 'mlr_svm_lisa'\n",
    "run_one = f\"mlr_svm_lisa_gaussian\"\n",
    "run_two = f\"{alg}_cst\"\n",
    "\n",
    "import os\n",
    "baselines = dict(\n",
    "    glmnet=[\"mlr_default\", \"sklearn_default\"],\n",
    "    kerasff=[\"initial_values\"],\n",
    "    knn=[\"mlr_default\"],\n",
    "    rf=[\"mlr_default\"],\n",
    "    rpart=[\"mlr_default\"],\n",
    "    asvm=[\"sklearn_scale\", \"symbolic_best\", \"symbolic_v2\" , \"const\"],\n",
    ")\n",
    "traces = {}\n",
    "for file in os.listdir('runs'):\n",
    "    if file.endswith('.log') and alg in file:\n",
    "        print(file)\n",
    "        baseline = []\n",
    "        for method, bls in baselines.items():\n",
    "            if method in file:\n",
    "                baseline = bls\n",
    "        traces[file[:-4]] = Trace(os.path.join('runs', file), benchmarks=baseline, ignore=[\"const\", \"symbolic_v2\"])"
   ]
  },
  {
   "cell_type": "markdown",
   "metadata": {},
   "source": [
    "### Optimization\n",
    "As described before, for each problem we find a symbolic default leaving one task out.\n",
    "We are interested to see how fast the symbolic regression converges across tasks."
   ]
  },
  {
   "cell_type": "code",
   "execution_count": 29,
   "metadata": {},
   "outputs": [
    {
     "name": "stdout",
     "output_type": "stream",
     "text": [
      "Median number of generations across tasks by problem:\n",
      "mlr_svm_lisa_gaussian  77\n",
      "mlr_svm_lisa     62\n",
      "mlr_svm_lisa_local  67\n",
      "mlr_svm_lisa_one  64\n",
      "mlr_svm_lisa_improve  64\n"
     ]
    }
   ],
   "source": [
    "print(\"Median number of generations across tasks by problem:\")\n",
    "for log, trace in traces.items():\n",
    "    print(f\"{log: <15} {trace.generations_by_task.median().astype(int):3d}\")"
   ]
  },
  {
   "cell_type": "code",
   "execution_count": 30,
   "metadata": {},
   "outputs": [
    {
     "data": {
      "image/png": "[encoded data removed]",
      "text/plain": [
       "<Figure size 1152x648 with 8 Axes>"
      ]
     },
     "metadata": {
      "needs_background": "light"
     },
     "output_type": "display_data"
    }
   ],
   "source": [
    "import matplotlib.pyplot as plt\n",
    "import math\n",
    "\n",
    "fig, axes = plt.subplots(math.ceil(len(traces) / 4), 4, sharey=True, figsize=(16, 9))\n",
    "for ax, (log, trace) in zip(axes.flatten(), traces.items()):\n",
    "    traces[log].generations_by_task.hist(bins=20, ax=ax)\n",
    "    ax.set_title(f\"{log} ({len(trace.generations_by_task)} tasks)\")\n",
    "    ax.set_ylabel('count')\n",
    "    ax.set_xlabel('generations')\n",
    "fig.tight_layout()"
   ]
  },
  {
   "cell_type": "markdown",
   "metadata": {},
   "source": [
    "The plot above shows a histogram counting the number of generations until stopping. These results were obtained with default setting of early stopping if no improvement was made after 20 generations, with a 200 generation maximum."
   ]
  },
  {
   "cell_type": "markdown",
   "metadata": {},
   "source": [
    "### Visualizing optimization traces\n",
    "The traces contain the full optimization traces inside the trace's **progdf** trace.\n"
   ]
  },
  {
   "cell_type": "code",
   "execution_count": 31,
   "metadata": {},
   "outputs": [
    {
     "data": {
      "text/plain": [
       "<matplotlib.axes._subplots.AxesSubplot at 0x7f4bba08bf60>"
      ]
     },
     "execution_count": 31,
     "metadata": {},
     "output_type": "execute_result"
    },
    {
     "data": {
      "image/png": "[encoded data removed]",
      "text/plain": [
       "<Figure size 432x288 with 1 Axes>"
      ]
     },
     "metadata": {
      "needs_background": "light"
     },
     "output_type": "display_data"
    }
   ],
   "source": [
    "import seaborn as sns\n",
    "sns.lineplot(x='gen', y='max', units='task', estimator=None, data=traces['mlr_svm_lisa_local'].progdf)\n",
    "sns.lineplot(x='gen', y='max', units='task', estimator=None, data=traces['mlr_svm_lisa'].progdf)"
   ]
  },
  {
   "cell_type": "markdown",
   "metadata": {},
   "source": [
    "### Comparing Expressions\n",
    "For a given problem, we have a Pareto front of solutions for search (=each left out task).\n",
    "This Pareto front may contain \"twins\", multiple solutions which performance equally well and have the same length.\n",
    "Given that the response surface does not differ *that* much when leaving any particular task out, we hope that the symbolic expressions we find are reasonably consistent across searches.\n",
    "To have some indication of how consistent the results are, for each problem we find the most frequent solutions of length 1, 2 and 3. We also note the number of hyperparameters for which we aim to find a symbolic default, as we expect this to be correlated to how consistent the solutions are:"
   ]
  },
  {
   "cell_type": "code",
   "execution_count": 163,
   "metadata": {},
   "outputs": [
    {
     "data": {
      "text/html": [
       "<div>\n",
       "<style scoped>\n",
       "    .dataframe tbody tr th:only-of-type {\n",
       "        vertical-align: middle;\n",
       "    }\n",
       "\n",
       "    .dataframe tbody tr th {\n",
       "        vertical-align: top;\n",
       "    }\n",
       "\n",
       "    .dataframe thead th {\n",
       "        text-align: right;\n",
       "    }\n",
       "</style>\n",
       "<table border=\"1\" class=\"dataframe\">\n",
       "  <thead>\n",
       "    <tr style=\"text-align: right;\">\n",
       "      <th></th>\n",
       "      <th>mlr_svm_lisa</th>\n",
       "      <th>mlr_svm_lisa_gaussian</th>\n",
       "      <th>mlr_svm_lisa_improve</th>\n",
       "      <th>mlr_svm_lisa_local</th>\n",
       "      <th>mlr_svm_lisa_one</th>\n",
       "    </tr>\n",
       "  </thead>\n",
       "  <tbody>\n",
       "    <tr>\n",
       "      <th>1</th>\n",
       "      <td>106.0</td>\n",
       "      <td>97.0</td>\n",
       "      <td>106.0</td>\n",
       "      <td>106.0</td>\n",
       "      <td>106.0</td>\n",
       "    </tr>\n",
       "    <tr>\n",
       "      <th>2</th>\n",
       "      <td>58.0</td>\n",
       "      <td>56.0</td>\n",
       "      <td>60.0</td>\n",
       "      <td>64.0</td>\n",
       "      <td>56.0</td>\n",
       "    </tr>\n",
       "    <tr>\n",
       "      <th>3</th>\n",
       "      <td>3.0</td>\n",
       "      <td>7.0</td>\n",
       "      <td>14.0</td>\n",
       "      <td>7.0</td>\n",
       "      <td>6.0</td>\n",
       "    </tr>\n",
       "    <tr>\n",
       "      <th>#tasks</th>\n",
       "      <td>106.0</td>\n",
       "      <td>97.0</td>\n",
       "      <td>106.0</td>\n",
       "      <td>106.0</td>\n",
       "      <td>106.0</td>\n",
       "    </tr>\n",
       "    <tr>\n",
       "      <th>params</th>\n",
       "      <td>2.0</td>\n",
       "      <td>2.0</td>\n",
       "      <td>2.0</td>\n",
       "      <td>2.0</td>\n",
       "      <td>2.0</td>\n",
       "    </tr>\n",
       "  </tbody>\n",
       "</table>\n",
       "</div>"
      ],
      "text/plain": [
       "        mlr_svm_lisa  mlr_svm_lisa_gaussian  mlr_svm_lisa_improve  \\\n",
       "1              106.0                   97.0                 106.0   \n",
       "2               58.0                   56.0                  60.0   \n",
       "3                3.0                    7.0                  14.0   \n",
       "#tasks         106.0                   97.0                 106.0   \n",
       "params           2.0                    2.0                   2.0   \n",
       "\n",
       "        mlr_svm_lisa_local  mlr_svm_lisa_one  \n",
       "1                    106.0             106.0  \n",
       "2                     64.0              56.0  \n",
       "3                      7.0               6.0  \n",
       "#tasks               106.0             106.0  \n",
       "params                 2.0               2.0  "
      ]
     },
     "execution_count": 163,
     "metadata": {},
     "output_type": "execute_result"
    }
   ],
   "source": [
    "expr_count = pd.DataFrame(np.zeros((5, len(traces))), columns=list(traces), index=[1, 2, 3, \"#tasks\", \"params\"])\n",
    "for log, trace in traces.items():  \n",
    "    for length, expressions in sorted(trace.expressions.items()):\n",
    "        if 0 < length < 4:\n",
    "            m = max(set(expressions), key=expressions.count)\n",
    "            expr_count.loc[length][log] = expressions.count(m)\n",
    "            # print(f\" Found {len(expressions):3d} expressions of length {length}. Most frequent: {m} ({expressions.count(m)} times)\")\n",
    "            if length == 1:\n",
    "                expr_count.loc[\"#tasks\"][log] = len(trace.scores) / 2\n",
    "                expr_count.loc[\"params\"][log] = m.count(',') + 1\n",
    "expr_count"
   ]
  },
  {
   "cell_type": "markdown",
   "metadata": {},
   "source": [
    "We can look at the found expressions per problem:"
   ]
  },
  {
   "cell_type": "code",
   "execution_count": 164,
   "metadata": {},
   "outputs": [
    {
     "name": "stdout",
     "output_type": "stream",
     "text": [
      "mlr_svm_lisa\n",
      "Most frequent length 1 solution in Pareto front (106 times in 97 tasks):\n",
      "     make_tuple(p, mkd)\n",
      "Most frequent length 2 solution in Pareto front (58 times in 97 tasks):\n",
      "     make_tuple(m, truediv(mkd, xvar))\n",
      "Most frequent length 3 solution in Pareto front (3 times in 97 tasks):\n",
      "     make_tuple(truediv(m, mcp), truediv(mkd, xvar))\n",
      "mlr_svm_lisa_gaussian\n",
      "Most frequent length 1 solution in Pareto front (97 times in 97 tasks):\n",
      "     make_tuple(p, mkd)\n",
      "Most frequent length 2 solution in Pareto front (56 times in 97 tasks):\n",
      "     make_tuple(m, truediv(mkd, xvar))\n",
      "Most frequent length 3 solution in Pareto front (7 times in 97 tasks):\n",
      "     make_tuple(truediv(m, mcp), truediv(mkd, xvar))\n",
      "mlr_svm_lisa_improve\n",
      "Most frequent length 1 solution in Pareto front (106 times in 97 tasks):\n",
      "     make_tuple(p, mkd)\n",
      "Most frequent length 2 solution in Pareto front (60 times in 97 tasks):\n",
      "     make_tuple(m, truediv(mkd, xvar))\n",
      "Most frequent length 3 solution in Pareto front (14 times in 97 tasks):\n",
      "     make_tuple(truediv(m, mcp), truediv(mkd, xvar))\n",
      "mlr_svm_lisa_local\n",
      "Most frequent length 1 solution in Pareto front (106 times in 97 tasks):\n",
      "     make_tuple(p, mkd)\n",
      "Most frequent length 2 solution in Pareto front (64 times in 97 tasks):\n",
      "     make_tuple(m, truediv(mkd, xvar))\n",
      "Most frequent length 3 solution in Pareto front (7 times in 97 tasks):\n",
      "     make_tuple(truediv(m, mcp), truediv(mkd, xvar))\n",
      "mlr_svm_lisa_one\n",
      "Most frequent length 1 solution in Pareto front (106 times in 97 tasks):\n",
      "     make_tuple(p, mkd)\n",
      "Most frequent length 2 solution in Pareto front (56 times in 97 tasks):\n",
      "     make_tuple(m, truediv(mkd, xvar))\n",
      "Most frequent length 3 solution in Pareto front (6 times in 97 tasks):\n",
      "     make_tuple(truediv(m, mcp), truediv(mkd, xvar))\n"
     ]
    }
   ],
   "source": [
    "a = run_one #f\"mlr_knn_lisa_gaussian\" # run_one\n",
    "for log, trace in traces.items():\n",
    "    print(log)\n",
    "    for length, expressions in sorted(trace.expressions.items()):\n",
    "        if 0 < length < 4:\n",
    "            m = max(set(expressions), key=expressions.count)\n",
    "            expr_count.loc[length][log] = expressions.count(m)\n",
    "            # print(f\" Found {len(expressions):3d} expressions of length {length}. Most frequent: {m} ({expressions.count(m)} times)\")\n",
    "            print(f\"Most frequent length {length} solution in Pareto front ({expressions.count(m)} times in {len(traces[a].scores) // 2} tasks):\\n     {m}\")"
   ]
  },
  {
   "cell_type": "markdown",
   "metadata": {},
   "source": [
    "## Expression Quality\n",
    "The expressions we find also need to be good.\n",
    "Here we compare the following 'strategies':\n",
    " - length-*n*: always pick the best expression of length *n*\n",
    " - *final*: always pick the best expression, regardless of length\n",
    " - *baseline(s)*: compare it to baselines we defined\n",
    " \n",
    "We want to know (all based on out-of-sample performance):\n",
    " - which strategy gives the best solution most often?\n",
    " - which strategy experiences the least mean regret?\n",
    " - which strategy experiences the least median regret?\n",
    " \n",
    "As mentioned before, there can be \"twins\" in the Pareto front, which means multiple solutions with equal length have equal in-sample performance.\n",
    "In this case we average the out-of-sample score of those twins."
   ]
  },
  {
   "cell_type": "markdown",
   "metadata": {},
   "source": [
    "#### number of wins:"
   ]
  },
  {
   "cell_type": "markdown",
   "metadata": {},
   "source": [
    "The following table records the number of times a strategy led to the symbolic expression with the best out-of-sample performance (multiple strategies can be the best each task):"
   ]
  },
  {
   "cell_type": "code",
   "execution_count": 165,
   "metadata": {},
   "outputs": [
    {
     "data": {
      "text/html": [
       "<div>\n",
       "<style scoped>\n",
       "    .dataframe tbody tr th:only-of-type {\n",
       "        vertical-align: middle;\n",
       "    }\n",
       "\n",
       "    .dataframe tbody tr th {\n",
       "        vertical-align: top;\n",
       "    }\n",
       "\n",
       "    .dataframe thead th {\n",
       "        text-align: right;\n",
       "    }\n",
       "</style>\n",
       "<table border=\"1\" class=\"dataframe\">\n",
       "  <thead>\n",
       "    <tr style=\"text-align: right;\">\n",
       "      <th></th>\n",
       "      <th>final</th>\n",
       "      <th>length-1</th>\n",
       "      <th>length-2</th>\n",
       "      <th>length-3</th>\n",
       "      <th>sklearn_default</th>\n",
       "      <th>symbolic_best</th>\n",
       "    </tr>\n",
       "  </thead>\n",
       "  <tbody>\n",
       "    <tr>\n",
       "      <th>mlr_svm_lisa</th>\n",
       "      <td>27.0</td>\n",
       "      <td>37.0</td>\n",
       "      <td>24.0</td>\n",
       "      <td>11.0</td>\n",
       "      <td>23.0</td>\n",
       "      <td>29.0</td>\n",
       "    </tr>\n",
       "    <tr>\n",
       "      <th>mlr_svm_lisa_gaussian</th>\n",
       "      <td>19.0</td>\n",
       "      <td>33.0</td>\n",
       "      <td>20.0</td>\n",
       "      <td>10.0</td>\n",
       "      <td>22.0</td>\n",
       "      <td>30.0</td>\n",
       "    </tr>\n",
       "    <tr>\n",
       "      <th>mlr_svm_lisa_improve</th>\n",
       "      <td>23.0</td>\n",
       "      <td>38.0</td>\n",
       "      <td>22.0</td>\n",
       "      <td>11.0</td>\n",
       "      <td>26.0</td>\n",
       "      <td>33.0</td>\n",
       "    </tr>\n",
       "    <tr>\n",
       "      <th>mlr_svm_lisa_local</th>\n",
       "      <td>20.0</td>\n",
       "      <td>36.0</td>\n",
       "      <td>18.0</td>\n",
       "      <td>14.0</td>\n",
       "      <td>26.0</td>\n",
       "      <td>34.0</td>\n",
       "    </tr>\n",
       "    <tr>\n",
       "      <th>mlr_svm_lisa_one</th>\n",
       "      <td>26.0</td>\n",
       "      <td>39.0</td>\n",
       "      <td>26.0</td>\n",
       "      <td>8.0</td>\n",
       "      <td>24.0</td>\n",
       "      <td>32.0</td>\n",
       "    </tr>\n",
       "  </tbody>\n",
       "</table>\n",
       "</div>"
      ],
      "text/plain": [
       "                       final  length-1  length-2  length-3  sklearn_default  \\\n",
       "mlr_svm_lisa            27.0      37.0      24.0      11.0             23.0   \n",
       "mlr_svm_lisa_gaussian   19.0      33.0      20.0      10.0             22.0   \n",
       "mlr_svm_lisa_improve    23.0      38.0      22.0      11.0             26.0   \n",
       "mlr_svm_lisa_local      20.0      36.0      18.0      14.0             26.0   \n",
       "mlr_svm_lisa_one        26.0      39.0      26.0       8.0             24.0   \n",
       "\n",
       "                       symbolic_best  \n",
       "mlr_svm_lisa                    29.0  \n",
       "mlr_svm_lisa_gaussian           30.0  \n",
       "mlr_svm_lisa_improve            33.0  \n",
       "mlr_svm_lisa_local              34.0  \n",
       "mlr_svm_lisa_one                32.0  "
      ]
     },
     "execution_count": 165,
     "metadata": {},
     "output_type": "execute_result"
    }
   ],
   "source": [
    "out_comparisons = pd.DataFrame()\n",
    "for log, trace in traces.items():\n",
    "    out_comparisons = out_comparisons.append(trace.comparison.loc['either'].rename(log))\n",
    "out_comparisons"
   ]
  },
  {
   "cell_type": "markdown",
   "metadata": {},
   "source": [
    "#### median regret:\n",
    "The following table records the median regret for a specific strategy compared to picking the best in hindsight:"
   ]
  },
  {
   "cell_type": "code",
   "execution_count": 166,
   "metadata": {},
   "outputs": [
    {
     "data": {
      "text/html": [
       "<div>\n",
       "<style scoped>\n",
       "    .dataframe tbody tr th:only-of-type {\n",
       "        vertical-align: middle;\n",
       "    }\n",
       "\n",
       "    .dataframe tbody tr th {\n",
       "        vertical-align: top;\n",
       "    }\n",
       "\n",
       "    .dataframe thead th {\n",
       "        text-align: right;\n",
       "    }\n",
       "</style>\n",
       "<table border=\"1\" class=\"dataframe\">\n",
       "  <thead>\n",
       "    <tr style=\"text-align: right;\">\n",
       "      <th></th>\n",
       "      <th>d_final</th>\n",
       "      <th>d_length-1</th>\n",
       "      <th>d_length-2</th>\n",
       "      <th>d_length-3</th>\n",
       "      <th>d_sklearn_default</th>\n",
       "      <th>d_symbolic_best</th>\n",
       "    </tr>\n",
       "  </thead>\n",
       "  <tbody>\n",
       "    <tr>\n",
       "      <th>mlr_svm_lisa</th>\n",
       "      <td>0.00285</td>\n",
       "      <td>0.00775</td>\n",
       "      <td>0.00565</td>\n",
       "      <td>0.00280</td>\n",
       "      <td>0.0116</td>\n",
       "      <td>0.00340</td>\n",
       "    </tr>\n",
       "    <tr>\n",
       "      <th>mlr_svm_lisa_gaussian</th>\n",
       "      <td>0.00735</td>\n",
       "      <td>0.00730</td>\n",
       "      <td>0.00920</td>\n",
       "      <td>0.01015</td>\n",
       "      <td>0.0107</td>\n",
       "      <td>0.00295</td>\n",
       "    </tr>\n",
       "    <tr>\n",
       "      <th>mlr_svm_lisa_improve</th>\n",
       "      <td>0.00780</td>\n",
       "      <td>0.00605</td>\n",
       "      <td>0.00755</td>\n",
       "      <td>0.00920</td>\n",
       "      <td>0.0108</td>\n",
       "      <td>0.00310</td>\n",
       "    </tr>\n",
       "    <tr>\n",
       "      <th>mlr_svm_lisa_local</th>\n",
       "      <td>0.00895</td>\n",
       "      <td>0.00575</td>\n",
       "      <td>0.00960</td>\n",
       "      <td>0.00850</td>\n",
       "      <td>0.0123</td>\n",
       "      <td>0.00310</td>\n",
       "    </tr>\n",
       "    <tr>\n",
       "      <th>mlr_svm_lisa_one</th>\n",
       "      <td>0.00520</td>\n",
       "      <td>0.00750</td>\n",
       "      <td>0.00640</td>\n",
       "      <td>0.01510</td>\n",
       "      <td>0.0108</td>\n",
       "      <td>0.00280</td>\n",
       "    </tr>\n",
       "  </tbody>\n",
       "</table>\n",
       "</div>"
      ],
      "text/plain": [
       "                       d_final  d_length-1  d_length-2  d_length-3  \\\n",
       "mlr_svm_lisa           0.00285     0.00775     0.00565     0.00280   \n",
       "mlr_svm_lisa_gaussian  0.00735     0.00730     0.00920     0.01015   \n",
       "mlr_svm_lisa_improve   0.00780     0.00605     0.00755     0.00920   \n",
       "mlr_svm_lisa_local     0.00895     0.00575     0.00960     0.00850   \n",
       "mlr_svm_lisa_one       0.00520     0.00750     0.00640     0.01510   \n",
       "\n",
       "                       d_sklearn_default  d_symbolic_best  \n",
       "mlr_svm_lisa                      0.0116          0.00340  \n",
       "mlr_svm_lisa_gaussian             0.0107          0.00295  \n",
       "mlr_svm_lisa_improve              0.0108          0.00310  \n",
       "mlr_svm_lisa_local                0.0123          0.00310  \n",
       "mlr_svm_lisa_one                  0.0108          0.00280  "
      ]
     },
     "execution_count": 166,
     "metadata": {},
     "output_type": "execute_result"
    }
   ],
   "source": [
    "medians = pd.DataFrame()\n",
    "for log, trace in traces.items():\n",
    "    m = trace.d_scores.median().rename(log)\n",
    "    medians = medians.append(m)\n",
    "medians[[c for c in medians.columns if 'd_' in c and c != 'd_max']]"
   ]
  },
  {
   "cell_type": "markdown",
   "metadata": {},
   "source": [
    "#### mean regret:\n",
    "The following table records the mean regret for a specific strategy compared to picking the best in hindsight:"
   ]
  },
  {
   "cell_type": "code",
   "execution_count": 167,
   "metadata": {},
   "outputs": [
    {
     "data": {
      "text/html": [
       "<div>\n",
       "<style scoped>\n",
       "    .dataframe tbody tr th:only-of-type {\n",
       "        vertical-align: middle;\n",
       "    }\n",
       "\n",
       "    .dataframe tbody tr th {\n",
       "        vertical-align: top;\n",
       "    }\n",
       "\n",
       "    .dataframe thead th {\n",
       "        text-align: right;\n",
       "    }\n",
       "</style>\n",
       "<table border=\"1\" class=\"dataframe\">\n",
       "  <thead>\n",
       "    <tr style=\"text-align: right;\">\n",
       "      <th></th>\n",
       "      <th>d_final</th>\n",
       "      <th>d_length-1</th>\n",
       "      <th>d_length-2</th>\n",
       "      <th>d_length-3</th>\n",
       "      <th>d_sklearn_default</th>\n",
       "      <th>d_symbolic_best</th>\n",
       "    </tr>\n",
       "  </thead>\n",
       "  <tbody>\n",
       "    <tr>\n",
       "      <th>mlr_svm_lisa</th>\n",
       "      <td>0.031891</td>\n",
       "      <td>0.037764</td>\n",
       "      <td>0.034230</td>\n",
       "      <td>0.032673</td>\n",
       "      <td>0.040781</td>\n",
       "      <td>0.032410</td>\n",
       "    </tr>\n",
       "    <tr>\n",
       "      <th>mlr_svm_lisa_gaussian</th>\n",
       "      <td>0.033235</td>\n",
       "      <td>0.033927</td>\n",
       "      <td>0.034934</td>\n",
       "      <td>0.031147</td>\n",
       "      <td>0.039411</td>\n",
       "      <td>0.030938</td>\n",
       "    </tr>\n",
       "    <tr>\n",
       "      <th>mlr_svm_lisa_improve</th>\n",
       "      <td>0.040902</td>\n",
       "      <td>0.037519</td>\n",
       "      <td>0.040146</td>\n",
       "      <td>0.030936</td>\n",
       "      <td>0.039627</td>\n",
       "      <td>0.032658</td>\n",
       "    </tr>\n",
       "    <tr>\n",
       "      <th>mlr_svm_lisa_local</th>\n",
       "      <td>0.031700</td>\n",
       "      <td>0.037631</td>\n",
       "      <td>0.032837</td>\n",
       "      <td>0.033522</td>\n",
       "      <td>0.039730</td>\n",
       "      <td>0.032762</td>\n",
       "    </tr>\n",
       "    <tr>\n",
       "      <th>mlr_svm_lisa_one</th>\n",
       "      <td>0.034778</td>\n",
       "      <td>0.037625</td>\n",
       "      <td>0.041577</td>\n",
       "      <td>0.042715</td>\n",
       "      <td>0.039733</td>\n",
       "      <td>0.032765</td>\n",
       "    </tr>\n",
       "  </tbody>\n",
       "</table>\n",
       "</div>"
      ],
      "text/plain": [
       "                        d_final  d_length-1  d_length-2  d_length-3  \\\n",
       "mlr_svm_lisa           0.031891    0.037764    0.034230    0.032673   \n",
       "mlr_svm_lisa_gaussian  0.033235    0.033927    0.034934    0.031147   \n",
       "mlr_svm_lisa_improve   0.040902    0.037519    0.040146    0.030936   \n",
       "mlr_svm_lisa_local     0.031700    0.037631    0.032837    0.033522   \n",
       "mlr_svm_lisa_one       0.034778    0.037625    0.041577    0.042715   \n",
       "\n",
       "                       d_sklearn_default  d_symbolic_best  \n",
       "mlr_svm_lisa                    0.040781         0.032410  \n",
       "mlr_svm_lisa_gaussian           0.039411         0.030938  \n",
       "mlr_svm_lisa_improve            0.039627         0.032658  \n",
       "mlr_svm_lisa_local              0.039730         0.032762  \n",
       "mlr_svm_lisa_one                0.039733         0.032765  "
      ]
     },
     "execution_count": 167,
     "metadata": {},
     "output_type": "execute_result"
    }
   ],
   "source": [
    "means = pd.DataFrame([])\n",
    "for log, trace in traces.items():\n",
    "    m = trace.d_scores.mean().rename(log)\n",
    "    means = means.append(m)\n",
    "means[[c for c in medians.columns if 'd_' in c and c != 'd_max']]"
   ]
  },
  {
   "cell_type": "markdown",
   "metadata": {},
   "source": [
    "### Sanity Checks\n",
    "Sometimes out-of-sample performance of a baseline may still be better than that of our solution.\n",
    "However, in-sample performance of our own solutions should always be better than any baseline.\n",
    "If that is not the case, this would indicate our search does not explore the space well enough."
   ]
  },
  {
   "cell_type": "code",
   "execution_count": null,
   "metadata": {},
   "outputs": [],
   "source": [
    "in_sample_comparisons = pd.DataFrame()\n",
    "for log, trace in traces.items():\n",
    "    in_sample_comparisons = in_sample_comparisons.append(trace.in_comparison.loc['either'].rename(log))\n",
    "in_sample_comparisons"
   ]
  },
  {
   "cell_type": "markdown",
   "metadata": {},
   "source": [
    "----\n",
    "End of notebook - just sketchpad below"
   ]
  },
  {
   "cell_type": "code",
   "execution_count": 135,
   "metadata": {},
   "outputs": [
    {
     "data": {
      "text/plain": [
       "length-1           False\n",
       "length-2           False\n",
       "length-3            True\n",
       "final              False\n",
       "sklearn_default     True\n",
       "symbolic_best       True\n",
       "dtype: bool"
      ]
     },
     "execution_count": 135,
     "metadata": {},
     "output_type": "execute_result"
    }
   ],
   "source": [
    "trace.scores.isna().any(axis=0)"
   ]
  },
  {
   "cell_type": "code",
   "execution_count": 136,
   "metadata": {},
   "outputs": [
    {
     "ename": "KeyError",
     "evalue": "'mlr_svm_lisa'",
     "output_type": "error",
     "traceback": [
      "\u001b[1;31m---------------------------------------------------------------------------\u001b[0m",
      "\u001b[1;31mKeyError\u001b[0m                                  Traceback (most recent call last)",
      "\u001b[1;32m<ipython-input-136-a4148fed1b8b>\u001b[0m in \u001b[0;36m<module>\u001b[1;34m\u001b[0m\n\u001b[0;32m      3\u001b[0m \u001b[1;32mfor\u001b[0m \u001b[0mlog\u001b[0m\u001b[1;33m,\u001b[0m \u001b[0mtrace\u001b[0m \u001b[1;32min\u001b[0m \u001b[0mtraces\u001b[0m\u001b[1;33m.\u001b[0m\u001b[0mitems\u001b[0m\u001b[1;33m(\u001b[0m\u001b[1;33m)\u001b[0m\u001b[1;33m:\u001b[0m\u001b[1;33m\u001b[0m\u001b[1;33m\u001b[0m\u001b[0m\n\u001b[0;32m      4\u001b[0m     \u001b[1;31m# Filter out runs with >100 tasks completed:\u001b[0m\u001b[1;33m\u001b[0m\u001b[1;33m\u001b[0m\u001b[1;33m\u001b[0m\u001b[0m\n\u001b[1;32m----> 5\u001b[1;33m     \u001b[1;32mif\u001b[0m \u001b[0mlen\u001b[0m\u001b[1;33m(\u001b[0m\u001b[0mtrace\u001b[0m\u001b[1;33m.\u001b[0m\u001b[0mscores\u001b[0m\u001b[1;33m)\u001b[0m \u001b[1;33m/\u001b[0m \u001b[1;36m2\u001b[0m \u001b[1;33m>\u001b[0m \u001b[0mminimum\u001b[0m\u001b[1;33m[\u001b[0m\u001b[0malg\u001b[0m\u001b[1;33m]\u001b[0m\u001b[1;33m:\u001b[0m\u001b[1;33m\u001b[0m\u001b[1;33m\u001b[0m\u001b[0m\n\u001b[0m\u001b[0;32m      6\u001b[0m         \u001b[0mout_sample\u001b[0m \u001b[1;33m=\u001b[0m \u001b[0mtrace\u001b[0m\u001b[1;33m.\u001b[0m\u001b[0mscores\u001b[0m\u001b[1;33m.\u001b[0m\u001b[0mindex\u001b[0m\u001b[1;33m.\u001b[0m\u001b[0mmap\u001b[0m\u001b[1;33m(\u001b[0m\u001b[1;32mlambda\u001b[0m \u001b[0midx\u001b[0m\u001b[1;33m:\u001b[0m \u001b[0midx\u001b[0m\u001b[1;33m[\u001b[0m\u001b[1;36m1\u001b[0m\u001b[1;33m]\u001b[0m \u001b[1;33m==\u001b[0m \u001b[1;34m\"out-sample\"\u001b[0m\u001b[1;33m)\u001b[0m\u001b[1;33m\u001b[0m\u001b[1;33m\u001b[0m\u001b[0m\n\u001b[0;32m      7\u001b[0m         \u001b[0mlog_oos\u001b[0m \u001b[1;33m=\u001b[0m \u001b[0mtrace\u001b[0m\u001b[1;33m.\u001b[0m\u001b[0mscores\u001b[0m\u001b[1;33m.\u001b[0m\u001b[0mloc\u001b[0m\u001b[1;33m[\u001b[0m\u001b[0mout_sample\u001b[0m\u001b[1;33m]\u001b[0m\u001b[1;33m.\u001b[0m\u001b[0mfinal\u001b[0m\u001b[1;33m.\u001b[0m\u001b[0mrename\u001b[0m\u001b[1;33m(\u001b[0m\u001b[0mlog\u001b[0m\u001b[1;33m)\u001b[0m\u001b[1;33m\u001b[0m\u001b[1;33m\u001b[0m\u001b[0m\n",
      "\u001b[1;31mKeyError\u001b[0m: 'mlr_svm_lisa'"
     ]
    }
   ],
   "source": [
    "minimum = dict(knn=100, svm=100, glmnet=100, rpart=60)\n",
    "final_scores = pd.DataFrame()\n",
    "for log, trace in traces.items():\n",
    "    # Filter out runs with >100 tasks completed:\n",
    "    if len(trace.scores) / 2 > minimum[alg]:\n",
    "        out_sample = trace.scores.index.map(lambda idx: idx[1] == \"out-sample\")\n",
    "        log_oos = trace.scores.loc[out_sample].final.rename(log)\n",
    "        final_scores = final_scores.append(log_oos)\n",
    "        if log == run_one:\n",
    "            # contains benchmark scores\n",
    "            for b in trace.baseline:\n",
    "                baseline_score = trace.scores.loc[out_sample][b].rename(b)\n",
    "                final_scores = final_scores.append(baseline_score)\n",
    "final_scores"
   ]
  },
  {
   "cell_type": "code",
   "execution_count": null,
   "metadata": {},
   "outputs": [],
   "source": [
    "# filter out incomplete tasks:\n",
    "final = final_scores.loc[:, ~final_scores.isna().any()]\n",
    "df = final"
   ]
  },
  {
   "cell_type": "code",
   "execution_count": 351,
   "metadata": {},
   "outputs": [],
   "source": [
    "run_one=\"mlr_svm_lisa\"\n",
    "run_two=\"svm_warm\""
   ]
  },
  {
   "cell_type": "code",
   "execution_count": 352,
   "metadata": {},
   "outputs": [],
   "source": [
    "df = df.loc[[run_one, run_two]]"
   ]
  },
  {
   "cell_type": "code",
   "execution_count": 353,
   "metadata": {},
   "outputs": [
    {
     "data": {
      "text/html": [
       "<div>\n",
       "<style scoped>\n",
       "    .dataframe tbody tr th:only-of-type {\n",
       "        vertical-align: middle;\n",
       "    }\n",
       "\n",
       "    .dataframe tbody tr th {\n",
       "        vertical-align: top;\n",
       "    }\n",
       "\n",
       "    .dataframe thead th {\n",
       "        text-align: right;\n",
       "    }\n",
       "</style>\n",
       "<table border=\"1\" class=\"dataframe\">\n",
       "  <thead>\n",
       "    <tr style=\"text-align: right;\">\n",
       "      <th></th>\n",
       "      <th>mlr_svm_lisa</th>\n",
       "      <th>svm_warm</th>\n",
       "    </tr>\n",
       "  </thead>\n",
       "  <tbody>\n",
       "    <tr>\n",
       "      <th>alone</th>\n",
       "      <td>56</td>\n",
       "      <td>34</td>\n",
       "    </tr>\n",
       "    <tr>\n",
       "      <th>shared</th>\n",
       "      <td>12</td>\n",
       "      <td>12</td>\n",
       "    </tr>\n",
       "    <tr>\n",
       "      <th>either</th>\n",
       "      <td>68</td>\n",
       "      <td>46</td>\n",
       "    </tr>\n",
       "  </tbody>\n",
       "</table>\n",
       "</div>"
      ],
      "text/plain": [
       "        mlr_svm_lisa  svm_warm\n",
       "alone             56        34\n",
       "shared            12        12\n",
       "either            68        46"
      ]
     },
     "execution_count": 353,
     "metadata": {},
     "output_type": "execute_result"
    }
   ],
   "source": [
    "alone = {k: 0 for k in df.index.values}\n",
    "shared = {k: 0 for k in df.index.values}\n",
    "\n",
    "for _, out in df.T.iterrows():\n",
    "    best = out[out == out.max()].index.values\n",
    "    if len(best) == 1:\n",
    "        alone[best[0]] += 1\n",
    "    else:\n",
    "        for winner in best:\n",
    "            shared[winner] += 1\n",
    "\n",
    "alone = {k: alone[k] for k in sorted(alone)}\n",
    "shared = {k: shared[k] for k in sorted(shared)}\n",
    "either = {k: shared[k] + alone[k] for k in sorted({**alone, **shared})}\n",
    "comparison = pd.DataFrame([alone, shared, either], index=['alone', 'shared', 'either'])\n",
    "comparison\n"
   ]
  },
  {
   "cell_type": "code",
   "execution_count": 354,
   "metadata": {},
   "outputs": [
    {
     "data": {
      "text/plain": [
       "d_mlr_svm_lisa    0.012327\n",
       "d_svm_warm        0.015468\n",
       "dtype: float64"
      ]
     },
     "execution_count": 354,
     "metadata": {},
     "output_type": "execute_result"
    }
   ],
   "source": [
    "df_out = df.T.copy()\n",
    "df_out['max'] = df_out.max(axis=1)\n",
    "for col in df_out:\n",
    "    df_out['d_' + col] = df_out['max'] - df_out[col]\n",
    "d_cols = [c for c in df_out.columns if c.startswith('d_') and 'max' not in c]\n",
    "df_out[d_cols].mean()"
   ]
  },
  {
   "cell_type": "code",
   "execution_count": 355,
   "metadata": {},
   "outputs": [
    {
     "data": {
      "text/plain": [
       "d_mlr_svm_lisa    0.0000\n",
       "d_svm_warm        0.0003\n",
       "dtype: float64"
      ]
     },
     "execution_count": 355,
     "metadata": {},
     "output_type": "execute_result"
    }
   ],
   "source": [
    "df_out[d_cols].median()"
   ]
  },
  {
   "cell_type": "code",
   "execution_count": 356,
   "metadata": {},
   "outputs": [
    {
     "data": {
      "text/plain": [
       "Text(0.5, 0, 'Difference')"
      ]
     },
     "execution_count": 356,
     "metadata": {},
     "output_type": "execute_result"
    },
    {
     "data": {
      "image/png": "[encoded data removed]",
      "text/plain": [
       "<Figure size 432x288 with 1 Axes>"
      ]
     },
     "metadata": {
      "needs_background": "light"
     },
     "output_type": "display_data"
    }
   ],
   "source": [
    "ax = (df.loc[run_one] - df.loc[run_two]).hist(bins=[(f / 40 - 1) for f in range(81)])\n",
    "ax.set_title(f\"Symbolic - Constant | median: {(df.loc[run_one] - df.loc[run_two]).median():.3f}, mean: {(df.loc[run_one] - df.loc[run_two]).mean():.3f}, {df.shape[1]} tasks\")\n",
    "ax.set_ylabel(\"Count\")\n",
    "ax.set_xlabel(\"Difference\")"
   ]
  },
  {
   "cell_type": "code",
   "execution_count": null,
   "metadata": {},
   "outputs": [],
   "source": []
  },
  {
   "cell_type": "code",
   "execution_count": 337,
   "metadata": {},
   "outputs": [
    {
     "ename": "KeyError",
     "evalue": "'svm_cst'",
     "output_type": "error",
     "traceback": [
      "\u001b[1;31m---------------------------------------------------------------------------\u001b[0m",
      "\u001b[1;31mKeyError\u001b[0m                                  Traceback (most recent call last)",
      "\u001b[1;32mO:\\Anaconda\\envs\\symbdef\\lib\\site-packages\\pandas\\core\\indexes\\base.py\u001b[0m in \u001b[0;36mget_loc\u001b[1;34m(self, key, method, tolerance)\u001b[0m\n\u001b[0;32m   2645\u001b[0m             \u001b[1;32mtry\u001b[0m\u001b[1;33m:\u001b[0m\u001b[1;33m\u001b[0m\u001b[1;33m\u001b[0m\u001b[0m\n\u001b[1;32m-> 2646\u001b[1;33m                 \u001b[1;32mreturn\u001b[0m \u001b[0mself\u001b[0m\u001b[1;33m.\u001b[0m\u001b[0m_engine\u001b[0m\u001b[1;33m.\u001b[0m\u001b[0mget_loc\u001b[0m\u001b[1;33m(\u001b[0m\u001b[0mkey\u001b[0m\u001b[1;33m)\u001b[0m\u001b[1;33m\u001b[0m\u001b[1;33m\u001b[0m\u001b[0m\n\u001b[0m\u001b[0;32m   2647\u001b[0m             \u001b[1;32mexcept\u001b[0m \u001b[0mKeyError\u001b[0m\u001b[1;33m:\u001b[0m\u001b[1;33m\u001b[0m\u001b[1;33m\u001b[0m\u001b[0m\n",
      "\u001b[1;32mpandas\\_libs\\index.pyx\u001b[0m in \u001b[0;36mpandas._libs.index.IndexEngine.get_loc\u001b[1;34m()\u001b[0m\n",
      "\u001b[1;32mpandas\\_libs\\index.pyx\u001b[0m in \u001b[0;36mpandas._libs.index.IndexEngine.get_loc\u001b[1;34m()\u001b[0m\n",
      "\u001b[1;32mpandas\\_libs\\hashtable_class_helper.pxi\u001b[0m in \u001b[0;36mpandas._libs.hashtable.PyObjectHashTable.get_item\u001b[1;34m()\u001b[0m\n",
      "\u001b[1;32mpandas\\_libs\\hashtable_class_helper.pxi\u001b[0m in \u001b[0;36mpandas._libs.hashtable.PyObjectHashTable.get_item\u001b[1;34m()\u001b[0m\n",
      "\u001b[1;31mKeyError\u001b[0m: 'svm_cst'",
      "\nDuring handling of the above exception, another exception occurred:\n",
      "\u001b[1;31mKeyError\u001b[0m                                  Traceback (most recent call last)",
      "\u001b[1;32m<ipython-input-337-d6068b0272ab>\u001b[0m in \u001b[0;36m<module>\u001b[1;34m\u001b[0m\n\u001b[1;32m----> 1\u001b[1;33m \u001b[0msum\u001b[0m\u001b[1;33m(\u001b[0m\u001b[1;33m(\u001b[0m\u001b[0mdf\u001b[0m\u001b[1;33m.\u001b[0m\u001b[0mloc\u001b[0m\u001b[1;33m[\u001b[0m\u001b[1;34m\"mlr_svm_lisa\"\u001b[0m\u001b[1;33m]\u001b[0m \u001b[1;33m-\u001b[0m \u001b[0mdf\u001b[0m\u001b[1;33m.\u001b[0m\u001b[0mloc\u001b[0m\u001b[1;33m[\u001b[0m\u001b[1;34m\"svm_cst\"\u001b[0m\u001b[1;33m]\u001b[0m\u001b[1;33m)\u001b[0m \u001b[1;33m>\u001b[0m \u001b[1;36m0\u001b[0m\u001b[1;33m)\u001b[0m\u001b[1;33m\u001b[0m\u001b[1;33m\u001b[0m\u001b[0m\n\u001b[0m",
      "\u001b[1;32mO:\\Anaconda\\envs\\symbdef\\lib\\site-packages\\pandas\\core\\indexing.py\u001b[0m in \u001b[0;36m__getitem__\u001b[1;34m(self, key)\u001b[0m\n\u001b[0;32m   1766\u001b[0m \u001b[1;33m\u001b[0m\u001b[0m\n\u001b[0;32m   1767\u001b[0m             \u001b[0mmaybe_callable\u001b[0m \u001b[1;33m=\u001b[0m \u001b[0mcom\u001b[0m\u001b[1;33m.\u001b[0m\u001b[0mapply_if_callable\u001b[0m\u001b[1;33m(\u001b[0m\u001b[0mkey\u001b[0m\u001b[1;33m,\u001b[0m \u001b[0mself\u001b[0m\u001b[1;33m.\u001b[0m\u001b[0mobj\u001b[0m\u001b[1;33m)\u001b[0m\u001b[1;33m\u001b[0m\u001b[1;33m\u001b[0m\u001b[0m\n\u001b[1;32m-> 1768\u001b[1;33m             \u001b[1;32mreturn\u001b[0m \u001b[0mself\u001b[0m\u001b[1;33m.\u001b[0m\u001b[0m_getitem_axis\u001b[0m\u001b[1;33m(\u001b[0m\u001b[0mmaybe_callable\u001b[0m\u001b[1;33m,\u001b[0m \u001b[0maxis\u001b[0m\u001b[1;33m=\u001b[0m\u001b[0maxis\u001b[0m\u001b[1;33m)\u001b[0m\u001b[1;33m\u001b[0m\u001b[1;33m\u001b[0m\u001b[0m\n\u001b[0m\u001b[0;32m   1769\u001b[0m \u001b[1;33m\u001b[0m\u001b[0m\n\u001b[0;32m   1770\u001b[0m     \u001b[1;32mdef\u001b[0m \u001b[0m_is_scalar_access\u001b[0m\u001b[1;33m(\u001b[0m\u001b[0mself\u001b[0m\u001b[1;33m,\u001b[0m \u001b[0mkey\u001b[0m\u001b[1;33m:\u001b[0m \u001b[0mTuple\u001b[0m\u001b[1;33m)\u001b[0m\u001b[1;33m:\u001b[0m\u001b[1;33m\u001b[0m\u001b[1;33m\u001b[0m\u001b[0m\n",
      "\u001b[1;32mO:\\Anaconda\\envs\\symbdef\\lib\\site-packages\\pandas\\core\\indexing.py\u001b[0m in \u001b[0;36m_getitem_axis\u001b[1;34m(self, key, axis)\u001b[0m\n\u001b[0;32m   1963\u001b[0m         \u001b[1;31m# fall thru to straight lookup\u001b[0m\u001b[1;33m\u001b[0m\u001b[1;33m\u001b[0m\u001b[1;33m\u001b[0m\u001b[0m\n\u001b[0;32m   1964\u001b[0m         \u001b[0mself\u001b[0m\u001b[1;33m.\u001b[0m\u001b[0m_validate_key\u001b[0m\u001b[1;33m(\u001b[0m\u001b[0mkey\u001b[0m\u001b[1;33m,\u001b[0m \u001b[0maxis\u001b[0m\u001b[1;33m)\u001b[0m\u001b[1;33m\u001b[0m\u001b[1;33m\u001b[0m\u001b[0m\n\u001b[1;32m-> 1965\u001b[1;33m         \u001b[1;32mreturn\u001b[0m \u001b[0mself\u001b[0m\u001b[1;33m.\u001b[0m\u001b[0m_get_label\u001b[0m\u001b[1;33m(\u001b[0m\u001b[0mkey\u001b[0m\u001b[1;33m,\u001b[0m \u001b[0maxis\u001b[0m\u001b[1;33m=\u001b[0m\u001b[0maxis\u001b[0m\u001b[1;33m)\u001b[0m\u001b[1;33m\u001b[0m\u001b[1;33m\u001b[0m\u001b[0m\n\u001b[0m\u001b[0;32m   1966\u001b[0m \u001b[1;33m\u001b[0m\u001b[0m\n\u001b[0;32m   1967\u001b[0m \u001b[1;33m\u001b[0m\u001b[0m\n",
      "\u001b[1;32mO:\\Anaconda\\envs\\symbdef\\lib\\site-packages\\pandas\\core\\indexing.py\u001b[0m in \u001b[0;36m_get_label\u001b[1;34m(self, label, axis)\u001b[0m\n\u001b[0;32m    623\u001b[0m             \u001b[1;32mraise\u001b[0m \u001b[0mIndexingError\u001b[0m\u001b[1;33m(\u001b[0m\u001b[1;34m\"no slices here, handle elsewhere\"\u001b[0m\u001b[1;33m)\u001b[0m\u001b[1;33m\u001b[0m\u001b[1;33m\u001b[0m\u001b[0m\n\u001b[0;32m    624\u001b[0m \u001b[1;33m\u001b[0m\u001b[0m\n\u001b[1;32m--> 625\u001b[1;33m         \u001b[1;32mreturn\u001b[0m \u001b[0mself\u001b[0m\u001b[1;33m.\u001b[0m\u001b[0mobj\u001b[0m\u001b[1;33m.\u001b[0m\u001b[0m_xs\u001b[0m\u001b[1;33m(\u001b[0m\u001b[0mlabel\u001b[0m\u001b[1;33m,\u001b[0m \u001b[0maxis\u001b[0m\u001b[1;33m=\u001b[0m\u001b[0maxis\u001b[0m\u001b[1;33m)\u001b[0m\u001b[1;33m\u001b[0m\u001b[1;33m\u001b[0m\u001b[0m\n\u001b[0m\u001b[0;32m    626\u001b[0m \u001b[1;33m\u001b[0m\u001b[0m\n\u001b[0;32m    627\u001b[0m     \u001b[1;32mdef\u001b[0m \u001b[0m_get_loc\u001b[0m\u001b[1;33m(\u001b[0m\u001b[0mself\u001b[0m\u001b[1;33m,\u001b[0m \u001b[0mkey\u001b[0m\u001b[1;33m:\u001b[0m \u001b[0mint\u001b[0m\u001b[1;33m,\u001b[0m \u001b[0maxis\u001b[0m\u001b[1;33m:\u001b[0m \u001b[0mint\u001b[0m\u001b[1;33m)\u001b[0m\u001b[1;33m:\u001b[0m\u001b[1;33m\u001b[0m\u001b[1;33m\u001b[0m\u001b[0m\n",
      "\u001b[1;32mO:\\Anaconda\\envs\\symbdef\\lib\\site-packages\\pandas\\core\\generic.py\u001b[0m in \u001b[0;36mxs\u001b[1;34m(self, key, axis, level, drop_level)\u001b[0m\n\u001b[0;32m   3535\u001b[0m             \u001b[0mloc\u001b[0m\u001b[1;33m,\u001b[0m \u001b[0mnew_index\u001b[0m \u001b[1;33m=\u001b[0m \u001b[0mself\u001b[0m\u001b[1;33m.\u001b[0m\u001b[0mindex\u001b[0m\u001b[1;33m.\u001b[0m\u001b[0mget_loc_level\u001b[0m\u001b[1;33m(\u001b[0m\u001b[0mkey\u001b[0m\u001b[1;33m,\u001b[0m \u001b[0mdrop_level\u001b[0m\u001b[1;33m=\u001b[0m\u001b[0mdrop_level\u001b[0m\u001b[1;33m)\u001b[0m\u001b[1;33m\u001b[0m\u001b[1;33m\u001b[0m\u001b[0m\n\u001b[0;32m   3536\u001b[0m         \u001b[1;32melse\u001b[0m\u001b[1;33m:\u001b[0m\u001b[1;33m\u001b[0m\u001b[1;33m\u001b[0m\u001b[0m\n\u001b[1;32m-> 3537\u001b[1;33m             \u001b[0mloc\u001b[0m \u001b[1;33m=\u001b[0m \u001b[0mself\u001b[0m\u001b[1;33m.\u001b[0m\u001b[0mindex\u001b[0m\u001b[1;33m.\u001b[0m\u001b[0mget_loc\u001b[0m\u001b[1;33m(\u001b[0m\u001b[0mkey\u001b[0m\u001b[1;33m)\u001b[0m\u001b[1;33m\u001b[0m\u001b[1;33m\u001b[0m\u001b[0m\n\u001b[0m\u001b[0;32m   3538\u001b[0m \u001b[1;33m\u001b[0m\u001b[0m\n\u001b[0;32m   3539\u001b[0m             \u001b[1;32mif\u001b[0m \u001b[0misinstance\u001b[0m\u001b[1;33m(\u001b[0m\u001b[0mloc\u001b[0m\u001b[1;33m,\u001b[0m \u001b[0mnp\u001b[0m\u001b[1;33m.\u001b[0m\u001b[0mndarray\u001b[0m\u001b[1;33m)\u001b[0m\u001b[1;33m:\u001b[0m\u001b[1;33m\u001b[0m\u001b[1;33m\u001b[0m\u001b[0m\n",
      "\u001b[1;32mO:\\Anaconda\\envs\\symbdef\\lib\\site-packages\\pandas\\core\\indexes\\base.py\u001b[0m in \u001b[0;36mget_loc\u001b[1;34m(self, key, method, tolerance)\u001b[0m\n\u001b[0;32m   2646\u001b[0m                 \u001b[1;32mreturn\u001b[0m \u001b[0mself\u001b[0m\u001b[1;33m.\u001b[0m\u001b[0m_engine\u001b[0m\u001b[1;33m.\u001b[0m\u001b[0mget_loc\u001b[0m\u001b[1;33m(\u001b[0m\u001b[0mkey\u001b[0m\u001b[1;33m)\u001b[0m\u001b[1;33m\u001b[0m\u001b[1;33m\u001b[0m\u001b[0m\n\u001b[0;32m   2647\u001b[0m             \u001b[1;32mexcept\u001b[0m \u001b[0mKeyError\u001b[0m\u001b[1;33m:\u001b[0m\u001b[1;33m\u001b[0m\u001b[1;33m\u001b[0m\u001b[0m\n\u001b[1;32m-> 2648\u001b[1;33m                 \u001b[1;32mreturn\u001b[0m \u001b[0mself\u001b[0m\u001b[1;33m.\u001b[0m\u001b[0m_engine\u001b[0m\u001b[1;33m.\u001b[0m\u001b[0mget_loc\u001b[0m\u001b[1;33m(\u001b[0m\u001b[0mself\u001b[0m\u001b[1;33m.\u001b[0m\u001b[0m_maybe_cast_indexer\u001b[0m\u001b[1;33m(\u001b[0m\u001b[0mkey\u001b[0m\u001b[1;33m)\u001b[0m\u001b[1;33m)\u001b[0m\u001b[1;33m\u001b[0m\u001b[1;33m\u001b[0m\u001b[0m\n\u001b[0m\u001b[0;32m   2649\u001b[0m         \u001b[0mindexer\u001b[0m \u001b[1;33m=\u001b[0m \u001b[0mself\u001b[0m\u001b[1;33m.\u001b[0m\u001b[0mget_indexer\u001b[0m\u001b[1;33m(\u001b[0m\u001b[1;33m[\u001b[0m\u001b[0mkey\u001b[0m\u001b[1;33m]\u001b[0m\u001b[1;33m,\u001b[0m \u001b[0mmethod\u001b[0m\u001b[1;33m=\u001b[0m\u001b[0mmethod\u001b[0m\u001b[1;33m,\u001b[0m \u001b[0mtolerance\u001b[0m\u001b[1;33m=\u001b[0m\u001b[0mtolerance\u001b[0m\u001b[1;33m)\u001b[0m\u001b[1;33m\u001b[0m\u001b[1;33m\u001b[0m\u001b[0m\n\u001b[0;32m   2650\u001b[0m         \u001b[1;32mif\u001b[0m \u001b[0mindexer\u001b[0m\u001b[1;33m.\u001b[0m\u001b[0mndim\u001b[0m \u001b[1;33m>\u001b[0m \u001b[1;36m1\u001b[0m \u001b[1;32mor\u001b[0m \u001b[0mindexer\u001b[0m\u001b[1;33m.\u001b[0m\u001b[0msize\u001b[0m \u001b[1;33m>\u001b[0m \u001b[1;36m1\u001b[0m\u001b[1;33m:\u001b[0m\u001b[1;33m\u001b[0m\u001b[1;33m\u001b[0m\u001b[0m\n",
      "\u001b[1;32mpandas\\_libs\\index.pyx\u001b[0m in \u001b[0;36mpandas._libs.index.IndexEngine.get_loc\u001b[1;34m()\u001b[0m\n",
      "\u001b[1;32mpandas\\_libs\\index.pyx\u001b[0m in \u001b[0;36mpandas._libs.index.IndexEngine.get_loc\u001b[1;34m()\u001b[0m\n",
      "\u001b[1;32mpandas\\_libs\\hashtable_class_helper.pxi\u001b[0m in \u001b[0;36mpandas._libs.hashtable.PyObjectHashTable.get_item\u001b[1;34m()\u001b[0m\n",
      "\u001b[1;32mpandas\\_libs\\hashtable_class_helper.pxi\u001b[0m in \u001b[0;36mpandas._libs.hashtable.PyObjectHashTable.get_item\u001b[1;34m()\u001b[0m\n",
      "\u001b[1;31mKeyError\u001b[0m: 'svm_cst'"
     ]
    }
   ],
   "source": [
    "sum((df.loc[\"mlr_svm_lisa\"] - df.loc[\"svm_cst\"]) > 0)"
   ]
  },
  {
   "cell_type": "code",
   "execution_count": 174,
   "metadata": {},
   "outputs": [
    {
     "data": {
      "text/plain": [
       "0.04252549019607843"
      ]
     },
     "execution_count": 174,
     "metadata": {},
     "output_type": "execute_result"
    }
   ],
   "source": [
    "(df.loc[\"mlr_svm_lisa\"] - df.loc[\"svm_cst\"]).mean()"
   ]
  },
  {
   "cell_type": "code",
   "execution_count": null,
   "metadata": {},
   "outputs": [],
   "source": []
  }
 ],
 "metadata": {
  "kernelspec": {
   "display_name": "Python 3",
   "language": "python",
   "name": "python3"
  },
  "language_info": {
   "codemirror_mode": {
    "name": "ipython",
    "version": 3
   },
   "file_extension": ".py",
   "mimetype": "text/x-python",
   "name": "python",
   "nbconvert_exporter": "python",
   "pygments_lexer": "ipython3",
   "version": "3.6.9"
  }
 },
 "nbformat": 4,
 "nbformat_minor": 4
}
