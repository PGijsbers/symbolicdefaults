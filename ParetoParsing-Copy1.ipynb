{
 "cells": [
  {
   "cell_type": "code",
   "execution_count": 1,
   "metadata": {},
   "outputs": [],
   "source": [
    "from collections import defaultdict\n",
    "from typing import Tuple\n",
    "import numpy as np\n",
    "import pandas as pd\n",
    "from parse_logs import parse_log, comparisons"
   ]
  },
  {
   "cell_type": "markdown",
   "metadata": {},
   "source": [
    "# Symbolic Defaults by 'complexity' of expression\n",
    "In this notebook we take a look at the results of running the script at its default settings, this means:\n",
    " - evaluation across all tasks\n",
    " - recording the pareto front of symbolic defaults after each search\n",
    " - evaluating in-sample and out-of-sample performance of those dynamic defaults, as well as some pre-defined ones\n",
    " \n",
    "**note:** The console cut off results for the first few tasks, so I am rerunning those now."
   ]
  },
  {
   "cell_type": "code",
   "execution_count": 2,
   "metadata": {},
   "outputs": [
    {
     "name": "stdout",
     "output_type": "stream",
     "text": [
      "The predefined defaults are:\n",
      " * mlr_default := make_tuple(0.01, 30., 1., 20.)\n"
     ]
    }
   ],
   "source": [
    "df, expressions_by_length, generations_by_task = parse_log('runs/rpart.log')"
   ]
  },
  {
   "cell_type": "markdown",
   "metadata": {},
   "source": [
    "For each task we will extract:\n",
    " - the number of generations optimization ran for (max=200)\n",
    " - max length expression\n",
    " - in and out of sample performance for length 1, 2 and 3 expression"
   ]
  },
  {
   "cell_type": "markdown",
   "metadata": {},
   "source": [
    "For each task save the benchmark results. We also save results for length 1, 2 and 3 solutions as well as the best one found (that may be longer). Specifically we record:\n",
    " - best in_sample performance at length 1, 2, 3\n",
    " - best in_sample performance for any length\n",
    " - average out_sample performance by length for length 1, 2, 3\n",
    " - average out_sample performance for the longest (i.e. best in-sample score) solution(s)."
   ]
  },
  {
   "cell_type": "code",
   "execution_count": 3,
   "metadata": {},
   "outputs": [
    {
     "name": "stdout",
     "output_type": "stream",
     "text": [
      " Found 115 expressions of length 0. Most frequent: mlr_default (115 times)\n",
      " Found 171 expressions of length 1. Most frequent: make_tuple(0.00390625, 16.0, 10.0, 32.0) (49 times)\n",
      " Found 260 expressions of length 2. Most frequent: make_tuple(truediv(0.00390625, m), 32.0, 10.0, 32.0) (34 times)\n",
      " Found 213 expressions of length 3. Most frequent: make_tuple(mul(mul(0.00390625, mcp), mcp), 32.0, 9.0, 32.0) (3 times)\n",
      " Found 151 expressions of length 4. Most frequent: make_tuple(mul(mul(0.00390625, mcp), mcp), 32.0, 9.0, truediv(9.0, xvar)) (2 times)\n",
      " Found 107 expressions of length 5. Most frequent: make_tuple(min(if_gt(mul(0.3519769920459628, m), xvar, rc, 10.0), 0.00390625), mul(m, 10.0), 10.0, 32.0) (1 times)\n",
      " Found  65 expressions of length 6. Most frequent: make_tuple(mul(mcp, mul(add(mcp, add(mcp, mcp)), truediv(16.0, n))), n, 9.0, 16.0) (1 times)\n",
      " Found  38 expressions of length 7. Most frequent: make_tuple(mul(mul(truediv(32.0, n), mcp), mcp), mul(9.0, m), sub(mul(mcp, 16.0), m), 16.0) (1 times)\n",
      " Found  19 expressions of length 8. Most frequent: make_tuple(mul(mcp, mul(add(mcp, add(mcp, mcp)), truediv(16.0, truediv(n, mcp)))), n, mul(mcp, 16.0), 9.0) (1 times)\n",
      " Found  13 expressions of length 9. Most frequent: make_tuple(truediv(truediv(mul(mcp, add(32.0, add(0.29646451337325874, 10.0))), sub(m, pow(mcp, mcp))), n), 32.0, truediv(16.0, m), 10.0) (1 times)\n",
      " Found  16 expressions of length 10. Most frequent: make_tuple(mul(add(mkd, mcp), mul(mcp, mul(mcp, 0.00390625))), n, mul(add(poly_gt(mcp, mcp), mul(10.0, truediv(mcp, 0.8861632659702997))), xvar), 10.0) (1 times)\n",
      " Found   6 expressions of length 11. Most frequent: make_tuple(mul(add(mkd, mcp), mul(mcp, mul(mcp, 0.00390625))), n, mul(add(poly_gt(0.0025232508535664167, mcp), add(xvar, mul(10.0, truediv(mcp, 0.8861632659702997)))), xvar), 10.0) (1 times)\n",
      " Found   5 expressions of length 12. Most frequent: make_tuple(truediv(truediv(mul(mcp, add(32.0, add(32.0, 10.0))), m), max(pow(p, xvar), n)), 32.0, truediv(truediv(mul(mcp, add(16.0, 32.0)), 2.0), m), 16.0) (1 times)\n",
      " Found   3 expressions of length 13. Most frequent: make_tuple(mul(add(mcp, add(rc, add(mcp, sub(mcp, mkd)))), mul(add(mcp, mcp), truediv(7.0, n))), n, sub(mul(mcp, pow(16.0, mcp)), poly_gt(mcp, rc)), 9.0) (1 times)\n",
      " Found   1 expressions of length 14. Most frequent: make_tuple(mul(mul(mul(truediv(0.00390625, m), mcp), mcp), add(mcp, add(mcp, mul(sub(mcp, rc), truediv(mcp, 0.13995707946475688))))), 32.0, add(truediv(mcp, 0.13995707946475688), truediv(sub(mcp, rc), 0.13995707946475688)), 16.0) (1 times)\n",
      " Found   1 expressions of length 15. Most frequent: make_tuple(mul(mul(mul(mul(0.00390625, mcp), mul(mcp, mcp)), mcp), add(mcp, add(mcp, mul(sub(mcp, rc), truediv(mcp, 0.13995707946475688))))), 32.0, add(truediv(mcp, 0.13995707946475688), mul(sub(mcp, rc), 9.0)), 16.0) (1 times)\n",
      " Found   2 expressions of length 16. Most frequent: make_tuple(mul(mul(mul(0.00390625, mul(mcp, mcp)), mul(mcp, mcp)), add(mcp, add(mcp, mul(sub(mcp, rc), truediv(mcp, 0.13995707946475688))))), 32.0, add(truediv(mcp, 0.13995707946475688), mul(sub(mcp, rc), truediv(9.0, xvar))), 16.0) (1 times)\n",
      " Found   1 expressions of length 17. Most frequent: make_tuple(mul(mul(mul(0.00390625, mul(mcp, mcp)), mul(mcp, mcp)), add(mcp, add(mul(mcp, mcp), mul(sub(mcp, rc), truediv(mcp, 0.13995707946475688))))), 32.0, add(truediv(mcp, 0.13995707946475688), mul(sub(xvar, rc), truediv(mcp, 0.13995707946475688))), 16.0) (1 times)\n",
      " Found   1 expressions of length 18. Most frequent: make_tuple(mul(mul(mul(0.00390625, mul(mcp, mcp)), mul(mcp, mcp)), add(mcp, add(mul(mcp, mul(mcp, mcp)), mul(sub(mcp, rc), truediv(mcp, 0.13995707946475688))))), 32.0, add(truediv(mcp, 0.13995707946475688), mul(sub(xvar, rc), truediv(mcp, 0.13995707946475688))), 16.0) (1 times)\n"
     ]
    }
   ],
   "source": [
    "for length, expressions in sorted(expressions_by_length.items()):\n",
    "    m = max(set(expressions), key=expressions.count)\n",
    "    print(f\" Found {len(expressions):3d} expressions of length {length}. Most frequent: {m} ({expressions.count(m)} times)\")"
   ]
  },
  {
   "cell_type": "markdown",
   "metadata": {},
   "source": [
    "\"Found `N` expressions of length `L`\" here means across all the tasks' pareto fronts `N` solutions have length `L`.\n",
    "Pareto fronts may contain duplicate entries."
   ]
  },
  {
   "cell_type": "code",
   "execution_count": 4,
   "metadata": {},
   "outputs": [
    {
     "data": {
      "text/plain": [
       "<matplotlib.axes._subplots.AxesSubplot at 0x2c0268e3048>"
      ]
     },
     "execution_count": 4,
     "metadata": {},
     "output_type": "execute_result"
    },
    {
     "data": {
      "image/png": "[encoded data removed]",
      "text/plain": [
       "<Figure size 432x288 with 1 Axes>"
      ]
     },
     "metadata": {
      "needs_background": "light"
     },
     "output_type": "display_data"
    }
   ],
   "source": [
    "pd.Series(generations_by_task, name=\"generations\").hist(bins=20)"
   ]
  },
  {
   "cell_type": "code",
   "execution_count": 5,
   "metadata": {},
   "outputs": [
    {
     "data": {
      "text/plain": [
       "103.0"
      ]
     },
     "execution_count": 5,
     "metadata": {},
     "output_type": "execute_result"
    }
   ],
   "source": [
    "pd.Series(generations_by_task, name=\"generations\").median()"
   ]
  },
  {
   "cell_type": "markdown",
   "metadata": {},
   "source": [
    "Above plot shows the histogram of the number of generations across tasks (binsize=10).\n",
    "Note that if something ran for less than 200 generations, it found its optimum 20 generations earlier and early stopping terminated search."
   ]
  },
  {
   "cell_type": "code",
   "execution_count": 6,
   "metadata": {},
   "outputs": [],
   "source": [
    "comparison, df_out = comparisons(df)"
   ]
  },
  {
   "cell_type": "markdown",
   "metadata": {},
   "source": [
    "We compare the scores and note which solution leads to the best out of sample score per task. A solution wins **alone** if all other solutions have worse performance. It wins **shared** if at least one other solution has the same score, but no solution has a better score. **either** is the sum of alone and shared."
   ]
  },
  {
   "cell_type": "markdown",
   "metadata": {},
   "source": [
    "But tallying wins does not say much about the robustness of the symbolic defaults. We can also compare the average or median distance from the top performer:"
   ]
  },
  {
   "cell_type": "code",
   "execution_count": 9,
   "metadata": {},
   "outputs": [
    {
     "data": {
      "text/html": [
       "<div>\n",
       "<style scoped>\n",
       "    .dataframe tbody tr th:only-of-type {\n",
       "        vertical-align: middle;\n",
       "    }\n",
       "\n",
       "    .dataframe tbody tr th {\n",
       "        vertical-align: top;\n",
       "    }\n",
       "\n",
       "    .dataframe thead th {\n",
       "        text-align: right;\n",
       "    }\n",
       "</style>\n",
       "<table border=\"1\" class=\"dataframe\">\n",
       "  <thead>\n",
       "    <tr style=\"text-align: right;\">\n",
       "      <th></th>\n",
       "      <th>mlr_default</th>\n",
       "      <th>score-1</th>\n",
       "      <th>score-2</th>\n",
       "      <th>score-3</th>\n",
       "      <th>score-best</th>\n",
       "    </tr>\n",
       "  </thead>\n",
       "  <tbody>\n",
       "    <tr>\n",
       "      <th>alone</th>\n",
       "      <td>21</td>\n",
       "      <td>9</td>\n",
       "      <td>12</td>\n",
       "      <td>14</td>\n",
       "      <td>22</td>\n",
       "    </tr>\n",
       "    <tr>\n",
       "      <th>shared</th>\n",
       "      <td>0</td>\n",
       "      <td>2</td>\n",
       "      <td>23</td>\n",
       "      <td>27</td>\n",
       "      <td>32</td>\n",
       "    </tr>\n",
       "    <tr>\n",
       "      <th>either</th>\n",
       "      <td>21</td>\n",
       "      <td>11</td>\n",
       "      <td>35</td>\n",
       "      <td>41</td>\n",
       "      <td>54</td>\n",
       "    </tr>\n",
       "  </tbody>\n",
       "</table>\n",
       "</div>"
      ],
      "text/plain": [
       "        mlr_default  score-1  score-2  score-3  score-best\n",
       "alone            21        9       12       14          22\n",
       "shared            0        2       23       27          32\n",
       "either           21       11       35       41          54"
      ]
     },
     "execution_count": 9,
     "metadata": {},
     "output_type": "execute_result"
    }
   ],
   "source": [
    "comparison"
   ]
  },
  {
   "cell_type": "code",
   "execution_count": 7,
   "metadata": {},
   "outputs": [
    {
     "data": {
      "text/plain": [
       "d_score-1        0.073415\n",
       "d_score-2        0.043295\n",
       "d_score-3        0.035179\n",
       "d_score-best     0.027800\n",
       "d_mlr_default    0.124273\n",
       "d_max            0.000000\n",
       "dtype: float64"
      ]
     },
     "execution_count": 7,
     "metadata": {},
     "output_type": "execute_result"
    }
   ],
   "source": [
    "d_cols = [c for c in df_out.columns if c.startswith('d_')]\n",
    "df_out[d_cols].mean()"
   ]
  },
  {
   "cell_type": "code",
   "execution_count": 8,
   "metadata": {},
   "outputs": [
    {
     "data": {
      "text/plain": [
       "d_score-1        0.0368\n",
       "d_score-2        0.0042\n",
       "d_score-3        0.0033\n",
       "d_score-best     0.0001\n",
       "d_mlr_default    0.0720\n",
       "d_max            0.0000\n",
       "dtype: float64"
      ]
     },
     "execution_count": 8,
     "metadata": {},
     "output_type": "execute_result"
    }
   ],
   "source": [
    "df_out[d_cols].median()"
   ]
  },
  {
   "cell_type": "markdown",
   "metadata": {},
   "source": [
    "Looking at in-sample performance:"
   ]
  },
  {
   "cell_type": "code",
   "execution_count": 10,
   "metadata": {},
   "outputs": [
    {
     "data": {
      "text/plain": [
       "score-best    76\n",
       "score-3       26\n",
       "score-2       13\n",
       "dtype: int64"
      ]
     },
     "execution_count": 10,
     "metadata": {},
     "output_type": "execute_result"
    }
   ],
   "source": [
    "in_sample = df.index.map(lambda idx: idx[1] == \"in-sample\")\n",
    "df.loc[in_sample].idxmax(axis=1).value_counts()"
   ]
  },
  {
   "cell_type": "markdown",
   "metadata": {},
   "source": [
    "`idxmax` reports the first column that has a max score of the row. So we see that never is the \"score-1\" solution the best in-sample. It is divided somewhat evenly between score-2, score-3 and scores for greater lengths. In 15 of 106 cases, it does not find the solution \"symbolic best\", which would have had better in-sample performance for that task (for other tasks we don't know if it was considered)."
   ]
  },
  {
   "cell_type": "markdown",
   "metadata": {},
   "source": [
    "Reversing column order, we confirms there are no ties between any found solutions and benchmark ones (in-sample):"
   ]
  },
  {
   "cell_type": "code",
   "execution_count": 11,
   "metadata": {},
   "outputs": [
    {
     "data": {
      "text/plain": [
       "score-best    115\n",
       "dtype: int64"
      ]
     },
     "execution_count": 11,
     "metadata": {},
     "output_type": "execute_result"
    }
   ],
   "source": [
    "df.loc[in_sample][reversed(df.columns)].idxmax(axis=1).value_counts()"
   ]
  },
  {
   "cell_type": "code",
   "execution_count": 12,
   "metadata": {},
   "outputs": [
    {
     "data": {
      "text/plain": [
       "task    sample-type\n",
       "3       in-sample      score-best\n",
       "6       in-sample      score-best\n",
       "11      in-sample      score-best\n",
       "12      in-sample      score-best\n",
       "14      in-sample      score-best\n",
       "                          ...    \n",
       "168911  in-sample      score-best\n",
       "168912  in-sample      score-best\n",
       "189928  in-sample      score-best\n",
       "190411  in-sample      score-best\n",
       "190412  in-sample      score-best\n",
       "Length: 115, dtype: object"
      ]
     },
     "execution_count": 12,
     "metadata": {},
     "output_type": "execute_result"
    }
   ],
   "source": [
    "df.loc[in_sample][reversed(df.columns)].idxmax(axis=1)"
   ]
  },
  {
   "cell_type": "code",
   "execution_count": null,
   "metadata": {},
   "outputs": [],
   "source": []
  },
  {
   "cell_type": "code",
   "execution_count": null,
   "metadata": {},
   "outputs": [],
   "source": []
  },
  {
   "cell_type": "code",
   "execution_count": null,
   "metadata": {},
   "outputs": [],
   "source": []
  }
 ],
 "metadata": {
  "kernelspec": {
   "display_name": "Python 3",
   "language": "python",
   "name": "python3"
  },
  "language_info": {
   "codemirror_mode": {
    "name": "ipython",
    "version": 3
   },
   "file_extension": ".py",
   "mimetype": "text/x-python",
   "name": "python",
   "nbconvert_exporter": "python",
   "pygments_lexer": "ipython3",
   "version": "3.6.7"
  }
 },
 "nbformat": 4,
 "nbformat_minor": 4
}
